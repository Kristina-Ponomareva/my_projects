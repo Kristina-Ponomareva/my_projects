{
 "cells": [
  {
   "cell_type": "markdown",
   "id": "c52f4d0a",
   "metadata": {},
   "source": [
    "# StackOverflow queries"
   ]
  },
  {
   "cell_type": "markdown",
   "id": "102aff23",
   "metadata": {},
   "source": [
    "StackOverflow is similar to a social network where users ask questions, respond to posts, leave comments, and rate other answers.\n",
    "My task is to extract and analyse data from a database containing information dated in the year 2008 using SQL queries."
   ]
  },
  {
   "cell_type": "code",
   "execution_count": 1,
   "id": "3e55dd68",
   "metadata": {},
   "outputs": [],
   "source": [
    "# libraries import\n",
    "# database connection"
   ]
  },
  {
   "cell_type": "markdown",
   "id": "7a4e4eaa",
   "metadata": {},
   "source": [
    "## Query 1"
   ]
  },
  {
   "cell_type": "markdown",
   "id": "8adde951",
   "metadata": {},
   "source": [
    "**Task:** Select the 10 users who put in the most votes of the Close type."
   ]
  },
  {
   "cell_type": "code",
   "execution_count": 5,
   "id": "a4dbb589",
   "metadata": {},
   "outputs": [
    {
     "data": {
      "text/html": [
       "<div>\n",
       "<style scoped>\n",
       "    .dataframe tbody tr th:only-of-type {\n",
       "        vertical-align: middle;\n",
       "    }\n",
       "\n",
       "    .dataframe tbody tr th {\n",
       "        vertical-align: top;\n",
       "    }\n",
       "\n",
       "    .dataframe thead th {\n",
       "        text-align: right;\n",
       "    }\n",
       "</style>\n",
       "<table border=\"1\" class=\"dataframe\">\n",
       "  <thead>\n",
       "    <tr style=\"text-align: right;\">\n",
       "      <th></th>\n",
       "      <th>user_id</th>\n",
       "      <th>count</th>\n",
       "    </tr>\n",
       "  </thead>\n",
       "  <tbody>\n",
       "    <tr>\n",
       "      <th>0</th>\n",
       "      <td>20646</td>\n",
       "      <td>36</td>\n",
       "    </tr>\n",
       "    <tr>\n",
       "      <th>1</th>\n",
       "      <td>14728</td>\n",
       "      <td>36</td>\n",
       "    </tr>\n",
       "    <tr>\n",
       "      <th>2</th>\n",
       "      <td>27163</td>\n",
       "      <td>29</td>\n",
       "    </tr>\n",
       "    <tr>\n",
       "      <th>3</th>\n",
       "      <td>41158</td>\n",
       "      <td>24</td>\n",
       "    </tr>\n",
       "    <tr>\n",
       "      <th>4</th>\n",
       "      <td>24820</td>\n",
       "      <td>23</td>\n",
       "    </tr>\n",
       "    <tr>\n",
       "      <th>5</th>\n",
       "      <td>9345</td>\n",
       "      <td>23</td>\n",
       "    </tr>\n",
       "    <tr>\n",
       "      <th>6</th>\n",
       "      <td>3241</td>\n",
       "      <td>23</td>\n",
       "    </tr>\n",
       "    <tr>\n",
       "      <th>7</th>\n",
       "      <td>44330</td>\n",
       "      <td>20</td>\n",
       "    </tr>\n",
       "    <tr>\n",
       "      <th>8</th>\n",
       "      <td>38426</td>\n",
       "      <td>19</td>\n",
       "    </tr>\n",
       "    <tr>\n",
       "      <th>9</th>\n",
       "      <td>19074</td>\n",
       "      <td>19</td>\n",
       "    </tr>\n",
       "  </tbody>\n",
       "</table>\n",
       "</div>"
      ],
      "text/plain": [
       "   user_id  count\n",
       "0    20646     36\n",
       "1    14728     36\n",
       "2    27163     29\n",
       "3    41158     24\n",
       "4    24820     23\n",
       "5     9345     23\n",
       "6     3241     23\n",
       "7    44330     20\n",
       "8    38426     19\n",
       "9    19074     19"
      ]
     },
     "execution_count": 5,
     "metadata": {},
     "output_type": "execute_result"
    }
   ],
   "source": [
    "query = '''\n",
    "SELECT user_id, COUNT(id)\n",
    "FROM stackoverflow.votes\n",
    "WHERE vote_type_id IN (SELECT id\n",
    "                        FROM stackoverflow.vote_types\n",
    "                        WHERE name = 'Close')\n",
    "GROUP BY user_id\n",
    "ORDER BY COUNT(id) DESC, user_id DESC\n",
    "LIMIT(10)\n",
    "'''\n",
    "query = pd.read_sql_query(query, con=engine) \n",
    "query"
   ]
  },
  {
   "cell_type": "markdown",
   "id": "c9b4f44b",
   "metadata": {},
   "source": [
    "## Query 2"
   ]
  },
  {
   "cell_type": "markdown",
   "id": "fb092c0e",
   "metadata": {},
   "source": [
    "**Task:** Calculate the average score that each user's post receives."
   ]
  },
  {
   "cell_type": "code",
   "execution_count": 4,
   "id": "5e6716ce",
   "metadata": {},
   "outputs": [
    {
     "data": {
      "text/html": [
       "<div>\n",
       "<style scoped>\n",
       "    .dataframe tbody tr th:only-of-type {\n",
       "        vertical-align: middle;\n",
       "    }\n",
       "\n",
       "    .dataframe tbody tr th {\n",
       "        vertical-align: top;\n",
       "    }\n",
       "\n",
       "    .dataframe thead th {\n",
       "        text-align: right;\n",
       "    }\n",
       "</style>\n",
       "<table border=\"1\" class=\"dataframe\">\n",
       "  <thead>\n",
       "    <tr style=\"text-align: right;\">\n",
       "      <th></th>\n",
       "      <th>title</th>\n",
       "      <th>user_id</th>\n",
       "      <th>score</th>\n",
       "      <th>round</th>\n",
       "    </tr>\n",
       "  </thead>\n",
       "  <tbody>\n",
       "    <tr>\n",
       "      <th>0</th>\n",
       "      <td>Diagnosing Deadlocks in SQL Server 2005</td>\n",
       "      <td>1</td>\n",
       "      <td>82</td>\n",
       "      <td>573.0</td>\n",
       "    </tr>\n",
       "    <tr>\n",
       "      <th>1</th>\n",
       "      <td>How do I calculate someone's age in C#?</td>\n",
       "      <td>1</td>\n",
       "      <td>1743</td>\n",
       "      <td>573.0</td>\n",
       "    </tr>\n",
       "    <tr>\n",
       "      <th>2</th>\n",
       "      <td>Why doesn't IE7 copy &lt;pre&gt;&lt;code&gt; blocks to the...</td>\n",
       "      <td>1</td>\n",
       "      <td>37</td>\n",
       "      <td>573.0</td>\n",
       "    </tr>\n",
       "    <tr>\n",
       "      <th>3</th>\n",
       "      <td>Calculate relative time in C#</td>\n",
       "      <td>1</td>\n",
       "      <td>1348</td>\n",
       "      <td>573.0</td>\n",
       "    </tr>\n",
       "    <tr>\n",
       "      <th>4</th>\n",
       "      <td>Wrapping StopWatch timing with a delegate or l...</td>\n",
       "      <td>1</td>\n",
       "      <td>92</td>\n",
       "      <td>573.0</td>\n",
       "    </tr>\n",
       "    <tr>\n",
       "      <th>...</th>\n",
       "      <td>...</td>\n",
       "      <td>...</td>\n",
       "      <td>...</td>\n",
       "      <td>...</td>\n",
       "    </tr>\n",
       "    <tr>\n",
       "      <th>47349</th>\n",
       "      <td>Multi-lingual projects in Visual Studio</td>\n",
       "      <td>3742716</td>\n",
       "      <td>1</td>\n",
       "      <td>1.0</td>\n",
       "    </tr>\n",
       "    <tr>\n",
       "      <th>47350</th>\n",
       "      <td>Change datatype when importing Excel file into...</td>\n",
       "      <td>3930756</td>\n",
       "      <td>5</td>\n",
       "      <td>5.0</td>\n",
       "    </tr>\n",
       "    <tr>\n",
       "      <th>47351</th>\n",
       "      <td>How to host a Silverlight app in a Sharepoint ...</td>\n",
       "      <td>4020932</td>\n",
       "      <td>8</td>\n",
       "      <td>8.0</td>\n",
       "    </tr>\n",
       "    <tr>\n",
       "      <th>47352</th>\n",
       "      <td>Getting counts for a paged SQL search stored p...</td>\n",
       "      <td>5696608</td>\n",
       "      <td>2</td>\n",
       "      <td>2.0</td>\n",
       "    </tr>\n",
       "    <tr>\n",
       "      <th>47353</th>\n",
       "      <td>Reuse of SQL stored procedures across applicat...</td>\n",
       "      <td>5696608</td>\n",
       "      <td>2</td>\n",
       "      <td>2.0</td>\n",
       "    </tr>\n",
       "  </tbody>\n",
       "</table>\n",
       "<p>47354 rows × 4 columns</p>\n",
       "</div>"
      ],
      "text/plain": [
       "                                                   title  user_id  score  \\\n",
       "0                Diagnosing Deadlocks in SQL Server 2005        1     82   \n",
       "1                How do I calculate someone's age in C#?        1   1743   \n",
       "2      Why doesn't IE7 copy <pre><code> blocks to the...        1     37   \n",
       "3                          Calculate relative time in C#        1   1348   \n",
       "4      Wrapping StopWatch timing with a delegate or l...        1     92   \n",
       "...                                                  ...      ...    ...   \n",
       "47349            Multi-lingual projects in Visual Studio  3742716      1   \n",
       "47350  Change datatype when importing Excel file into...  3930756      5   \n",
       "47351  How to host a Silverlight app in a Sharepoint ...  4020932      8   \n",
       "47352  Getting counts for a paged SQL search stored p...  5696608      2   \n",
       "47353  Reuse of SQL stored procedures across applicat...  5696608      2   \n",
       "\n",
       "       round  \n",
       "0      573.0  \n",
       "1      573.0  \n",
       "2      573.0  \n",
       "3      573.0  \n",
       "4      573.0  \n",
       "...      ...  \n",
       "47349    1.0  \n",
       "47350    5.0  \n",
       "47351    8.0  \n",
       "47352    2.0  \n",
       "47353    2.0  \n",
       "\n",
       "[47354 rows x 4 columns]"
      ]
     },
     "execution_count": 4,
     "metadata": {},
     "output_type": "execute_result"
    }
   ],
   "source": [
    "query = '''\n",
    "SELECT title, user_id, score,\n",
    "        ROUND(AVG(score) OVER (PARTITION BY user_id))\n",
    "FROM stackoverflow.posts\n",
    "WHERE title IS NOT NULL AND score != 0\n",
    "'''\n",
    "query = pd.read_sql_query(query, con=engine) \n",
    "query"
   ]
  },
  {
   "cell_type": "markdown",
   "id": "accb7357",
   "metadata": {},
   "source": [
    "## Query 3"
   ]
  },
  {
   "cell_type": "markdown",
   "id": "47cc4f97",
   "metadata": {},
   "source": [
    "**Task:** Display the titles of posts written by users who have received more than 1000 badges."
   ]
  },
  {
   "cell_type": "code",
   "execution_count": 12,
   "id": "469962a7",
   "metadata": {},
   "outputs": [
    {
     "data": {
      "text/html": [
       "<div>\n",
       "<style scoped>\n",
       "    .dataframe tbody tr th:only-of-type {\n",
       "        vertical-align: middle;\n",
       "    }\n",
       "\n",
       "    .dataframe tbody tr th {\n",
       "        vertical-align: top;\n",
       "    }\n",
       "\n",
       "    .dataframe thead th {\n",
       "        text-align: right;\n",
       "    }\n",
       "</style>\n",
       "<table border=\"1\" class=\"dataframe\">\n",
       "  <thead>\n",
       "    <tr style=\"text-align: right;\">\n",
       "      <th></th>\n",
       "      <th>title</th>\n",
       "    </tr>\n",
       "  </thead>\n",
       "  <tbody>\n",
       "    <tr>\n",
       "      <th>0</th>\n",
       "      <td>What's the strangest corner case you've seen i...</td>\n",
       "    </tr>\n",
       "    <tr>\n",
       "      <th>1</th>\n",
       "      <td>What's the hardest or most misunderstood aspec...</td>\n",
       "    </tr>\n",
       "    <tr>\n",
       "      <th>2</th>\n",
       "      <td>What are the correct version numbers for C#?</td>\n",
       "    </tr>\n",
       "    <tr>\n",
       "      <th>3</th>\n",
       "      <td>Project management to go with GitHub</td>\n",
       "    </tr>\n",
       "  </tbody>\n",
       "</table>\n",
       "</div>"
      ],
      "text/plain": [
       "                                               title\n",
       "0  What's the strangest corner case you've seen i...\n",
       "1  What's the hardest or most misunderstood aspec...\n",
       "2       What are the correct version numbers for C#?\n",
       "3               Project management to go with GitHub"
      ]
     },
     "execution_count": 12,
     "metadata": {},
     "output_type": "execute_result"
    }
   ],
   "source": [
    "query = '''\n",
    "SELECT title\n",
    "FROM stackoverflow.posts\n",
    "WHERE user_id IN (\n",
    "            SELECT user_id\n",
    "            FROM stackoverflow.badges\n",
    "            GROUP BY user_id\n",
    "            HAVING count(id) > 1000)\n",
    "AND title IS NOT NULL\n",
    "'''\n",
    "query = pd.read_sql_query(query, con=engine) \n",
    "query"
   ]
  },
  {
   "cell_type": "markdown",
   "id": "538a66c7",
   "metadata": {},
   "source": [
    "## Query 4"
   ]
  },
  {
   "cell_type": "markdown",
   "id": "6de42ea3",
   "metadata": {},
   "source": [
    "**Task:** \n",
    "\n",
    "Retrieve data about users from the United States, dividing them into three groups based on the number of profile views. Display the leaders of each group – users who have accumulated the maximum number of views within their respective groups."
   ]
  },
  {
   "cell_type": "code",
   "execution_count": 19,
   "id": "891fb928",
   "metadata": {},
   "outputs": [
    {
     "data": {
      "text/html": [
       "<div>\n",
       "<style scoped>\n",
       "    .dataframe tbody tr th:only-of-type {\n",
       "        vertical-align: middle;\n",
       "    }\n",
       "\n",
       "    .dataframe tbody tr th {\n",
       "        vertical-align: top;\n",
       "    }\n",
       "\n",
       "    .dataframe thead th {\n",
       "        text-align: right;\n",
       "    }\n",
       "</style>\n",
       "<table border=\"1\" class=\"dataframe\">\n",
       "  <thead>\n",
       "    <tr style=\"text-align: right;\">\n",
       "      <th></th>\n",
       "      <th>id</th>\n",
       "      <th>rank</th>\n",
       "      <th>views</th>\n",
       "    </tr>\n",
       "  </thead>\n",
       "  <tbody>\n",
       "    <tr>\n",
       "      <th>0</th>\n",
       "      <td>16587</td>\n",
       "      <td>1</td>\n",
       "      <td>62813</td>\n",
       "    </tr>\n",
       "    <tr>\n",
       "      <th>1</th>\n",
       "      <td>9094</td>\n",
       "      <td>2</td>\n",
       "      <td>349</td>\n",
       "    </tr>\n",
       "    <tr>\n",
       "      <th>2</th>\n",
       "      <td>9585</td>\n",
       "      <td>2</td>\n",
       "      <td>349</td>\n",
       "    </tr>\n",
       "    <tr>\n",
       "      <th>3</th>\n",
       "      <td>15079</td>\n",
       "      <td>2</td>\n",
       "      <td>349</td>\n",
       "    </tr>\n",
       "    <tr>\n",
       "      <th>4</th>\n",
       "      <td>33437</td>\n",
       "      <td>2</td>\n",
       "      <td>349</td>\n",
       "    </tr>\n",
       "  </tbody>\n",
       "</table>\n",
       "</div>"
      ],
      "text/plain": [
       "      id  rank  views\n",
       "0  16587     1  62813\n",
       "1   9094     2    349\n",
       "2   9585     2    349\n",
       "3  15079     2    349\n",
       "4  33437     2    349"
      ]
     },
     "execution_count": 19,
     "metadata": {},
     "output_type": "execute_result"
    }
   ],
   "source": [
    "query = '''\n",
    "WITH a  AS (SELECT *, \n",
    "        MAX(views) OVER (PARTITION BY rank) AS max_value\n",
    "FROM (SELECT id, views, \n",
    "        CASE\n",
    "            WHEN views < 100 THEN 3\n",
    "            WHEN views < 350 THEN 2\n",
    "            ELSE 1           \n",
    "        END AS rank\n",
    "FROM stackoverflow.users\n",
    "WHERE location LIKE '%%United States%%' AND views > 0) AS info)\n",
    "\n",
    "SELECT id, rank, views\n",
    "FROM a\n",
    "WHERE max_value = views\n",
    "ORDER BY views DESC, id\n",
    "'''\n",
    "query = pd.read_sql_query(query, con=engine) \n",
    "query.head()"
   ]
  },
  {
   "cell_type": "markdown",
   "id": "84a29df8",
   "metadata": {},
   "source": [
    "## Query 5"
   ]
  },
  {
   "cell_type": "markdown",
   "id": "8243ec25",
   "metadata": {},
   "source": [
    "**Task:** For each user who has written at least one post, find the interval between the registration time and the time of creating their first post."
   ]
  },
  {
   "cell_type": "code",
   "execution_count": 21,
   "id": "4f9827eb",
   "metadata": {},
   "outputs": [
    {
     "data": {
      "text/html": [
       "<div>\n",
       "<style scoped>\n",
       "    .dataframe tbody tr th:only-of-type {\n",
       "        vertical-align: middle;\n",
       "    }\n",
       "\n",
       "    .dataframe tbody tr th {\n",
       "        vertical-align: top;\n",
       "    }\n",
       "\n",
       "    .dataframe thead th {\n",
       "        text-align: right;\n",
       "    }\n",
       "</style>\n",
       "<table border=\"1\" class=\"dataframe\">\n",
       "  <thead>\n",
       "    <tr style=\"text-align: right;\">\n",
       "      <th></th>\n",
       "      <th>user_id</th>\n",
       "      <th>?column?</th>\n",
       "    </tr>\n",
       "  </thead>\n",
       "  <tbody>\n",
       "    <tr>\n",
       "      <th>0</th>\n",
       "      <td>41040</td>\n",
       "      <td>0 days 00:20:34</td>\n",
       "    </tr>\n",
       "    <tr>\n",
       "      <th>1</th>\n",
       "      <td>18721</td>\n",
       "      <td>0 days 00:17:46</td>\n",
       "    </tr>\n",
       "    <tr>\n",
       "      <th>2</th>\n",
       "      <td>279</td>\n",
       "      <td>2 days 00:07:41</td>\n",
       "    </tr>\n",
       "    <tr>\n",
       "      <th>3</th>\n",
       "      <td>36804</td>\n",
       "      <td>0 days 00:13:25</td>\n",
       "    </tr>\n",
       "    <tr>\n",
       "      <th>4</th>\n",
       "      <td>19068</td>\n",
       "      <td>1 days 01:54:55</td>\n",
       "    </tr>\n",
       "  </tbody>\n",
       "</table>\n",
       "</div>"
      ],
      "text/plain": [
       "   user_id        ?column?\n",
       "0    41040 0 days 00:20:34\n",
       "1    18721 0 days 00:17:46\n",
       "2      279 2 days 00:07:41\n",
       "3    36804 0 days 00:13:25\n",
       "4    19068 1 days 01:54:55"
      ]
     },
     "execution_count": 21,
     "metadata": {},
     "output_type": "execute_result"
    }
   ],
   "source": [
    "query = '''\n",
    "WITH a AS (SELECT DISTINCT user_id,\n",
    "        FIRST_VALUE(creation_date) OVER (PARTITION BY user_id ORDER BY creation_date) AS first_post\n",
    "FROM stackoverflow.posts)\n",
    "\n",
    "SELECT a.user_id, \n",
    "         first_post - creation_date\n",
    "FROM a\n",
    "LEFT JOIN stackoverflow.users AS u ON a.user_id = u.id\n",
    "'''\n",
    "query = pd.read_sql_query(query, con=engine) \n",
    "query.head()"
   ]
  },
  {
   "cell_type": "markdown",
   "id": "9052aa76",
   "metadata": {},
   "source": [
    "## Query 6"
   ]
  },
  {
   "cell_type": "markdown",
   "id": "cb30b79a",
   "metadata": {},
   "source": [
    "**Task:**\n",
    "\n",
    "Output the number of posts for the year 2008, categorized by months. Select posts from users who registered in September 2008 and made at least one post in December of the same year."
   ]
  },
  {
   "cell_type": "code",
   "execution_count": 22,
   "id": "eb09c1bd",
   "metadata": {},
   "outputs": [
    {
     "data": {
      "text/html": [
       "<div>\n",
       "<style scoped>\n",
       "    .dataframe tbody tr th:only-of-type {\n",
       "        vertical-align: middle;\n",
       "    }\n",
       "\n",
       "    .dataframe tbody tr th {\n",
       "        vertical-align: top;\n",
       "    }\n",
       "\n",
       "    .dataframe thead th {\n",
       "        text-align: right;\n",
       "    }\n",
       "</style>\n",
       "<table border=\"1\" class=\"dataframe\">\n",
       "  <thead>\n",
       "    <tr style=\"text-align: right;\">\n",
       "      <th></th>\n",
       "      <th>date_trunc</th>\n",
       "      <th>count</th>\n",
       "    </tr>\n",
       "  </thead>\n",
       "  <tbody>\n",
       "    <tr>\n",
       "      <th>0</th>\n",
       "      <td>2008-12-01</td>\n",
       "      <td>17641</td>\n",
       "    </tr>\n",
       "    <tr>\n",
       "      <th>1</th>\n",
       "      <td>2008-11-01</td>\n",
       "      <td>18294</td>\n",
       "    </tr>\n",
       "    <tr>\n",
       "      <th>2</th>\n",
       "      <td>2008-10-01</td>\n",
       "      <td>27171</td>\n",
       "    </tr>\n",
       "    <tr>\n",
       "      <th>3</th>\n",
       "      <td>2008-09-01</td>\n",
       "      <td>24870</td>\n",
       "    </tr>\n",
       "    <tr>\n",
       "      <th>4</th>\n",
       "      <td>2008-08-01</td>\n",
       "      <td>32</td>\n",
       "    </tr>\n",
       "  </tbody>\n",
       "</table>\n",
       "</div>"
      ],
      "text/plain": [
       "   date_trunc  count\n",
       "0  2008-12-01  17641\n",
       "1  2008-11-01  18294\n",
       "2  2008-10-01  27171\n",
       "3  2008-09-01  24870\n",
       "4  2008-08-01     32"
      ]
     },
     "execution_count": 22,
     "metadata": {},
     "output_type": "execute_result"
    }
   ],
   "source": [
    "query = '''\n",
    "SELECT CAST (DATE_TRUNC ('month' , creation_date) AS date),\n",
    "        COUNT(id)\n",
    "FROM stackoverflow.posts\n",
    "WHERE user_id IN (SELECT u.id\n",
    "FROM stackoverflow.users AS u\n",
    "JOIN stackoverflow.posts AS p ON u.id = p.user_id\n",
    "WHERE CAST (DATE_TRUNC ('month' , u.creation_date) AS date) = '2008-09-01' \n",
    "        AND CAST (DATE_TRUNC ('month' , p.creation_date) AS date) = '2008-12-01')\n",
    "GROUP BY CAST (DATE_TRUNC ('month' , creation_date) AS date)\n",
    "ORDER BY CAST (DATE_TRUNC ('month' , creation_date) AS date) DESC\n",
    "'''\n",
    "query = pd.read_sql_query(query, con=engine) \n",
    "query"
   ]
  },
  {
   "cell_type": "markdown",
   "id": "aa6c3fc2",
   "metadata": {},
   "source": [
    "## Query 7"
   ]
  },
  {
   "cell_type": "markdown",
   "id": "c0b18565",
   "metadata": {},
   "source": [
    "**Task:**\n",
    "\n",
    "Calculate the average number of days users interacted with the platform during the period from December 1st to December 7th, 2008, inclusive. For each user, select the days on which they published at least one post."
   ]
  },
  {
   "cell_type": "code",
   "execution_count": 23,
   "id": "01dc4ea1",
   "metadata": {},
   "outputs": [
    {
     "data": {
      "text/html": [
       "<div>\n",
       "<style scoped>\n",
       "    .dataframe tbody tr th:only-of-type {\n",
       "        vertical-align: middle;\n",
       "    }\n",
       "\n",
       "    .dataframe tbody tr th {\n",
       "        vertical-align: top;\n",
       "    }\n",
       "\n",
       "    .dataframe thead th {\n",
       "        text-align: right;\n",
       "    }\n",
       "</style>\n",
       "<table border=\"1\" class=\"dataframe\">\n",
       "  <thead>\n",
       "    <tr style=\"text-align: right;\">\n",
       "      <th></th>\n",
       "      <th>round</th>\n",
       "    </tr>\n",
       "  </thead>\n",
       "  <tbody>\n",
       "    <tr>\n",
       "      <th>0</th>\n",
       "      <td>2.0</td>\n",
       "    </tr>\n",
       "  </tbody>\n",
       "</table>\n",
       "</div>"
      ],
      "text/plain": [
       "   round\n",
       "0    2.0"
      ]
     },
     "execution_count": 23,
     "metadata": {},
     "output_type": "execute_result"
    }
   ],
   "source": [
    "query = '''\n",
    "SELECT ROUND(AVG(days))\n",
    "FROM ( SELECT user_id, COUNT(day) AS days\n",
    "        FROM (SELECT DISTINCT user_id,\n",
    "                creation_date::date AS day,\n",
    "                  FIRST_VALUE(creation_date::date) OVER (PARTITION BY user_id,creation_date::date )\n",
    "            FROM stackoverflow.posts\n",
    "            WHERE creation_date::date BETWEEN '2008-12-01' AND '2008-12-07') t1\n",
    "GROUP BY user_id) t2\n",
    "'''\n",
    "query = pd.read_sql_query(query, con=engine) \n",
    "query"
   ]
  },
  {
   "cell_type": "markdown",
   "id": "f4458d21",
   "metadata": {},
   "source": [
    "**Conclusion**\n",
    "\n",
    "Overall, users interacted with the platform only two times during this period."
   ]
  },
  {
   "cell_type": "markdown",
   "id": "00e03610",
   "metadata": {},
   "source": [
    "## Query 8"
   ]
  },
  {
   "cell_type": "markdown",
   "id": "21fe170f",
   "metadata": {},
   "source": [
    "**Task:**\n",
    "\n",
    "\n",
    "Retrieve the activity data for the user who posted the most in October 2008."
   ]
  },
  {
   "cell_type": "code",
   "execution_count": 24,
   "id": "4e2c3e9a",
   "metadata": {},
   "outputs": [
    {
     "data": {
      "text/html": [
       "<div>\n",
       "<style scoped>\n",
       "    .dataframe tbody tr th:only-of-type {\n",
       "        vertical-align: middle;\n",
       "    }\n",
       "\n",
       "    .dataframe tbody tr th {\n",
       "        vertical-align: top;\n",
       "    }\n",
       "\n",
       "    .dataframe thead th {\n",
       "        text-align: right;\n",
       "    }\n",
       "</style>\n",
       "<table border=\"1\" class=\"dataframe\">\n",
       "  <thead>\n",
       "    <tr style=\"text-align: right;\">\n",
       "      <th></th>\n",
       "      <th>extract</th>\n",
       "      <th>max</th>\n",
       "    </tr>\n",
       "  </thead>\n",
       "  <tbody>\n",
       "    <tr>\n",
       "      <th>0</th>\n",
       "      <td>40.0</td>\n",
       "      <td>2008-10-05 09:00:58</td>\n",
       "    </tr>\n",
       "    <tr>\n",
       "      <th>1</th>\n",
       "      <td>41.0</td>\n",
       "      <td>2008-10-12 21:22:23</td>\n",
       "    </tr>\n",
       "    <tr>\n",
       "      <th>2</th>\n",
       "      <td>42.0</td>\n",
       "      <td>2008-10-19 06:49:30</td>\n",
       "    </tr>\n",
       "    <tr>\n",
       "      <th>3</th>\n",
       "      <td>43.0</td>\n",
       "      <td>2008-10-26 21:44:36</td>\n",
       "    </tr>\n",
       "    <tr>\n",
       "      <th>4</th>\n",
       "      <td>44.0</td>\n",
       "      <td>2008-10-31 22:16:01</td>\n",
       "    </tr>\n",
       "  </tbody>\n",
       "</table>\n",
       "</div>"
      ],
      "text/plain": [
       "   extract                 max\n",
       "0     40.0 2008-10-05 09:00:58\n",
       "1     41.0 2008-10-12 21:22:23\n",
       "2     42.0 2008-10-19 06:49:30\n",
       "3     43.0 2008-10-26 21:44:36\n",
       "4     44.0 2008-10-31 22:16:01"
      ]
     },
     "execution_count": 24,
     "metadata": {},
     "output_type": "execute_result"
    }
   ],
   "source": [
    "query = '''\n",
    "SELECT EXTRACT (WEEK FROM creation_date), MAX(creation_date)\n",
    "FROM stackoverflow.posts\n",
    "WHERE user_id IN (SELECT user_id\n",
    "                    FROM stackoverflow.posts\n",
    "                    GROUP BY user_id\n",
    "                    ORDER BY  COUNT(id) DESC\n",
    "                    LIMIT 1)\n",
    "AND CAST (DATE_TRUNC ('month', creation_date) AS date) = '2008-10-01'\n",
    "GROUP BY EXTRACT (WEEK FROM creation_date)\n",
    "'''\n",
    "query = pd.read_sql_query(query, con=engine) \n",
    "query"
   ]
  },
  {
   "cell_type": "markdown",
   "id": "704688d5",
   "metadata": {},
   "source": [
    "## Query 9"
   ]
  },
  {
   "cell_type": "markdown",
   "id": "c30e1b43",
   "metadata": {},
   "source": [
    "**Task:**\n",
    "\n",
    "What percentage changed each month between September 1st and December 31st, 2008?"
   ]
  },
  {
   "cell_type": "code",
   "execution_count": 34,
   "id": "1ac71044",
   "metadata": {},
   "outputs": [
    {
     "data": {
      "text/html": [
       "<div>\n",
       "<style scoped>\n",
       "    .dataframe tbody tr th:only-of-type {\n",
       "        vertical-align: middle;\n",
       "    }\n",
       "\n",
       "    .dataframe tbody tr th {\n",
       "        vertical-align: top;\n",
       "    }\n",
       "\n",
       "    .dataframe thead th {\n",
       "        text-align: right;\n",
       "    }\n",
       "</style>\n",
       "<table border=\"1\" class=\"dataframe\">\n",
       "  <thead>\n",
       "    <tr style=\"text-align: right;\">\n",
       "      <th></th>\n",
       "      <th>month</th>\n",
       "      <th>posts</th>\n",
       "      <th>round</th>\n",
       "    </tr>\n",
       "  </thead>\n",
       "  <tbody>\n",
       "    <tr>\n",
       "      <th>0</th>\n",
       "      <td>9.0</td>\n",
       "      <td>70371</td>\n",
       "      <td>NaN</td>\n",
       "    </tr>\n",
       "    <tr>\n",
       "      <th>1</th>\n",
       "      <td>10.0</td>\n",
       "      <td>63102</td>\n",
       "      <td>-10.33</td>\n",
       "    </tr>\n",
       "    <tr>\n",
       "      <th>2</th>\n",
       "      <td>11.0</td>\n",
       "      <td>46975</td>\n",
       "      <td>-25.56</td>\n",
       "    </tr>\n",
       "    <tr>\n",
       "      <th>3</th>\n",
       "      <td>12.0</td>\n",
       "      <td>44592</td>\n",
       "      <td>-5.07</td>\n",
       "    </tr>\n",
       "  </tbody>\n",
       "</table>\n",
       "</div>"
      ],
      "text/plain": [
       "   month  posts  round\n",
       "0    9.0  70371    NaN\n",
       "1   10.0  63102 -10.33\n",
       "2   11.0  46975 -25.56\n",
       "3   12.0  44592  -5.07"
      ]
     },
     "execution_count": 34,
     "metadata": {},
     "output_type": "execute_result"
    }
   ],
   "source": [
    "query = '''\n",
    "SELECT *, \n",
    "        ROUND((((posts::numeric) /  LAG(posts) OVER (ORDER BY month) *100)-100),2)\n",
    "FROM (SELECT EXTRACT(MONTH FROM creation_date) AS month, \n",
    "        COUNT(id) posts\n",
    "FROM stackoverflow.posts\n",
    "WHERE CAST (DATE_TRUNC ('day' , creation_date) AS date) BETWEEN '2008-09-01' AND '2008-12-31'\n",
    "GROUP BY EXTRACT(MONTH FROM creation_date)) t1\n",
    "'''\n",
    "query = pd.read_sql_query(query, con=engine) \n",
    "query"
   ]
  },
  {
   "cell_type": "code",
   "execution_count": 93,
   "id": "b59254ed",
   "metadata": {},
   "outputs": [
    {
     "data": {
      "image/png": "[encoded data removed]",
      "text/plain": [
       "<Figure size 640x480 with 1 Axes>"
      ]
     },
     "metadata": {},
     "output_type": "display_data"
    }
   ],
   "source": [
    "ax = sns.barplot(y=query['posts'], x=['September', 'October', 'November', 'December'])\n",
    "for i, value in enumerate(query['posts']):\n",
    "    ax.text(i, value, str(value), ha='center', va='bottom')\n",
    "plt.title('Number of posts by month')\n",
    "plt.ylabel('Number of posts');"
   ]
  },
  {
   "cell_type": "markdown",
   "id": "97d49f52",
   "metadata": {},
   "source": [
    "## Query 10"
   ]
  },
  {
   "cell_type": "markdown",
   "id": "40289000",
   "metadata": {},
   "source": [
    "**Task:**\n",
    "\n",
    "Select 10 users by the number of badges received between November 15 and December 15, 2008 inclusive."
   ]
  },
  {
   "cell_type": "code",
   "execution_count": 5,
   "id": "965f00e7",
   "metadata": {},
   "outputs": [
    {
     "data": {
      "text/html": [
       "<div>\n",
       "<style scoped>\n",
       "    .dataframe tbody tr th:only-of-type {\n",
       "        vertical-align: middle;\n",
       "    }\n",
       "\n",
       "    .dataframe tbody tr th {\n",
       "        vertical-align: top;\n",
       "    }\n",
       "\n",
       "    .dataframe thead th {\n",
       "        text-align: right;\n",
       "    }\n",
       "</style>\n",
       "<table border=\"1\" class=\"dataframe\">\n",
       "  <thead>\n",
       "    <tr style=\"text-align: right;\">\n",
       "      <th></th>\n",
       "      <th>user_id</th>\n",
       "      <th>badges</th>\n",
       "      <th>dense_rank</th>\n",
       "    </tr>\n",
       "  </thead>\n",
       "  <tbody>\n",
       "    <tr>\n",
       "      <th>0</th>\n",
       "      <td>22656</td>\n",
       "      <td>149</td>\n",
       "      <td>1</td>\n",
       "    </tr>\n",
       "    <tr>\n",
       "      <th>1</th>\n",
       "      <td>34509</td>\n",
       "      <td>45</td>\n",
       "      <td>2</td>\n",
       "    </tr>\n",
       "    <tr>\n",
       "      <th>2</th>\n",
       "      <td>1288</td>\n",
       "      <td>40</td>\n",
       "      <td>3</td>\n",
       "    </tr>\n",
       "    <tr>\n",
       "      <th>3</th>\n",
       "      <td>5190</td>\n",
       "      <td>31</td>\n",
       "      <td>4</td>\n",
       "    </tr>\n",
       "    <tr>\n",
       "      <th>4</th>\n",
       "      <td>13913</td>\n",
       "      <td>30</td>\n",
       "      <td>5</td>\n",
       "    </tr>\n",
       "    <tr>\n",
       "      <th>5</th>\n",
       "      <td>893</td>\n",
       "      <td>28</td>\n",
       "      <td>6</td>\n",
       "    </tr>\n",
       "    <tr>\n",
       "      <th>6</th>\n",
       "      <td>10661</td>\n",
       "      <td>28</td>\n",
       "      <td>6</td>\n",
       "    </tr>\n",
       "    <tr>\n",
       "      <th>7</th>\n",
       "      <td>33213</td>\n",
       "      <td>25</td>\n",
       "      <td>7</td>\n",
       "    </tr>\n",
       "    <tr>\n",
       "      <th>8</th>\n",
       "      <td>12950</td>\n",
       "      <td>23</td>\n",
       "      <td>8</td>\n",
       "    </tr>\n",
       "    <tr>\n",
       "      <th>9</th>\n",
       "      <td>25222</td>\n",
       "      <td>20</td>\n",
       "      <td>9</td>\n",
       "    </tr>\n",
       "  </tbody>\n",
       "</table>\n",
       "</div>"
      ],
      "text/plain": [
       "   user_id  badges  dense_rank\n",
       "0    22656     149           1\n",
       "1    34509      45           2\n",
       "2     1288      40           3\n",
       "3     5190      31           4\n",
       "4    13913      30           5\n",
       "5      893      28           6\n",
       "6    10661      28           6\n",
       "7    33213      25           7\n",
       "8    12950      23           8\n",
       "9    25222      20           9"
      ]
     },
     "execution_count": 5,
     "metadata": {},
     "output_type": "execute_result"
    }
   ],
   "source": [
    "query = '''\n",
    "WITH a AS (SELECT user_id, COUNT(id) AS badges\n",
    "FROM stackoverflow.badges\n",
    "WHERE creation_date:: date BETWEEN '2008-11-15' AND '2008-12-15'\n",
    "GROUP BY user_id)\n",
    "\n",
    "SELECT *,\n",
    "        DENSE_RANK() OVER (ORDER BY badges DESC)\n",
    "FROM a\n",
    "LIMIT 10\n",
    "'''\n",
    "query = pd.read_sql_query(query, con=engine) \n",
    "query"
   ]
  }
 ],
 "metadata": {
  "kernelspec": {
   "display_name": "Python 3 (ipykernel)",
   "language": "python",
   "name": "python3"
  },
  "language_info": {
   "codemirror_mode": {
    "name": "ipython",
    "version": 3
   },
   "file_extension": ".py",
   "mimetype": "text/x-python",
   "name": "python",
   "nbconvert_exporter": "python",
   "pygments_lexer": "ipython3",
   "version": "3.9.13"
  }
 },
 "nbformat": 4,
 "nbformat_minor": 5
}
