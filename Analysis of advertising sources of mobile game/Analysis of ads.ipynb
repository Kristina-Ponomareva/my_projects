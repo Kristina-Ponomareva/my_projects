{
 "cells": [
  {
   "cell_type": "markdown",
   "metadata": {},
   "source": [
    "# Analysis of advertising sources of mobile game"
   ]
  },
  {
   "cell_type": "markdown",
   "metadata": {},
   "source": [
    "## 1. Introduction"
   ]
  },
  {
   "cell_type": "markdown",
   "metadata": {},
   "source": [
    "### Purpose of the work\n",
    "\n",
    "* To rank channels in terms of cost-effectiveness for acquiring players.\n",
    "\n",
    "* To provide recommendations for identifying the best acquisition channels and optimizing expenses based on the rankings."
   ]
  },
  {
   "cell_type": "markdown",
   "metadata": {},
   "source": [
    "### Work Plan"
   ]
  },
  {
   "cell_type": "markdown",
   "metadata": {},
   "source": [
    "**1 Introduction**\n",
    "\n",
    "**2 Data loading and initial inspection**\n",
    "\n",
    "**3 Data preprocessing**\n",
    "\n",
    "3.1 Data type checking, data conversion (if necessary)\n",
    "\n",
    "3.2 Identification of explicit and implicit duplicates\n",
    "\n",
    "3.3 Checking and filling missing values (if necessary)\n",
    "\n",
    "**4 Research data analysis:**\n",
    "\n",
    "*4.1 Financial metrics*\n",
    "\n",
    "4.1.1 Calculation advertising expenses by channels\n",
    "\n",
    "4.1.2 The share of attracted users by channels\n",
    "\n",
    "4.1.3 The cost of customer acquisition by channels\n",
    "\n",
    "\n",
    "*4.2 Quality of the acquired audience*\n",
    "\n",
    "4.2.1 The median time to complete a level by channels.\n",
    "\n",
    "4.2.2 The median number of buildings constructed by channels.\n",
    "\n",
    "4.2.3 The percentage of players advancing to the second level (project completed) by channels.\n",
    "\n",
    "**5 Hypothesis testing**\n",
    "\n",
    "5.1 Test hypothesis \"time to complete a level depends on the method of completion: through project implementation, through defeating the first player\"\n",
    "\n",
    "5.2 Test hypothesis \"The average number of buildings constructed by players varies depending on the chosen strategy\"\n",
    "\n",
    "**6 Channel rank based on investigated data**\n",
    "\n",
    "**7 Conclusions**\n"
   ]
  },
  {
   "cell_type": "markdown",
   "metadata": {},
   "source": [
    "## **2 Data loading and initial inspection**"
   ]
  },
  {
   "cell_type": "code",
   "execution_count": 1,
   "metadata": {},
   "outputs": [],
   "source": [
    "import pandas as pd\n",
    "from datetime import datetime, timedelta\n",
    "from scipy import stats as st\n",
    "import numpy as np\n",
    "from plotly import graph_objects as go"
   ]
  },
  {
   "cell_type": "code",
   "execution_count": 2,
   "metadata": {},
   "outputs": [],
   "source": [
    "costs, actions, users = (\n",
    "        pd.read_csv('ad_costs.csv'),\n",
    "        pd.read_csv('game_actions.csv'),\n",
    "        pd.read_csv('user_source.csv'))"
   ]
  },
  {
   "cell_type": "markdown",
   "metadata": {},
   "source": [
    "## **3 Data preprocessing**"
   ]
  },
  {
   "cell_type": "markdown",
   "metadata": {},
   "source": [
    "### Costs"
   ]
  },
  {
   "cell_type": "code",
   "execution_count": 3,
   "metadata": {},
   "outputs": [
    {
     "name": "stdout",
     "output_type": "stream",
     "text": [
      "<class 'pandas.core.frame.DataFrame'>\n",
      "RangeIndex: 28 entries, 0 to 27\n",
      "Data columns (total 3 columns):\n",
      " #   Column  Non-Null Count  Dtype  \n",
      "---  ------  --------------  -----  \n",
      " 0   source  28 non-null     object \n",
      " 1   day     28 non-null     object \n",
      " 2   cost    28 non-null     float64\n",
      "dtypes: float64(1), object(2)\n",
      "memory usage: 800.0+ bytes\n"
     ]
    }
   ],
   "source": [
    "costs.info()"
   ]
  },
  {
   "cell_type": "code",
   "execution_count": 4,
   "metadata": {},
   "outputs": [],
   "source": [
    "costs['day'] = pd.to_datetime(costs['day'])"
   ]
  },
  {
   "cell_type": "code",
   "execution_count": 5,
   "metadata": {},
   "outputs": [
    {
     "data": {
      "text/plain": [
       "0"
      ]
     },
     "execution_count": 5,
     "metadata": {},
     "output_type": "execute_result"
    }
   ],
   "source": [
    "costs.duplicated().sum()"
   ]
  },
  {
   "cell_type": "code",
   "execution_count": 6,
   "metadata": {},
   "outputs": [
    {
     "data": {
      "text/plain": [
       "array(['facebook_ads', 'instagram_new_adverts', 'yandex_direct',\n",
       "       'youtube_channel_reklama'], dtype=object)"
      ]
     },
     "execution_count": 6,
     "metadata": {},
     "output_type": "execute_result"
    }
   ],
   "source": [
    "costs['source'].unique()"
   ]
  },
  {
   "cell_type": "markdown",
   "metadata": {},
   "source": [
    "### users"
   ]
  },
  {
   "cell_type": "code",
   "execution_count": 7,
   "metadata": {},
   "outputs": [
    {
     "name": "stdout",
     "output_type": "stream",
     "text": [
      "<class 'pandas.core.frame.DataFrame'>\n",
      "RangeIndex: 13576 entries, 0 to 13575\n",
      "Data columns (total 2 columns):\n",
      " #   Column   Non-Null Count  Dtype \n",
      "---  ------   --------------  ----- \n",
      " 0   user_id  13576 non-null  object\n",
      " 1   source   13576 non-null  object\n",
      "dtypes: object(2)\n",
      "memory usage: 212.2+ KB\n"
     ]
    }
   ],
   "source": [
    "users.info()"
   ]
  },
  {
   "cell_type": "code",
   "execution_count": 8,
   "metadata": {},
   "outputs": [
    {
     "data": {
      "text/plain": [
       "0"
      ]
     },
     "execution_count": 8,
     "metadata": {},
     "output_type": "execute_result"
    }
   ],
   "source": [
    "users.duplicated().sum()"
   ]
  },
  {
   "cell_type": "code",
   "execution_count": 9,
   "metadata": {},
   "outputs": [
    {
     "name": "stdout",
     "output_type": "stream",
     "text": [
      "In both groups: 0\n"
     ]
    }
   ],
   "source": [
    "print( 'In both groups:' , users['user_id'].duplicated().sum())"
   ]
  },
  {
   "cell_type": "code",
   "execution_count": 10,
   "metadata": {},
   "outputs": [
    {
     "data": {
      "text/plain": [
       "array(['facebook_ads', 'yandex_direct', 'youtube_channel_reklama',\n",
       "       'instagram_new_adverts'], dtype=object)"
      ]
     },
     "execution_count": 10,
     "metadata": {},
     "output_type": "execute_result"
    }
   ],
   "source": [
    "users['source'].unique()"
   ]
  },
  {
   "cell_type": "markdown",
   "metadata": {},
   "source": [
    "### actions"
   ]
  },
  {
   "cell_type": "code",
   "execution_count": 11,
   "metadata": {},
   "outputs": [],
   "source": [
    "action = actions"
   ]
  },
  {
   "cell_type": "code",
   "execution_count": 12,
   "metadata": {},
   "outputs": [
    {
     "data": {
      "text/plain": [
       "<pandas.core.groupby.generic.DataFrameGroupBy object at 0x000002C58FA1D040>"
      ]
     },
     "execution_count": 12,
     "metadata": {},
     "output_type": "execute_result"
    }
   ],
   "source": [
    "actions.groupby('event_datetime')"
   ]
  },
  {
   "cell_type": "code",
   "execution_count": 13,
   "metadata": {},
   "outputs": [
    {
     "name": "stdout",
     "output_type": "stream",
     "text": [
      "<class 'pandas.core.frame.DataFrame'>\n",
      "RangeIndex: 135640 entries, 0 to 135639\n",
      "Data columns (total 5 columns):\n",
      " #   Column          Non-Null Count   Dtype \n",
      "---  ------          --------------   ----- \n",
      " 0   event_datetime  135640 non-null  object\n",
      " 1   event           135640 non-null  object\n",
      " 2   building_type   127957 non-null  object\n",
      " 3   user_id         135640 non-null  object\n",
      " 4   project_type    1866 non-null    object\n",
      "dtypes: object(5)\n",
      "memory usage: 5.2+ MB\n"
     ]
    }
   ],
   "source": [
    "actions.info()"
   ]
  },
  {
   "cell_type": "code",
   "execution_count": 14,
   "metadata": {},
   "outputs": [
    {
     "data": {
      "text/plain": [
       "array(['building', 'finished_stage_1', 'project'], dtype=object)"
      ]
     },
     "execution_count": 14,
     "metadata": {},
     "output_type": "execute_result"
    }
   ],
   "source": [
    "actions['event'].unique()"
   ]
  },
  {
   "cell_type": "code",
   "execution_count": 15,
   "metadata": {},
   "outputs": [
    {
     "data": {
      "text/plain": [
       "array([nan, 'satellite_orbital_assembly'], dtype=object)"
      ]
     },
     "execution_count": 15,
     "metadata": {},
     "output_type": "execute_result"
    }
   ],
   "source": [
    "actions['project_type'].unique()"
   ]
  },
  {
   "cell_type": "code",
   "execution_count": 16,
   "metadata": {},
   "outputs": [],
   "source": [
    "actions['event_datetime'] = pd.to_datetime(actions['event_datetime'], format='%Y.%m.%d %H:%M:%S')"
   ]
  },
  {
   "cell_type": "code",
   "execution_count": 17,
   "metadata": {},
   "outputs": [
    {
     "data": {
      "text/plain": [
       "building            127957\n",
       "finished_stage_1      5817\n",
       "project               1866\n",
       "Name: event, dtype: int64"
      ]
     },
     "execution_count": 17,
     "metadata": {},
     "output_type": "execute_result"
    }
   ],
   "source": [
    "actions['event'].value_counts()"
   ]
  },
  {
   "cell_type": "code",
   "execution_count": 18,
   "metadata": {},
   "outputs": [
    {
     "data": {
      "text/html": [
       "<style type=\"text/css\">\n",
       "#T_d9a82_row0_col0, #T_d9a82_row1_col0, #T_d9a82_row3_col0 {\n",
       "  background-color: #3b4cc0;\n",
       "  color: #f1f1f1;\n",
       "}\n",
       "#T_d9a82_row2_col0 {\n",
       "  background-color: #4c66d6;\n",
       "  color: #f1f1f1;\n",
       "}\n",
       "#T_d9a82_row4_col0 {\n",
       "  background-color: #b40426;\n",
       "  color: #f1f1f1;\n",
       "}\n",
       "</style>\n",
       "<table id=\"T_d9a82\">\n",
       "  <thead>\n",
       "    <tr>\n",
       "      <th class=\"blank level0\" >&nbsp;</th>\n",
       "      <th id=\"T_d9a82_level0_col0\" class=\"col_heading level0 col0\" >0</th>\n",
       "    </tr>\n",
       "  </thead>\n",
       "  <tbody>\n",
       "    <tr>\n",
       "      <th id=\"T_d9a82_level0_row0\" class=\"row_heading level0 row0\" >event_datetime</th>\n",
       "      <td id=\"T_d9a82_row0_col0\" class=\"data row0 col0\" >0.000000</td>\n",
       "    </tr>\n",
       "    <tr>\n",
       "      <th id=\"T_d9a82_level0_row1\" class=\"row_heading level0 row1\" >event</th>\n",
       "      <td id=\"T_d9a82_row1_col0\" class=\"data row1 col0\" >0.000000</td>\n",
       "    </tr>\n",
       "    <tr>\n",
       "      <th id=\"T_d9a82_level0_row2\" class=\"row_heading level0 row2\" >building_type</th>\n",
       "      <td id=\"T_d9a82_row2_col0\" class=\"data row2 col0\" >6.000000</td>\n",
       "    </tr>\n",
       "    <tr>\n",
       "      <th id=\"T_d9a82_level0_row3\" class=\"row_heading level0 row3\" >user_id</th>\n",
       "      <td id=\"T_d9a82_row3_col0\" class=\"data row3 col0\" >0.000000</td>\n",
       "    </tr>\n",
       "    <tr>\n",
       "      <th id=\"T_d9a82_level0_row4\" class=\"row_heading level0 row4\" >project_type</th>\n",
       "      <td id=\"T_d9a82_row4_col0\" class=\"data row4 col0\" >99.000000</td>\n",
       "    </tr>\n",
       "  </tbody>\n",
       "</table>\n"
      ],
      "text/plain": [
       "<pandas.io.formats.style.Styler at 0x2c58fa1d400>"
      ]
     },
     "execution_count": 18,
     "metadata": {},
     "output_type": "execute_result"
    }
   ],
   "source": [
    "pd.DataFrame(round(actions.isna().mean()*100)).style.background_gradient('coolwarm')"
   ]
  },
  {
   "cell_type": "markdown",
   "metadata": {},
   "source": [
    "Check for missing values in the column **building_type**"
   ]
  },
  {
   "cell_type": "code",
   "execution_count": 19,
   "metadata": {},
   "outputs": [
    {
     "data": {
      "text/plain": [
       "finished_stage_1    5817\n",
       "project             1866\n",
       "Name: event, dtype: int64"
      ]
     },
     "execution_count": 19,
     "metadata": {},
     "output_type": "execute_result"
    }
   ],
   "source": [
    "actions.loc[actions['building_type'].isna(),'event'].value_counts()"
   ]
  },
  {
   "cell_type": "markdown",
   "metadata": {},
   "source": [
    "In the column \"building_type\" 6% of the data is missing. These are the data for players who have already completed the first level or finished the project. We won't fill in such data."
   ]
  },
  {
   "cell_type": "markdown",
   "metadata": {},
   "source": [
    "Check for missing values in the column  **project_type**"
   ]
  },
  {
   "cell_type": "code",
   "execution_count": 20,
   "metadata": {},
   "outputs": [
    {
     "data": {
      "text/plain": [
       "array([nan, 'satellite_orbital_assembly'], dtype=object)"
      ]
     },
     "execution_count": 20,
     "metadata": {},
     "output_type": "execute_result"
    }
   ],
   "source": [
    "actions['project_type'].unique()"
   ]
  },
  {
   "cell_type": "code",
   "execution_count": 21,
   "metadata": {},
   "outputs": [
    {
     "data": {
      "text/html": [
       "<div>\n",
       "<style scoped>\n",
       "    .dataframe tbody tr th:only-of-type {\n",
       "        vertical-align: middle;\n",
       "    }\n",
       "\n",
       "    .dataframe tbody tr th {\n",
       "        vertical-align: top;\n",
       "    }\n",
       "\n",
       "    .dataframe thead th {\n",
       "        text-align: right;\n",
       "    }\n",
       "</style>\n",
       "<table border=\"1\" class=\"dataframe\">\n",
       "  <thead>\n",
       "    <tr style=\"text-align: right;\">\n",
       "      <th></th>\n",
       "      <th>event_datetime</th>\n",
       "      <th>event</th>\n",
       "      <th>building_type</th>\n",
       "      <th>user_id</th>\n",
       "      <th>project_type</th>\n",
       "    </tr>\n",
       "  </thead>\n",
       "  <tbody>\n",
       "    <tr>\n",
       "      <th>47121</th>\n",
       "      <td>2020-05-08 18:10:25</td>\n",
       "      <td>project</td>\n",
       "      <td>NaN</td>\n",
       "      <td>e3c66498-9d45-4000-9392-f81e6796e7da</td>\n",
       "      <td>satellite_orbital_assembly</td>\n",
       "    </tr>\n",
       "    <tr>\n",
       "      <th>57398</th>\n",
       "      <td>2020-05-09 13:49:11</td>\n",
       "      <td>project</td>\n",
       "      <td>NaN</td>\n",
       "      <td>936e7af6-8338-4703-a1df-fc6c3f5b8e34</td>\n",
       "      <td>satellite_orbital_assembly</td>\n",
       "    </tr>\n",
       "    <tr>\n",
       "      <th>58797</th>\n",
       "      <td>2020-05-09 16:19:33</td>\n",
       "      <td>project</td>\n",
       "      <td>NaN</td>\n",
       "      <td>a4491c86-c498-4f74-a56e-65c136d0e9a1</td>\n",
       "      <td>satellite_orbital_assembly</td>\n",
       "    </tr>\n",
       "    <tr>\n",
       "      <th>61174</th>\n",
       "      <td>2020-05-09 20:29:01</td>\n",
       "      <td>project</td>\n",
       "      <td>NaN</td>\n",
       "      <td>85d9e675-562b-4329-8bbd-14d3b39096be</td>\n",
       "      <td>satellite_orbital_assembly</td>\n",
       "    </tr>\n",
       "    <tr>\n",
       "      <th>63770</th>\n",
       "      <td>2020-05-10 00:57:47</td>\n",
       "      <td>project</td>\n",
       "      <td>NaN</td>\n",
       "      <td>1889ca71-3c57-4e61-9ea6-a711971bbf0a</td>\n",
       "      <td>satellite_orbital_assembly</td>\n",
       "    </tr>\n",
       "    <tr>\n",
       "      <th>...</th>\n",
       "      <td>...</td>\n",
       "      <td>...</td>\n",
       "      <td>...</td>\n",
       "      <td>...</td>\n",
       "      <td>...</td>\n",
       "    </tr>\n",
       "    <tr>\n",
       "      <th>135602</th>\n",
       "      <td>2020-06-02 03:04:42</td>\n",
       "      <td>project</td>\n",
       "      <td>NaN</td>\n",
       "      <td>9d98001c-7e14-40d7-896e-46b3047365fd</td>\n",
       "      <td>satellite_orbital_assembly</td>\n",
       "    </tr>\n",
       "    <tr>\n",
       "      <th>135603</th>\n",
       "      <td>2020-06-02 06:21:03</td>\n",
       "      <td>project</td>\n",
       "      <td>NaN</td>\n",
       "      <td>df4a1e13-eba9-4928-a7cf-ee303d6f80f9</td>\n",
       "      <td>satellite_orbital_assembly</td>\n",
       "    </tr>\n",
       "    <tr>\n",
       "      <th>135609</th>\n",
       "      <td>2020-06-02 17:17:28</td>\n",
       "      <td>project</td>\n",
       "      <td>NaN</td>\n",
       "      <td>82e46f34-e243-4728-8e20-2e171fc33ea4</td>\n",
       "      <td>satellite_orbital_assembly</td>\n",
       "    </tr>\n",
       "    <tr>\n",
       "      <th>135617</th>\n",
       "      <td>2020-06-03 09:46:04</td>\n",
       "      <td>project</td>\n",
       "      <td>NaN</td>\n",
       "      <td>fe032991-71e0-48c5-889f-4c3805ba4c9b</td>\n",
       "      <td>satellite_orbital_assembly</td>\n",
       "    </tr>\n",
       "    <tr>\n",
       "      <th>135630</th>\n",
       "      <td>2020-06-04 08:29:42</td>\n",
       "      <td>project</td>\n",
       "      <td>NaN</td>\n",
       "      <td>d477dde8-7c22-4f23-9c4f-4ec31a1aa4c8</td>\n",
       "      <td>satellite_orbital_assembly</td>\n",
       "    </tr>\n",
       "  </tbody>\n",
       "</table>\n",
       "<p>1866 rows × 5 columns</p>\n",
       "</div>"
      ],
      "text/plain": [
       "            event_datetime    event building_type  \\\n",
       "47121  2020-05-08 18:10:25  project           NaN   \n",
       "57398  2020-05-09 13:49:11  project           NaN   \n",
       "58797  2020-05-09 16:19:33  project           NaN   \n",
       "61174  2020-05-09 20:29:01  project           NaN   \n",
       "63770  2020-05-10 00:57:47  project           NaN   \n",
       "...                    ...      ...           ...   \n",
       "135602 2020-06-02 03:04:42  project           NaN   \n",
       "135603 2020-06-02 06:21:03  project           NaN   \n",
       "135609 2020-06-02 17:17:28  project           NaN   \n",
       "135617 2020-06-03 09:46:04  project           NaN   \n",
       "135630 2020-06-04 08:29:42  project           NaN   \n",
       "\n",
       "                                     user_id                project_type  \n",
       "47121   e3c66498-9d45-4000-9392-f81e6796e7da  satellite_orbital_assembly  \n",
       "57398   936e7af6-8338-4703-a1df-fc6c3f5b8e34  satellite_orbital_assembly  \n",
       "58797   a4491c86-c498-4f74-a56e-65c136d0e9a1  satellite_orbital_assembly  \n",
       "61174   85d9e675-562b-4329-8bbd-14d3b39096be  satellite_orbital_assembly  \n",
       "63770   1889ca71-3c57-4e61-9ea6-a711971bbf0a  satellite_orbital_assembly  \n",
       "...                                      ...                         ...  \n",
       "135602  9d98001c-7e14-40d7-896e-46b3047365fd  satellite_orbital_assembly  \n",
       "135603  df4a1e13-eba9-4928-a7cf-ee303d6f80f9  satellite_orbital_assembly  \n",
       "135609  82e46f34-e243-4728-8e20-2e171fc33ea4  satellite_orbital_assembly  \n",
       "135617  fe032991-71e0-48c5-889f-4c3805ba4c9b  satellite_orbital_assembly  \n",
       "135630  d477dde8-7c22-4f23-9c4f-4ec31a1aa4c8  satellite_orbital_assembly  \n",
       "\n",
       "[1866 rows x 5 columns]"
      ]
     },
     "execution_count": 21,
     "metadata": {},
     "output_type": "execute_result"
    }
   ],
   "source": [
    "actions.loc[~actions['project_type'].isna()]"
   ]
  },
  {
   "cell_type": "code",
   "execution_count": 22,
   "metadata": {},
   "outputs": [
    {
     "data": {
      "text/plain": [
       "project    1866\n",
       "Name: event, dtype: int64"
      ]
     },
     "execution_count": 22,
     "metadata": {},
     "output_type": "execute_result"
    }
   ],
   "source": [
    "actions.loc[~actions['project_type'].isna(), 'event'].value_counts()"
   ]
  },
  {
   "cell_type": "code",
   "execution_count": 23,
   "metadata": {},
   "outputs": [
    {
     "data": {
      "text/plain": [
       "building            127957\n",
       "finished_stage_1      5817\n",
       "Name: event, dtype: int64"
      ]
     },
     "execution_count": 23,
     "metadata": {},
     "output_type": "execute_result"
    }
   ],
   "source": [
    "actions.loc[actions['project_type'].isna(), 'event'].value_counts()"
   ]
  },
  {
   "cell_type": "markdown",
   "metadata": {},
   "source": [
    "These data are related to the strategy, there's no need to fill in the column."
   ]
  },
  {
   "cell_type": "markdown",
   "metadata": {},
   "source": [
    "## **4 Research data analysis:**"
   ]
  },
  {
   "cell_type": "markdown",
   "metadata": {},
   "source": [
    "### 4.1 Financial metrics"
   ]
  },
  {
   "cell_type": "markdown",
   "metadata": {},
   "source": [
    "#### 4.1.1 Calculation of advertising expenses by channels"
   ]
  },
  {
   "cell_type": "code",
   "execution_count": 24,
   "metadata": {},
   "outputs": [
    {
     "data": {
      "text/html": [
       "<div>\n",
       "<style scoped>\n",
       "    .dataframe tbody tr th:only-of-type {\n",
       "        vertical-align: middle;\n",
       "    }\n",
       "\n",
       "    .dataframe tbody tr th {\n",
       "        vertical-align: top;\n",
       "    }\n",
       "\n",
       "    .dataframe thead th {\n",
       "        text-align: right;\n",
       "    }\n",
       "</style>\n",
       "<table border=\"1\" class=\"dataframe\">\n",
       "  <thead>\n",
       "    <tr style=\"text-align: right;\">\n",
       "      <th></th>\n",
       "      <th>cost</th>\n",
       "      <th>cost%</th>\n",
       "    </tr>\n",
       "    <tr>\n",
       "      <th>source</th>\n",
       "      <th></th>\n",
       "      <th></th>\n",
       "    </tr>\n",
       "  </thead>\n",
       "  <tbody>\n",
       "    <tr>\n",
       "      <th>yandex_direct</th>\n",
       "      <td>2233.111449</td>\n",
       "      <td>29.0</td>\n",
       "    </tr>\n",
       "    <tr>\n",
       "      <th>instagram_new_adverts</th>\n",
       "      <td>2161.441691</td>\n",
       "      <td>28.0</td>\n",
       "    </tr>\n",
       "    <tr>\n",
       "      <th>facebook_ads</th>\n",
       "      <td>2140.904643</td>\n",
       "      <td>28.0</td>\n",
       "    </tr>\n",
       "    <tr>\n",
       "      <th>youtube_channel_reklama</th>\n",
       "      <td>1068.119204</td>\n",
       "      <td>14.0</td>\n",
       "    </tr>\n",
       "  </tbody>\n",
       "</table>\n",
       "</div>"
      ],
      "text/plain": [
       "                                cost  cost%\n",
       "source                                     \n",
       "yandex_direct            2233.111449   29.0\n",
       "instagram_new_adverts    2161.441691   28.0\n",
       "facebook_ads             2140.904643   28.0\n",
       "youtube_channel_reklama  1068.119204   14.0"
      ]
     },
     "execution_count": 24,
     "metadata": {},
     "output_type": "execute_result"
    }
   ],
   "source": [
    "cost = costs.groupby('source').agg({'cost':'sum'}).sort_values(by='cost', ascending = False) \n",
    "cost['cost%'] = round(cost['cost']/cost['cost'].sum()*100)\n",
    "cost"
   ]
  },
  {
   "cell_type": "code",
   "execution_count": 25,
   "metadata": {},
   "outputs": [
    {
     "data": {
      "image/png": "[encoded data removed]",
      "text/plain": [
       "<Figure size 600x600 with 1 Axes>"
      ]
     },
     "metadata": {},
     "output_type": "display_data"
    }
   ],
   "source": [
    "cost.plot(y='cost%', \n",
    "          kind='pie',\n",
    "          figsize=(6,6),\n",
    "          autopct='%.f',\n",
    "          legend = False,\n",
    "          title= 'The proportion of ads expenses by channels.',\n",
    "          label='');"
   ]
  },
  {
   "cell_type": "markdown",
   "metadata": {},
   "source": [
    "**Conclusion**\n",
    "\n",
    "Approximately the same costs are accounted for Yandex, Instagram and Facebook 28-29%. The lowest funding among all is allocated to YouTube (14%)."
   ]
  },
  {
   "cell_type": "markdown",
   "metadata": {},
   "source": [
    "####  4.1.2 The share of attracted users by channels."
   ]
  },
  {
   "cell_type": "code",
   "execution_count": 26,
   "metadata": {},
   "outputs": [
    {
     "data": {
      "text/html": [
       "<div>\n",
       "<style scoped>\n",
       "    .dataframe tbody tr th:only-of-type {\n",
       "        vertical-align: middle;\n",
       "    }\n",
       "\n",
       "    .dataframe tbody tr th {\n",
       "        vertical-align: top;\n",
       "    }\n",
       "\n",
       "    .dataframe thead th {\n",
       "        text-align: right;\n",
       "    }\n",
       "</style>\n",
       "<table border=\"1\" class=\"dataframe\">\n",
       "  <thead>\n",
       "    <tr style=\"text-align: right;\">\n",
       "      <th></th>\n",
       "      <th>user_id</th>\n",
       "      <th>user_id%</th>\n",
       "    </tr>\n",
       "    <tr>\n",
       "      <th>source</th>\n",
       "      <th></th>\n",
       "      <th></th>\n",
       "    </tr>\n",
       "  </thead>\n",
       "  <tbody>\n",
       "    <tr>\n",
       "      <th>yandex_direct</th>\n",
       "      <td>4817</td>\n",
       "      <td>35.0</td>\n",
       "    </tr>\n",
       "    <tr>\n",
       "      <th>instagram_new_adverts</th>\n",
       "      <td>3347</td>\n",
       "      <td>25.0</td>\n",
       "    </tr>\n",
       "    <tr>\n",
       "      <th>facebook_ads</th>\n",
       "      <td>2726</td>\n",
       "      <td>20.0</td>\n",
       "    </tr>\n",
       "    <tr>\n",
       "      <th>youtube_channel_reklama</th>\n",
       "      <td>2686</td>\n",
       "      <td>20.0</td>\n",
       "    </tr>\n",
       "  </tbody>\n",
       "</table>\n",
       "</div>"
      ],
      "text/plain": [
       "                         user_id  user_id%\n",
       "source                                    \n",
       "yandex_direct               4817      35.0\n",
       "instagram_new_adverts       3347      25.0\n",
       "facebook_ads                2726      20.0\n",
       "youtube_channel_reklama     2686      20.0"
      ]
     },
     "execution_count": 26,
     "metadata": {},
     "output_type": "execute_result"
    }
   ],
   "source": [
    "user = users.groupby('source').agg({'user_id':'count'}).sort_values(by='user_id', ascending = False) \n",
    "user['user_id%'] = round(user['user_id']/user['user_id'].sum()*100)\n",
    "user"
   ]
  },
  {
   "cell_type": "markdown",
   "metadata": {},
   "source": [
    "**Conclusion**\n",
    "\n",
    "The largest share of users came from Yandex, accounting for 35%, slightly less from Instagram at 25%, while Facebook and YouTube each contribute 20% of all incoming users."
   ]
  },
  {
   "cell_type": "markdown",
   "metadata": {},
   "source": [
    "#### 4.1.3 The cost of customer acquisition by channels"
   ]
  },
  {
   "cell_type": "code",
   "execution_count": 27,
   "metadata": {},
   "outputs": [
    {
     "data": {
      "text/html": [
       "<div>\n",
       "<style scoped>\n",
       "    .dataframe tbody tr th:only-of-type {\n",
       "        vertical-align: middle;\n",
       "    }\n",
       "\n",
       "    .dataframe tbody tr th {\n",
       "        vertical-align: top;\n",
       "    }\n",
       "\n",
       "    .dataframe thead th {\n",
       "        text-align: right;\n",
       "    }\n",
       "</style>\n",
       "<table border=\"1\" class=\"dataframe\">\n",
       "  <thead>\n",
       "    <tr style=\"text-align: right;\">\n",
       "      <th></th>\n",
       "      <th>source</th>\n",
       "      <th>cost</th>\n",
       "      <th>cost%</th>\n",
       "      <th>user_id</th>\n",
       "      <th>user_id%</th>\n",
       "      <th>cost_per_1</th>\n",
       "      <th>cost_per_1%</th>\n",
       "    </tr>\n",
       "  </thead>\n",
       "  <tbody>\n",
       "    <tr>\n",
       "      <th>0</th>\n",
       "      <td>yandex_direct</td>\n",
       "      <td>2233.111449</td>\n",
       "      <td>29.0</td>\n",
       "      <td>4817</td>\n",
       "      <td>35.0</td>\n",
       "      <td>0.463590</td>\n",
       "      <td>20.0</td>\n",
       "    </tr>\n",
       "    <tr>\n",
       "      <th>1</th>\n",
       "      <td>instagram_new_adverts</td>\n",
       "      <td>2161.441691</td>\n",
       "      <td>28.0</td>\n",
       "      <td>3347</td>\n",
       "      <td>25.0</td>\n",
       "      <td>0.645785</td>\n",
       "      <td>28.0</td>\n",
       "    </tr>\n",
       "    <tr>\n",
       "      <th>2</th>\n",
       "      <td>facebook_ads</td>\n",
       "      <td>2140.904643</td>\n",
       "      <td>28.0</td>\n",
       "      <td>2726</td>\n",
       "      <td>20.0</td>\n",
       "      <td>0.785365</td>\n",
       "      <td>34.0</td>\n",
       "    </tr>\n",
       "    <tr>\n",
       "      <th>3</th>\n",
       "      <td>youtube_channel_reklama</td>\n",
       "      <td>1068.119204</td>\n",
       "      <td>14.0</td>\n",
       "      <td>2686</td>\n",
       "      <td>20.0</td>\n",
       "      <td>0.397662</td>\n",
       "      <td>17.0</td>\n",
       "    </tr>\n",
       "  </tbody>\n",
       "</table>\n",
       "</div>"
      ],
      "text/plain": [
       "                    source         cost  cost%  user_id  user_id%  cost_per_1  \\\n",
       "0            yandex_direct  2233.111449   29.0     4817      35.0    0.463590   \n",
       "1    instagram_new_adverts  2161.441691   28.0     3347      25.0    0.645785   \n",
       "2             facebook_ads  2140.904643   28.0     2726      20.0    0.785365   \n",
       "3  youtube_channel_reklama  1068.119204   14.0     2686      20.0    0.397662   \n",
       "\n",
       "   cost_per_1%  \n",
       "0         20.0  \n",
       "1         28.0  \n",
       "2         34.0  \n",
       "3         17.0  "
      ]
     },
     "execution_count": 27,
     "metadata": {},
     "output_type": "execute_result"
    }
   ],
   "source": [
    "financial = cost.merge(user, on='source').reset_index()\n",
    "financial['cost_per_1'] = financial['cost']/financial['user_id']\n",
    "financial['cost_per_1%'] = (round(financial['cost_per_1']/financial['cost_per_1'].sum()*100))\n",
    "financial"
   ]
  },
  {
   "cell_type": "code",
   "execution_count": 28,
   "metadata": {},
   "outputs": [
    {
     "data": {
      "text/html": [
       "<div>\n",
       "<style scoped>\n",
       "    .dataframe tbody tr th:only-of-type {\n",
       "        vertical-align: middle;\n",
       "    }\n",
       "\n",
       "    .dataframe tbody tr th {\n",
       "        vertical-align: top;\n",
       "    }\n",
       "\n",
       "    .dataframe thead th {\n",
       "        text-align: right;\n",
       "    }\n",
       "</style>\n",
       "<table border=\"1\" class=\"dataframe\">\n",
       "  <thead>\n",
       "    <tr style=\"text-align: right;\">\n",
       "      <th></th>\n",
       "      <th>source</th>\n",
       "      <th>cost_per_1</th>\n",
       "      <th>cost_per_1%</th>\n",
       "    </tr>\n",
       "  </thead>\n",
       "  <tbody>\n",
       "    <tr>\n",
       "      <th>3</th>\n",
       "      <td>youtube_channel_reklama</td>\n",
       "      <td>0.397662</td>\n",
       "      <td>17.0</td>\n",
       "    </tr>\n",
       "    <tr>\n",
       "      <th>0</th>\n",
       "      <td>yandex_direct</td>\n",
       "      <td>0.463590</td>\n",
       "      <td>20.0</td>\n",
       "    </tr>\n",
       "    <tr>\n",
       "      <th>1</th>\n",
       "      <td>instagram_new_adverts</td>\n",
       "      <td>0.645785</td>\n",
       "      <td>28.0</td>\n",
       "    </tr>\n",
       "    <tr>\n",
       "      <th>2</th>\n",
       "      <td>facebook_ads</td>\n",
       "      <td>0.785365</td>\n",
       "      <td>34.0</td>\n",
       "    </tr>\n",
       "  </tbody>\n",
       "</table>\n",
       "</div>"
      ],
      "text/plain": [
       "                    source  cost_per_1  cost_per_1%\n",
       "3  youtube_channel_reklama    0.397662         17.0\n",
       "0            yandex_direct    0.463590         20.0\n",
       "1    instagram_new_adverts    0.645785         28.0\n",
       "2             facebook_ads    0.785365         34.0"
      ]
     },
     "execution_count": 28,
     "metadata": {},
     "output_type": "execute_result"
    }
   ],
   "source": [
    "financial[['source','cost_per_1','cost_per_1%']].sort_values(by='cost_per_1')"
   ]
  },
  {
   "cell_type": "markdown",
   "metadata": {},
   "source": [
    "**Conclusion** \n",
    "\n",
    "\n",
    "The most cost-effective advertising is for customers coming from YouTube, with a cost of 0.397662 units (17% of the share of all other sources). Slightly more expensive are customers from Yandex Direct, with a cost of 0.463590 per acquisition or 20%. Instagram follows with 0.645785 units or 28%, and the most expensive customers come from Facebook with a cost of 0.785365 or 34%"
   ]
  },
  {
   "cell_type": "markdown",
   "metadata": {},
   "source": [
    "### 4.1 Conclusion"
   ]
  },
  {
   "cell_type": "markdown",
   "metadata": {},
   "source": [
    "\n",
    "Despite the fact that customers from YouTube are the least expensive for the company (0.397662 units), the Yandex Direct channel proves to be the most optimal in terms of the cost and number of acquired customers.\n",
    "\n",
    "Although advertising on Yandex is slightly more expensive (0.463590 units), this channel attracted the maximum number of players (4817) compared to other channels.\n",
    "\n",
    "However, it is essential to investigate the quality of this acquired audience."
   ]
  },
  {
   "cell_type": "markdown",
   "metadata": {},
   "source": [
    "### 4.2 Quality of the acquired audience"
   ]
  },
  {
   "cell_type": "markdown",
   "metadata": {},
   "source": [
    "####  4.2.1 The median time to complete a level by channels"
   ]
  },
  {
   "cell_type": "code",
   "execution_count": 29,
   "metadata": {},
   "outputs": [],
   "source": [
    "actions = actions.merge(users, on='user_id')"
   ]
  },
  {
   "cell_type": "code",
   "execution_count": 30,
   "metadata": {},
   "outputs": [],
   "source": [
    "actions['event_datetime'] = pd.to_datetime(actions['event_datetime']).dt.day"
   ]
  },
  {
   "cell_type": "code",
   "execution_count": 31,
   "metadata": {},
   "outputs": [
    {
     "data": {
      "text/html": [
       "<div>\n",
       "<style scoped>\n",
       "    .dataframe tbody tr th:only-of-type {\n",
       "        vertical-align: middle;\n",
       "    }\n",
       "\n",
       "    .dataframe tbody tr th {\n",
       "        vertical-align: top;\n",
       "    }\n",
       "\n",
       "    .dataframe thead th {\n",
       "        text-align: right;\n",
       "    }\n",
       "</style>\n",
       "<table border=\"1\" class=\"dataframe\">\n",
       "  <thead>\n",
       "    <tr style=\"text-align: right;\">\n",
       "      <th></th>\n",
       "      <th>source</th>\n",
       "      <th>user_id</th>\n",
       "      <th>max</th>\n",
       "      <th>min</th>\n",
       "      <th>days_till_finish</th>\n",
       "    </tr>\n",
       "  </thead>\n",
       "  <tbody>\n",
       "    <tr>\n",
       "      <th>0</th>\n",
       "      <td>facebook_ads</td>\n",
       "      <td>0001f83c-c6ac-4621-b7f0-8a28b283ac30</td>\n",
       "      <td>20</td>\n",
       "      <td>6</td>\n",
       "      <td>14</td>\n",
       "    </tr>\n",
       "    <tr>\n",
       "      <th>1</th>\n",
       "      <td>facebook_ads</td>\n",
       "      <td>002f508f-67b6-479f-814b-b05f00d4e995</td>\n",
       "      <td>22</td>\n",
       "      <td>5</td>\n",
       "      <td>17</td>\n",
       "    </tr>\n",
       "    <tr>\n",
       "      <th>2</th>\n",
       "      <td>facebook_ads</td>\n",
       "      <td>004074f8-251a-4776-922c-8348dca1a2f6</td>\n",
       "      <td>16</td>\n",
       "      <td>4</td>\n",
       "      <td>12</td>\n",
       "    </tr>\n",
       "    <tr>\n",
       "      <th>3</th>\n",
       "      <td>facebook_ads</td>\n",
       "      <td>00440efd-aa50-4b4b-aae8-ffcd1782729d</td>\n",
       "      <td>9</td>\n",
       "      <td>4</td>\n",
       "      <td>5</td>\n",
       "    </tr>\n",
       "    <tr>\n",
       "      <th>4</th>\n",
       "      <td>facebook_ads</td>\n",
       "      <td>00965328-5e54-453f-b11b-52f8ae9ae80b</td>\n",
       "      <td>18</td>\n",
       "      <td>7</td>\n",
       "      <td>11</td>\n",
       "    </tr>\n",
       "  </tbody>\n",
       "</table>\n",
       "</div>"
      ],
      "text/plain": [
       "         source                               user_id  max  min  \\\n",
       "0  facebook_ads  0001f83c-c6ac-4621-b7f0-8a28b283ac30   20    6   \n",
       "1  facebook_ads  002f508f-67b6-479f-814b-b05f00d4e995   22    5   \n",
       "2  facebook_ads  004074f8-251a-4776-922c-8348dca1a2f6   16    4   \n",
       "3  facebook_ads  00440efd-aa50-4b4b-aae8-ffcd1782729d    9    4   \n",
       "4  facebook_ads  00965328-5e54-453f-b11b-52f8ae9ae80b   18    7   \n",
       "\n",
       "   days_till_finish  \n",
       "0                14  \n",
       "1                17  \n",
       "2                12  \n",
       "3                 5  \n",
       "4                11  "
      ]
     },
     "execution_count": 31,
     "metadata": {},
     "output_type": "execute_result"
    }
   ],
   "source": [
    "mean_time = actions.groupby(['source','user_id']).agg(max=('event_datetime','max'), min=('event_datetime','min')).reset_index()\n",
    "mean_time['days_till_finish'] = mean_time['max'] - mean_time['min']\n",
    "mean_time.head()"
   ]
  },
  {
   "cell_type": "code",
   "execution_count": 32,
   "metadata": {},
   "outputs": [
    {
     "data": {
      "text/html": [
       "<div>\n",
       "<style scoped>\n",
       "    .dataframe tbody tr th:only-of-type {\n",
       "        vertical-align: middle;\n",
       "    }\n",
       "\n",
       "    .dataframe tbody tr th {\n",
       "        vertical-align: top;\n",
       "    }\n",
       "\n",
       "    .dataframe thead th {\n",
       "        text-align: right;\n",
       "    }\n",
       "</style>\n",
       "<table border=\"1\" class=\"dataframe\">\n",
       "  <thead>\n",
       "    <tr style=\"text-align: right;\">\n",
       "      <th></th>\n",
       "      <th>days_till_finish</th>\n",
       "    </tr>\n",
       "    <tr>\n",
       "      <th>source</th>\n",
       "      <th></th>\n",
       "    </tr>\n",
       "  </thead>\n",
       "  <tbody>\n",
       "    <tr>\n",
       "      <th>facebook_ads</th>\n",
       "      <td>11.0</td>\n",
       "    </tr>\n",
       "    <tr>\n",
       "      <th>instagram_new_adverts</th>\n",
       "      <td>11.0</td>\n",
       "    </tr>\n",
       "    <tr>\n",
       "      <th>yandex_direct</th>\n",
       "      <td>10.0</td>\n",
       "    </tr>\n",
       "    <tr>\n",
       "      <th>youtube_channel_reklama</th>\n",
       "      <td>10.0</td>\n",
       "    </tr>\n",
       "  </tbody>\n",
       "</table>\n",
       "</div>"
      ],
      "text/plain": [
       "                         days_till_finish\n",
       "source                                   \n",
       "facebook_ads                         11.0\n",
       "instagram_new_adverts                11.0\n",
       "yandex_direct                        10.0\n",
       "youtube_channel_reklama              10.0"
      ]
     },
     "execution_count": 32,
     "metadata": {},
     "output_type": "execute_result"
    }
   ],
   "source": [
    "median_days = mean_time.groupby('source').agg({'days_till_finish':'median'})\n",
    "median_days"
   ]
  },
  {
   "cell_type": "markdown",
   "metadata": {},
   "source": [
    "**Conclusion** \n",
    "\n",
    "On average, all players complete the level within 10-11 days. Users coming from Yandex and YouTube in Canada complete the game in 10 days, while those from Instagram and Facebook take 11 days."
   ]
  },
  {
   "cell_type": "markdown",
   "metadata": {},
   "source": [
    "#### 4.2.2 The median number of buildings constructed by channels"
   ]
  },
  {
   "cell_type": "code",
   "execution_count": 33,
   "metadata": {},
   "outputs": [
    {
     "data": {
      "text/html": [
       "<div>\n",
       "<style scoped>\n",
       "    .dataframe tbody tr th:only-of-type {\n",
       "        vertical-align: middle;\n",
       "    }\n",
       "\n",
       "    .dataframe tbody tr th {\n",
       "        vertical-align: top;\n",
       "    }\n",
       "\n",
       "    .dataframe thead th {\n",
       "        text-align: right;\n",
       "    }\n",
       "</style>\n",
       "<table border=\"1\" class=\"dataframe\">\n",
       "  <thead>\n",
       "    <tr style=\"text-align: right;\">\n",
       "      <th></th>\n",
       "      <th>count_built</th>\n",
       "    </tr>\n",
       "    <tr>\n",
       "      <th>source</th>\n",
       "      <th></th>\n",
       "    </tr>\n",
       "  </thead>\n",
       "  <tbody>\n",
       "    <tr>\n",
       "      <th>facebook_ads</th>\n",
       "      <td>10.0</td>\n",
       "    </tr>\n",
       "    <tr>\n",
       "      <th>instagram_new_adverts</th>\n",
       "      <td>10.0</td>\n",
       "    </tr>\n",
       "    <tr>\n",
       "      <th>yandex_direct</th>\n",
       "      <td>10.0</td>\n",
       "    </tr>\n",
       "    <tr>\n",
       "      <th>youtube_channel_reklama</th>\n",
       "      <td>10.0</td>\n",
       "    </tr>\n",
       "  </tbody>\n",
       "</table>\n",
       "</div>"
      ],
      "text/plain": [
       "                         count_built\n",
       "source                              \n",
       "facebook_ads                    10.0\n",
       "instagram_new_adverts           10.0\n",
       "yandex_direct                   10.0\n",
       "youtube_channel_reklama         10.0"
      ]
     },
     "execution_count": 33,
     "metadata": {},
     "output_type": "execute_result"
    }
   ],
   "source": [
    "median_buildings = (\n",
    "    actions.groupby(['source','user_id'])\n",
    "    .agg(count_built=('building_type','count'))).groupby('source').agg({'count_built':'median'})\n",
    "\n",
    "median_buildings"
   ]
  },
  {
   "cell_type": "markdown",
   "metadata": {},
   "source": [
    "**Conclusion** \n",
    "\n",
    "\n",
    "All users build the same number of buildings regardless of the channel they come from."
   ]
  },
  {
   "cell_type": "markdown",
   "metadata": {},
   "source": [
    "#### 4.2.3 The percentage of players advancing to the second level (project completed) by channels."
   ]
  },
  {
   "cell_type": "code",
   "execution_count": 34,
   "metadata": {},
   "outputs": [
    {
     "data": {
      "text/html": [
       "<div>\n",
       "<style scoped>\n",
       "    .dataframe tbody tr th:only-of-type {\n",
       "        vertical-align: middle;\n",
       "    }\n",
       "\n",
       "    .dataframe tbody tr th {\n",
       "        vertical-align: top;\n",
       "    }\n",
       "\n",
       "    .dataframe thead th {\n",
       "        text-align: right;\n",
       "    }\n",
       "</style>\n",
       "<table border=\"1\" class=\"dataframe\">\n",
       "  <thead>\n",
       "    <tr style=\"text-align: right;\">\n",
       "      <th></th>\n",
       "      <th>source</th>\n",
       "      <th>finished_1_lavel</th>\n",
       "      <th>user_id</th>\n",
       "      <th>finished_1_lavel%</th>\n",
       "    </tr>\n",
       "  </thead>\n",
       "  <tbody>\n",
       "    <tr>\n",
       "      <th>0</th>\n",
       "      <td>yandex_direct</td>\n",
       "      <td>620</td>\n",
       "      <td>4817</td>\n",
       "      <td>13.0</td>\n",
       "    </tr>\n",
       "    <tr>\n",
       "      <th>1</th>\n",
       "      <td>instagram_new_adverts</td>\n",
       "      <td>476</td>\n",
       "      <td>3347</td>\n",
       "      <td>14.0</td>\n",
       "    </tr>\n",
       "    <tr>\n",
       "      <th>2</th>\n",
       "      <td>facebook_ads</td>\n",
       "      <td>391</td>\n",
       "      <td>2726</td>\n",
       "      <td>14.0</td>\n",
       "    </tr>\n",
       "    <tr>\n",
       "      <th>3</th>\n",
       "      <td>youtube_channel_reklama</td>\n",
       "      <td>379</td>\n",
       "      <td>2686</td>\n",
       "      <td>14.0</td>\n",
       "    </tr>\n",
       "  </tbody>\n",
       "</table>\n",
       "</div>"
      ],
      "text/plain": [
       "                    source  finished_1_lavel  user_id  finished_1_lavel%\n",
       "0            yandex_direct               620     4817               13.0\n",
       "1    instagram_new_adverts               476     3347               14.0\n",
       "2             facebook_ads               391     2726               14.0\n",
       "3  youtube_channel_reklama               379     2686               14.0"
      ]
     },
     "execution_count": 34,
     "metadata": {},
     "output_type": "execute_result"
    }
   ],
   "source": [
    "next_lavel = (\n",
    "    actions.loc[actions['event'] == 'project']).groupby('source').agg(finished_1_lavel=('event','count'),\n",
    "                                                                     ).sort_values(by='finished_1_lavel', ascending = False\n",
    "                                                                                  ).reset_index()\n",
    "\n",
    "to_next_lavel = next_lavel.merge(user, on='source')\n",
    "to_next_lavel = to_next_lavel[['source', 'finished_1_lavel', 'user_id']]\n",
    "to_next_lavel['finished_1_lavel%'] = round(to_next_lavel['finished_1_lavel']/ to_next_lavel['user_id']*100)\n",
    "to_next_lavel"
   ]
  },
  {
   "cell_type": "markdown",
   "metadata": {},
   "source": [
    "**Conclusion** \n",
    "\n",
    "Players from the Yandex channel have a slightly lower completion rate for the first level, standing at 13%, in contrast to 14% for Facebook, Instagram, and YouTube."
   ]
  },
  {
   "cell_type": "markdown",
   "metadata": {},
   "source": [
    "### 4.2 Conclusion\n",
    "\n"
   ]
  },
  {
   "cell_type": "markdown",
   "metadata": {},
   "source": [
    "On average, all players complete the level within 10-11 days. Users coming from Yandex and YouTube in Canada complete the game in 10 days, while those from Instagram and Facebook take 11 days.\n",
    "\n",
    "All users build the same number of buildings regardless of the channel they come from.\n",
    "\n",
    "Players from the Yandex channel have a slightly lower completion rate for the first level, standing at 13%, in contrast to 14% for Facebook, Instagram, and YouTube."
   ]
  },
  {
   "cell_type": "markdown",
   "metadata": {},
   "source": [
    "### 5 Hypothesis testing"
   ]
  },
  {
   "cell_type": "markdown",
   "metadata": {},
   "source": [
    "####  5.1 Test hypothesis \"time to complete a level depends on the method of completion: through project implementation, through defeating the first player\""
   ]
  },
  {
   "cell_type": "markdown",
   "metadata": {},
   "source": [
    "To test the hypothesis, we need to categorize into groups based on the completion method:\n",
    "\n",
    "* PVE (Player vs. Environment) - includes events with 'finish_stage_1' and project_type 'satellite_orbital_assembly'.\n",
    "\n",
    "* PVP (Player vs. Player) - includes events with 'finish_stage_1' and NO station."
   ]
  },
  {
   "cell_type": "markdown",
   "metadata": {},
   "source": [
    "##### PVE"
   ]
  },
  {
   "cell_type": "code",
   "execution_count": 35,
   "metadata": {},
   "outputs": [
    {
     "data": {
      "text/html": [
       "<div>\n",
       "<style scoped>\n",
       "    .dataframe tbody tr th:only-of-type {\n",
       "        vertical-align: middle;\n",
       "    }\n",
       "\n",
       "    .dataframe tbody tr th {\n",
       "        vertical-align: top;\n",
       "    }\n",
       "\n",
       "    .dataframe thead th {\n",
       "        text-align: right;\n",
       "    }\n",
       "</style>\n",
       "<table border=\"1\" class=\"dataframe\">\n",
       "  <thead>\n",
       "    <tr style=\"text-align: right;\">\n",
       "      <th></th>\n",
       "      <th>event_datetime</th>\n",
       "      <th>event</th>\n",
       "      <th>building_type</th>\n",
       "      <th>user_id</th>\n",
       "      <th>project_type</th>\n",
       "      <th>source</th>\n",
       "    </tr>\n",
       "  </thead>\n",
       "  <tbody>\n",
       "    <tr>\n",
       "      <th>17</th>\n",
       "      <td>13</td>\n",
       "      <td>project</td>\n",
       "      <td>NaN</td>\n",
       "      <td>c07b1c10-f477-44dc-81dc-ec82254b1347</td>\n",
       "      <td>satellite_orbital_assembly</td>\n",
       "      <td>facebook_ads</td>\n",
       "    </tr>\n",
       "    <tr>\n",
       "      <th>97</th>\n",
       "      <td>18</td>\n",
       "      <td>project</td>\n",
       "      <td>NaN</td>\n",
       "      <td>65a92713-5969-48b1-8945-bfefa5063887</td>\n",
       "      <td>satellite_orbital_assembly</td>\n",
       "      <td>yandex_direct</td>\n",
       "    </tr>\n",
       "    <tr>\n",
       "      <th>110</th>\n",
       "      <td>18</td>\n",
       "      <td>project</td>\n",
       "      <td>NaN</td>\n",
       "      <td>fa352362-d258-472c-b295-2796ccc39fa3</td>\n",
       "      <td>satellite_orbital_assembly</td>\n",
       "      <td>youtube_channel_reklama</td>\n",
       "    </tr>\n",
       "    <tr>\n",
       "      <th>149</th>\n",
       "      <td>14</td>\n",
       "      <td>project</td>\n",
       "      <td>NaN</td>\n",
       "      <td>7b3b6554-7949-4065-9808-d6c79bdc2f58</td>\n",
       "      <td>satellite_orbital_assembly</td>\n",
       "      <td>instagram_new_adverts</td>\n",
       "    </tr>\n",
       "    <tr>\n",
       "      <th>219</th>\n",
       "      <td>14</td>\n",
       "      <td>project</td>\n",
       "      <td>NaN</td>\n",
       "      <td>b374304d-2f74-4cc1-a4e2-500da44a06c7</td>\n",
       "      <td>satellite_orbital_assembly</td>\n",
       "      <td>facebook_ads</td>\n",
       "    </tr>\n",
       "    <tr>\n",
       "      <th>...</th>\n",
       "      <td>...</td>\n",
       "      <td>...</td>\n",
       "      <td>...</td>\n",
       "      <td>...</td>\n",
       "      <td>...</td>\n",
       "      <td>...</td>\n",
       "    </tr>\n",
       "    <tr>\n",
       "      <th>134769</th>\n",
       "      <td>21</td>\n",
       "      <td>project</td>\n",
       "      <td>NaN</td>\n",
       "      <td>73e509b2-24eb-43eb-af8d-33d422b66c4b</td>\n",
       "      <td>satellite_orbital_assembly</td>\n",
       "      <td>youtube_channel_reklama</td>\n",
       "    </tr>\n",
       "    <tr>\n",
       "      <th>135067</th>\n",
       "      <td>25</td>\n",
       "      <td>project</td>\n",
       "      <td>NaN</td>\n",
       "      <td>ebc83c73-7efc-4e57-b206-6d2cb9388b8a</td>\n",
       "      <td>satellite_orbital_assembly</td>\n",
       "      <td>yandex_direct</td>\n",
       "    </tr>\n",
       "    <tr>\n",
       "      <th>135365</th>\n",
       "      <td>22</td>\n",
       "      <td>project</td>\n",
       "      <td>NaN</td>\n",
       "      <td>92c1bdec-8449-4769-bf15-203c8e5830cc</td>\n",
       "      <td>satellite_orbital_assembly</td>\n",
       "      <td>facebook_ads</td>\n",
       "    </tr>\n",
       "    <tr>\n",
       "      <th>135534</th>\n",
       "      <td>26</td>\n",
       "      <td>project</td>\n",
       "      <td>NaN</td>\n",
       "      <td>825e727b-7847-4c5f-a26c-3ee0f18d8177</td>\n",
       "      <td>satellite_orbital_assembly</td>\n",
       "      <td>youtube_channel_reklama</td>\n",
       "    </tr>\n",
       "    <tr>\n",
       "      <th>135587</th>\n",
       "      <td>1</td>\n",
       "      <td>project</td>\n",
       "      <td>NaN</td>\n",
       "      <td>637a8d39-3872-4549-80cc-bebee6c88056</td>\n",
       "      <td>satellite_orbital_assembly</td>\n",
       "      <td>yandex_direct</td>\n",
       "    </tr>\n",
       "  </tbody>\n",
       "</table>\n",
       "<p>1866 rows × 6 columns</p>\n",
       "</div>"
      ],
      "text/plain": [
       "        event_datetime    event building_type  \\\n",
       "17                  13  project           NaN   \n",
       "97                  18  project           NaN   \n",
       "110                 18  project           NaN   \n",
       "149                 14  project           NaN   \n",
       "219                 14  project           NaN   \n",
       "...                ...      ...           ...   \n",
       "134769              21  project           NaN   \n",
       "135067              25  project           NaN   \n",
       "135365              22  project           NaN   \n",
       "135534              26  project           NaN   \n",
       "135587               1  project           NaN   \n",
       "\n",
       "                                     user_id                project_type  \\\n",
       "17      c07b1c10-f477-44dc-81dc-ec82254b1347  satellite_orbital_assembly   \n",
       "97      65a92713-5969-48b1-8945-bfefa5063887  satellite_orbital_assembly   \n",
       "110     fa352362-d258-472c-b295-2796ccc39fa3  satellite_orbital_assembly   \n",
       "149     7b3b6554-7949-4065-9808-d6c79bdc2f58  satellite_orbital_assembly   \n",
       "219     b374304d-2f74-4cc1-a4e2-500da44a06c7  satellite_orbital_assembly   \n",
       "...                                      ...                         ...   \n",
       "134769  73e509b2-24eb-43eb-af8d-33d422b66c4b  satellite_orbital_assembly   \n",
       "135067  ebc83c73-7efc-4e57-b206-6d2cb9388b8a  satellite_orbital_assembly   \n",
       "135365  92c1bdec-8449-4769-bf15-203c8e5830cc  satellite_orbital_assembly   \n",
       "135534  825e727b-7847-4c5f-a26c-3ee0f18d8177  satellite_orbital_assembly   \n",
       "135587  637a8d39-3872-4549-80cc-bebee6c88056  satellite_orbital_assembly   \n",
       "\n",
       "                         source  \n",
       "17                 facebook_ads  \n",
       "97                yandex_direct  \n",
       "110     youtube_channel_reklama  \n",
       "149       instagram_new_adverts  \n",
       "219                facebook_ads  \n",
       "...                         ...  \n",
       "134769  youtube_channel_reklama  \n",
       "135067            yandex_direct  \n",
       "135365             facebook_ads  \n",
       "135534  youtube_channel_reklama  \n",
       "135587            yandex_direct  \n",
       "\n",
       "[1866 rows x 6 columns]"
      ]
     },
     "execution_count": 35,
     "metadata": {},
     "output_type": "execute_result"
    }
   ],
   "source": [
    "actions.loc[~actions['project_type'].isna()]"
   ]
  },
  {
   "cell_type": "code",
   "execution_count": 36,
   "metadata": {},
   "outputs": [
    {
     "data": {
      "text/plain": [
       "array(['c07b1c10-f477-44dc-81dc-ec82254b1347',\n",
       "       '65a92713-5969-48b1-8945-bfefa5063887',\n",
       "       'fa352362-d258-472c-b295-2796ccc39fa3', ...,\n",
       "       '92c1bdec-8449-4769-bf15-203c8e5830cc',\n",
       "       '825e727b-7847-4c5f-a26c-3ee0f18d8177',\n",
       "       '637a8d39-3872-4549-80cc-bebee6c88056'], dtype=object)"
      ]
     },
     "execution_count": 36,
     "metadata": {},
     "output_type": "execute_result"
    }
   ],
   "source": [
    "unique_id_pve = actions.loc[~actions['project_type'].isna(), 'user_id'].unique()\n",
    "unique_id_pve"
   ]
  },
  {
   "cell_type": "code",
   "execution_count": 37,
   "metadata": {},
   "outputs": [
    {
     "data": {
      "text/html": [
       "<div>\n",
       "<style scoped>\n",
       "    .dataframe tbody tr th:only-of-type {\n",
       "        vertical-align: middle;\n",
       "    }\n",
       "\n",
       "    .dataframe tbody tr th {\n",
       "        vertical-align: top;\n",
       "    }\n",
       "\n",
       "    .dataframe thead th {\n",
       "        text-align: right;\n",
       "    }\n",
       "</style>\n",
       "<table border=\"1\" class=\"dataframe\">\n",
       "  <thead>\n",
       "    <tr style=\"text-align: right;\">\n",
       "      <th></th>\n",
       "      <th>event_datetime</th>\n",
       "      <th>event</th>\n",
       "      <th>building_type</th>\n",
       "      <th>user_id</th>\n",
       "      <th>project_type</th>\n",
       "      <th>source</th>\n",
       "    </tr>\n",
       "  </thead>\n",
       "  <tbody>\n",
       "    <tr>\n",
       "      <th>7</th>\n",
       "      <td>4</td>\n",
       "      <td>building</td>\n",
       "      <td>assembly_shop</td>\n",
       "      <td>c07b1c10-f477-44dc-81dc-ec82254b1347</td>\n",
       "      <td>NaN</td>\n",
       "      <td>facebook_ads</td>\n",
       "    </tr>\n",
       "    <tr>\n",
       "      <th>8</th>\n",
       "      <td>6</td>\n",
       "      <td>building</td>\n",
       "      <td>assembly_shop</td>\n",
       "      <td>c07b1c10-f477-44dc-81dc-ec82254b1347</td>\n",
       "      <td>NaN</td>\n",
       "      <td>facebook_ads</td>\n",
       "    </tr>\n",
       "    <tr>\n",
       "      <th>9</th>\n",
       "      <td>7</td>\n",
       "      <td>building</td>\n",
       "      <td>spaceport</td>\n",
       "      <td>c07b1c10-f477-44dc-81dc-ec82254b1347</td>\n",
       "      <td>NaN</td>\n",
       "      <td>facebook_ads</td>\n",
       "    </tr>\n",
       "    <tr>\n",
       "      <th>10</th>\n",
       "      <td>7</td>\n",
       "      <td>building</td>\n",
       "      <td>assembly_shop</td>\n",
       "      <td>c07b1c10-f477-44dc-81dc-ec82254b1347</td>\n",
       "      <td>NaN</td>\n",
       "      <td>facebook_ads</td>\n",
       "    </tr>\n",
       "    <tr>\n",
       "      <th>11</th>\n",
       "      <td>7</td>\n",
       "      <td>building</td>\n",
       "      <td>assembly_shop</td>\n",
       "      <td>c07b1c10-f477-44dc-81dc-ec82254b1347</td>\n",
       "      <td>NaN</td>\n",
       "      <td>facebook_ads</td>\n",
       "    </tr>\n",
       "    <tr>\n",
       "      <th>...</th>\n",
       "      <td>...</td>\n",
       "      <td>...</td>\n",
       "      <td>...</td>\n",
       "      <td>...</td>\n",
       "      <td>...</td>\n",
       "      <td>...</td>\n",
       "    </tr>\n",
       "    <tr>\n",
       "      <th>135584</th>\n",
       "      <td>28</td>\n",
       "      <td>building</td>\n",
       "      <td>spaceport</td>\n",
       "      <td>637a8d39-3872-4549-80cc-bebee6c88056</td>\n",
       "      <td>NaN</td>\n",
       "      <td>yandex_direct</td>\n",
       "    </tr>\n",
       "    <tr>\n",
       "      <th>135585</th>\n",
       "      <td>28</td>\n",
       "      <td>building</td>\n",
       "      <td>research_center</td>\n",
       "      <td>637a8d39-3872-4549-80cc-bebee6c88056</td>\n",
       "      <td>NaN</td>\n",
       "      <td>yandex_direct</td>\n",
       "    </tr>\n",
       "    <tr>\n",
       "      <th>135586</th>\n",
       "      <td>30</td>\n",
       "      <td>building</td>\n",
       "      <td>research_center</td>\n",
       "      <td>637a8d39-3872-4549-80cc-bebee6c88056</td>\n",
       "      <td>NaN</td>\n",
       "      <td>yandex_direct</td>\n",
       "    </tr>\n",
       "    <tr>\n",
       "      <th>135587</th>\n",
       "      <td>1</td>\n",
       "      <td>project</td>\n",
       "      <td>NaN</td>\n",
       "      <td>637a8d39-3872-4549-80cc-bebee6c88056</td>\n",
       "      <td>satellite_orbital_assembly</td>\n",
       "      <td>yandex_direct</td>\n",
       "    </tr>\n",
       "    <tr>\n",
       "      <th>135588</th>\n",
       "      <td>2</td>\n",
       "      <td>finished_stage_1</td>\n",
       "      <td>NaN</td>\n",
       "      <td>637a8d39-3872-4549-80cc-bebee6c88056</td>\n",
       "      <td>NaN</td>\n",
       "      <td>yandex_direct</td>\n",
       "    </tr>\n",
       "  </tbody>\n",
       "</table>\n",
       "<p>27333 rows × 6 columns</p>\n",
       "</div>"
      ],
      "text/plain": [
       "        event_datetime             event    building_type  \\\n",
       "7                    4          building    assembly_shop   \n",
       "8                    6          building    assembly_shop   \n",
       "9                    7          building        spaceport   \n",
       "10                   7          building    assembly_shop   \n",
       "11                   7          building    assembly_shop   \n",
       "...                ...               ...              ...   \n",
       "135584              28          building        spaceport   \n",
       "135585              28          building  research_center   \n",
       "135586              30          building  research_center   \n",
       "135587               1           project              NaN   \n",
       "135588               2  finished_stage_1              NaN   \n",
       "\n",
       "                                     user_id                project_type  \\\n",
       "7       c07b1c10-f477-44dc-81dc-ec82254b1347                         NaN   \n",
       "8       c07b1c10-f477-44dc-81dc-ec82254b1347                         NaN   \n",
       "9       c07b1c10-f477-44dc-81dc-ec82254b1347                         NaN   \n",
       "10      c07b1c10-f477-44dc-81dc-ec82254b1347                         NaN   \n",
       "11      c07b1c10-f477-44dc-81dc-ec82254b1347                         NaN   \n",
       "...                                      ...                         ...   \n",
       "135584  637a8d39-3872-4549-80cc-bebee6c88056                         NaN   \n",
       "135585  637a8d39-3872-4549-80cc-bebee6c88056                         NaN   \n",
       "135586  637a8d39-3872-4549-80cc-bebee6c88056                         NaN   \n",
       "135587  637a8d39-3872-4549-80cc-bebee6c88056  satellite_orbital_assembly   \n",
       "135588  637a8d39-3872-4549-80cc-bebee6c88056                         NaN   \n",
       "\n",
       "               source  \n",
       "7        facebook_ads  \n",
       "8        facebook_ads  \n",
       "9        facebook_ads  \n",
       "10       facebook_ads  \n",
       "11       facebook_ads  \n",
       "...               ...  \n",
       "135584  yandex_direct  \n",
       "135585  yandex_direct  \n",
       "135586  yandex_direct  \n",
       "135587  yandex_direct  \n",
       "135588  yandex_direct  \n",
       "\n",
       "[27333 rows x 6 columns]"
      ]
     },
     "execution_count": 37,
     "metadata": {},
     "output_type": "execute_result"
    }
   ],
   "source": [
    "pve = actions.loc[actions['user_id'].isin(unique_id_pve)]\n",
    "pve"
   ]
  },
  {
   "cell_type": "markdown",
   "metadata": {},
   "source": [
    "##### PVP"
   ]
  },
  {
   "cell_type": "code",
   "execution_count": 38,
   "metadata": {},
   "outputs": [],
   "source": [
    "unique_id_pvp = (actions.loc[actions['event'] == 'finished_stage_1']).loc[~\n",
    "    (actions.loc[actions['event'] == 'finished_stage_1'])['user_id']\n",
    "    .isin(unique_id_pve), 'user_id'\n",
    "].unique()"
   ]
  },
  {
   "cell_type": "code",
   "execution_count": 39,
   "metadata": {},
   "outputs": [
    {
     "data": {
      "text/html": [
       "<div>\n",
       "<style scoped>\n",
       "    .dataframe tbody tr th:only-of-type {\n",
       "        vertical-align: middle;\n",
       "    }\n",
       "\n",
       "    .dataframe tbody tr th {\n",
       "        vertical-align: top;\n",
       "    }\n",
       "\n",
       "    .dataframe thead th {\n",
       "        text-align: right;\n",
       "    }\n",
       "</style>\n",
       "<table border=\"1\" class=\"dataframe\">\n",
       "  <thead>\n",
       "    <tr style=\"text-align: right;\">\n",
       "      <th></th>\n",
       "      <th>event_datetime</th>\n",
       "      <th>event</th>\n",
       "      <th>building_type</th>\n",
       "      <th>user_id</th>\n",
       "      <th>project_type</th>\n",
       "      <th>source</th>\n",
       "    </tr>\n",
       "  </thead>\n",
       "  <tbody>\n",
       "    <tr>\n",
       "      <th>20</th>\n",
       "      <td>4</td>\n",
       "      <td>building</td>\n",
       "      <td>assembly_shop</td>\n",
       "      <td>6edd42cc-e753-4ff6-a947-2107cd560710</td>\n",
       "      <td>NaN</td>\n",
       "      <td>instagram_new_adverts</td>\n",
       "    </tr>\n",
       "    <tr>\n",
       "      <th>21</th>\n",
       "      <td>7</td>\n",
       "      <td>building</td>\n",
       "      <td>assembly_shop</td>\n",
       "      <td>6edd42cc-e753-4ff6-a947-2107cd560710</td>\n",
       "      <td>NaN</td>\n",
       "      <td>instagram_new_adverts</td>\n",
       "    </tr>\n",
       "    <tr>\n",
       "      <th>22</th>\n",
       "      <td>7</td>\n",
       "      <td>building</td>\n",
       "      <td>assembly_shop</td>\n",
       "      <td>6edd42cc-e753-4ff6-a947-2107cd560710</td>\n",
       "      <td>NaN</td>\n",
       "      <td>instagram_new_adverts</td>\n",
       "    </tr>\n",
       "    <tr>\n",
       "      <th>23</th>\n",
       "      <td>7</td>\n",
       "      <td>building</td>\n",
       "      <td>assembly_shop</td>\n",
       "      <td>6edd42cc-e753-4ff6-a947-2107cd560710</td>\n",
       "      <td>NaN</td>\n",
       "      <td>instagram_new_adverts</td>\n",
       "    </tr>\n",
       "    <tr>\n",
       "      <th>24</th>\n",
       "      <td>8</td>\n",
       "      <td>building</td>\n",
       "      <td>assembly_shop</td>\n",
       "      <td>6edd42cc-e753-4ff6-a947-2107cd560710</td>\n",
       "      <td>NaN</td>\n",
       "      <td>instagram_new_adverts</td>\n",
       "    </tr>\n",
       "    <tr>\n",
       "      <th>...</th>\n",
       "      <td>...</td>\n",
       "      <td>...</td>\n",
       "      <td>...</td>\n",
       "      <td>...</td>\n",
       "      <td>...</td>\n",
       "      <td>...</td>\n",
       "    </tr>\n",
       "    <tr>\n",
       "      <th>135617</th>\n",
       "      <td>17</td>\n",
       "      <td>building</td>\n",
       "      <td>spaceport</td>\n",
       "      <td>20bc9d79-10c4-4f2d-862e-4a6dece3b4ec</td>\n",
       "      <td>NaN</td>\n",
       "      <td>youtube_channel_reklama</td>\n",
       "    </tr>\n",
       "    <tr>\n",
       "      <th>135618</th>\n",
       "      <td>23</td>\n",
       "      <td>building</td>\n",
       "      <td>spaceport</td>\n",
       "      <td>20bc9d79-10c4-4f2d-862e-4a6dece3b4ec</td>\n",
       "      <td>NaN</td>\n",
       "      <td>youtube_channel_reklama</td>\n",
       "    </tr>\n",
       "    <tr>\n",
       "      <th>135619</th>\n",
       "      <td>26</td>\n",
       "      <td>building</td>\n",
       "      <td>spaceport</td>\n",
       "      <td>20bc9d79-10c4-4f2d-862e-4a6dece3b4ec</td>\n",
       "      <td>NaN</td>\n",
       "      <td>youtube_channel_reklama</td>\n",
       "    </tr>\n",
       "    <tr>\n",
       "      <th>135620</th>\n",
       "      <td>30</td>\n",
       "      <td>building</td>\n",
       "      <td>spaceport</td>\n",
       "      <td>20bc9d79-10c4-4f2d-862e-4a6dece3b4ec</td>\n",
       "      <td>NaN</td>\n",
       "      <td>youtube_channel_reklama</td>\n",
       "    </tr>\n",
       "    <tr>\n",
       "      <th>135621</th>\n",
       "      <td>31</td>\n",
       "      <td>finished_stage_1</td>\n",
       "      <td>NaN</td>\n",
       "      <td>20bc9d79-10c4-4f2d-862e-4a6dece3b4ec</td>\n",
       "      <td>NaN</td>\n",
       "      <td>youtube_channel_reklama</td>\n",
       "    </tr>\n",
       "  </tbody>\n",
       "</table>\n",
       "<p>41136 rows × 6 columns</p>\n",
       "</div>"
      ],
      "text/plain": [
       "        event_datetime             event  building_type  \\\n",
       "20                   4          building  assembly_shop   \n",
       "21                   7          building  assembly_shop   \n",
       "22                   7          building  assembly_shop   \n",
       "23                   7          building  assembly_shop   \n",
       "24                   8          building  assembly_shop   \n",
       "...                ...               ...            ...   \n",
       "135617              17          building      spaceport   \n",
       "135618              23          building      spaceport   \n",
       "135619              26          building      spaceport   \n",
       "135620              30          building      spaceport   \n",
       "135621              31  finished_stage_1            NaN   \n",
       "\n",
       "                                     user_id project_type  \\\n",
       "20      6edd42cc-e753-4ff6-a947-2107cd560710          NaN   \n",
       "21      6edd42cc-e753-4ff6-a947-2107cd560710          NaN   \n",
       "22      6edd42cc-e753-4ff6-a947-2107cd560710          NaN   \n",
       "23      6edd42cc-e753-4ff6-a947-2107cd560710          NaN   \n",
       "24      6edd42cc-e753-4ff6-a947-2107cd560710          NaN   \n",
       "...                                      ...          ...   \n",
       "135617  20bc9d79-10c4-4f2d-862e-4a6dece3b4ec          NaN   \n",
       "135618  20bc9d79-10c4-4f2d-862e-4a6dece3b4ec          NaN   \n",
       "135619  20bc9d79-10c4-4f2d-862e-4a6dece3b4ec          NaN   \n",
       "135620  20bc9d79-10c4-4f2d-862e-4a6dece3b4ec          NaN   \n",
       "135621  20bc9d79-10c4-4f2d-862e-4a6dece3b4ec          NaN   \n",
       "\n",
       "                         source  \n",
       "20        instagram_new_adverts  \n",
       "21        instagram_new_adverts  \n",
       "22        instagram_new_adverts  \n",
       "23        instagram_new_adverts  \n",
       "24        instagram_new_adverts  \n",
       "...                         ...  \n",
       "135617  youtube_channel_reklama  \n",
       "135618  youtube_channel_reklama  \n",
       "135619  youtube_channel_reklama  \n",
       "135620  youtube_channel_reklama  \n",
       "135621  youtube_channel_reklama  \n",
       "\n",
       "[41136 rows x 6 columns]"
      ]
     },
     "execution_count": 39,
     "metadata": {},
     "output_type": "execute_result"
    }
   ],
   "source": [
    "pvp = actions.loc[actions['user_id'].isin(unique_id_pvp)]\n",
    "pvp"
   ]
  },
  {
   "cell_type": "markdown",
   "metadata": {},
   "source": [
    "#####   Verification by strategies"
   ]
  },
  {
   "cell_type": "code",
   "execution_count": 40,
   "metadata": {},
   "outputs": [
    {
     "name": "stdout",
     "output_type": "stream",
     "text": [
      "The total number of users who clicked the button:  finished_stage_1    5817\n",
      "Name: event, dtype: int64\n"
     ]
    }
   ],
   "source": [
    "print( 'The total number of users who clicked the button: ' ,\n",
    "      actions.loc[actions['event'] == 'finished_stage_1', 'event'].value_counts())"
   ]
  },
  {
   "cell_type": "code",
   "execution_count": 41,
   "metadata": {},
   "outputs": [
    {
     "name": "stdout",
     "output_type": "stream",
     "text": [
      "The total number of users following the PVE strategy: finished_stage_1    1866\n",
      "Name: event, dtype: int64\n"
     ]
    }
   ],
   "source": [
    "print( 'The total number of users following the PVE strategy:' , \n",
    "      pve.loc[pve['event'] == 'finished_stage_1', 'event'].value_counts())"
   ]
  },
  {
   "cell_type": "code",
   "execution_count": 42,
   "metadata": {},
   "outputs": [
    {
     "name": "stdout",
     "output_type": "stream",
     "text": [
      "The total number of users following the PVP strategy: finished_stage_1    3951\n",
      "Name: event, dtype: int64\n"
     ]
    }
   ],
   "source": [
    "print( 'The total number of users following the PVP strategy:' ,\n",
    "      pvp.loc[pvp['event'] == 'finished_stage_1', 'event'].value_counts())"
   ]
  },
  {
   "cell_type": "code",
   "execution_count": 43,
   "metadata": {},
   "outputs": [
    {
     "data": {
      "text/plain": [
       "finished_stage_1    5817\n",
       "Name: event, dtype: int64"
      ]
     },
     "execution_count": 43,
     "metadata": {},
     "output_type": "execute_result"
    }
   ],
   "source": [
    "(pve.loc[pve['event'] == 'finished_stage_1', 'event'].value_counts())+(\n",
    "    pvp.loc[pvp['event'] == 'finished_stage_1', 'event'].value_counts())"
   ]
  },
  {
   "cell_type": "markdown",
   "metadata": {},
   "source": [
    "##### Hypothesis testing"
   ]
  },
  {
   "cell_type": "code",
   "execution_count": 44,
   "metadata": {},
   "outputs": [
    {
     "data": {
      "text/html": [
       "<div>\n",
       "<style scoped>\n",
       "    .dataframe tbody tr th:only-of-type {\n",
       "        vertical-align: middle;\n",
       "    }\n",
       "\n",
       "    .dataframe tbody tr th {\n",
       "        vertical-align: top;\n",
       "    }\n",
       "\n",
       "    .dataframe thead th {\n",
       "        text-align: right;\n",
       "    }\n",
       "</style>\n",
       "<table border=\"1\" class=\"dataframe\">\n",
       "  <thead>\n",
       "    <tr style=\"text-align: right;\">\n",
       "      <th></th>\n",
       "      <th>user_id</th>\n",
       "      <th>max</th>\n",
       "      <th>min</th>\n",
       "      <th>count</th>\n",
       "    </tr>\n",
       "  </thead>\n",
       "  <tbody>\n",
       "    <tr>\n",
       "      <th>0</th>\n",
       "      <td>001d39dc-366c-4021-9604-6a3b9ff01e25</td>\n",
       "      <td>12</td>\n",
       "      <td>5</td>\n",
       "      <td>7</td>\n",
       "    </tr>\n",
       "    <tr>\n",
       "      <th>1</th>\n",
       "      <td>003ee7e8-6356-4286-a715-62f22a18d2a1</td>\n",
       "      <td>17</td>\n",
       "      <td>5</td>\n",
       "      <td>12</td>\n",
       "    </tr>\n",
       "    <tr>\n",
       "      <th>2</th>\n",
       "      <td>004074f8-251a-4776-922c-8348dca1a2f6</td>\n",
       "      <td>16</td>\n",
       "      <td>4</td>\n",
       "      <td>12</td>\n",
       "    </tr>\n",
       "    <tr>\n",
       "      <th>3</th>\n",
       "      <td>00464e5e-28ed-4be6-bf44-517ef7b3937b</td>\n",
       "      <td>15</td>\n",
       "      <td>4</td>\n",
       "      <td>11</td>\n",
       "    </tr>\n",
       "    <tr>\n",
       "      <th>4</th>\n",
       "      <td>0056c007-c082-43cc-bdef-afc49bca4cb9</td>\n",
       "      <td>16</td>\n",
       "      <td>10</td>\n",
       "      <td>6</td>\n",
       "    </tr>\n",
       "    <tr>\n",
       "      <th>...</th>\n",
       "      <td>...</td>\n",
       "      <td>...</td>\n",
       "      <td>...</td>\n",
       "      <td>...</td>\n",
       "    </tr>\n",
       "    <tr>\n",
       "      <th>3946</th>\n",
       "      <td>ffc6f4fa-3476-47af-85cb-e2ee0551110a</td>\n",
       "      <td>15</td>\n",
       "      <td>4</td>\n",
       "      <td>11</td>\n",
       "    </tr>\n",
       "    <tr>\n",
       "      <th>3947</th>\n",
       "      <td>ffd002f3-3545-423e-8dba-0c6a2d48a3aa</td>\n",
       "      <td>19</td>\n",
       "      <td>6</td>\n",
       "      <td>13</td>\n",
       "    </tr>\n",
       "    <tr>\n",
       "      <th>3948</th>\n",
       "      <td>ffe810f4-1a1f-464b-924d-6f120b0cb8df</td>\n",
       "      <td>18</td>\n",
       "      <td>4</td>\n",
       "      <td>14</td>\n",
       "    </tr>\n",
       "    <tr>\n",
       "      <th>3949</th>\n",
       "      <td>ffef4fed-164c-40e1-bde1-3980f76d0fb5</td>\n",
       "      <td>11</td>\n",
       "      <td>4</td>\n",
       "      <td>7</td>\n",
       "    </tr>\n",
       "    <tr>\n",
       "      <th>3950</th>\n",
       "      <td>fffb626c-5ab6-47c9-8113-2062a2f18494</td>\n",
       "      <td>12</td>\n",
       "      <td>4</td>\n",
       "      <td>8</td>\n",
       "    </tr>\n",
       "  </tbody>\n",
       "</table>\n",
       "<p>3951 rows × 4 columns</p>\n",
       "</div>"
      ],
      "text/plain": [
       "                                   user_id  max  min  count\n",
       "0     001d39dc-366c-4021-9604-6a3b9ff01e25   12    5      7\n",
       "1     003ee7e8-6356-4286-a715-62f22a18d2a1   17    5     12\n",
       "2     004074f8-251a-4776-922c-8348dca1a2f6   16    4     12\n",
       "3     00464e5e-28ed-4be6-bf44-517ef7b3937b   15    4     11\n",
       "4     0056c007-c082-43cc-bdef-afc49bca4cb9   16   10      6\n",
       "...                                    ...  ...  ...    ...\n",
       "3946  ffc6f4fa-3476-47af-85cb-e2ee0551110a   15    4     11\n",
       "3947  ffd002f3-3545-423e-8dba-0c6a2d48a3aa   19    6     13\n",
       "3948  ffe810f4-1a1f-464b-924d-6f120b0cb8df   18    4     14\n",
       "3949  ffef4fed-164c-40e1-bde1-3980f76d0fb5   11    4      7\n",
       "3950  fffb626c-5ab6-47c9-8113-2062a2f18494   12    4      8\n",
       "\n",
       "[3951 rows x 4 columns]"
      ]
     },
     "execution_count": 44,
     "metadata": {},
     "output_type": "execute_result"
    }
   ],
   "source": [
    "pvp_time = pvp.groupby('user_id').agg(max=('event_datetime','max'), min=('event_datetime','min')).reset_index()\n",
    "pvp_time['count'] = pvp_time['max'] - pvp_time['min']\n",
    "pvp_time"
   ]
  },
  {
   "cell_type": "code",
   "execution_count": 45,
   "metadata": {},
   "outputs": [
    {
     "data": {
      "text/html": [
       "<div>\n",
       "<style scoped>\n",
       "    .dataframe tbody tr th:only-of-type {\n",
       "        vertical-align: middle;\n",
       "    }\n",
       "\n",
       "    .dataframe tbody tr th {\n",
       "        vertical-align: top;\n",
       "    }\n",
       "\n",
       "    .dataframe thead th {\n",
       "        text-align: right;\n",
       "    }\n",
       "</style>\n",
       "<table border=\"1\" class=\"dataframe\">\n",
       "  <thead>\n",
       "    <tr style=\"text-align: right;\">\n",
       "      <th></th>\n",
       "      <th>user_id</th>\n",
       "      <th>max</th>\n",
       "      <th>min</th>\n",
       "      <th>count</th>\n",
       "    </tr>\n",
       "  </thead>\n",
       "  <tbody>\n",
       "    <tr>\n",
       "      <th>0</th>\n",
       "      <td>006380d6-67a6-45de-ab1e-6eb54ad8dbe8</td>\n",
       "      <td>16</td>\n",
       "      <td>4</td>\n",
       "      <td>12</td>\n",
       "    </tr>\n",
       "    <tr>\n",
       "      <th>1</th>\n",
       "      <td>00be7371-fa79-4fbd-b8e7-8ba32e3f8f82</td>\n",
       "      <td>24</td>\n",
       "      <td>8</td>\n",
       "      <td>16</td>\n",
       "    </tr>\n",
       "    <tr>\n",
       "      <th>2</th>\n",
       "      <td>00c2b9f2-2615-439c-aed0-6974e4c6c1c1</td>\n",
       "      <td>27</td>\n",
       "      <td>7</td>\n",
       "      <td>20</td>\n",
       "    </tr>\n",
       "    <tr>\n",
       "      <th>3</th>\n",
       "      <td>00de2809-403e-4476-a2f7-ca1b11700190</td>\n",
       "      <td>18</td>\n",
       "      <td>4</td>\n",
       "      <td>14</td>\n",
       "    </tr>\n",
       "    <tr>\n",
       "      <th>4</th>\n",
       "      <td>00e83261-5fd4-4939-9616-802b5a0202c6</td>\n",
       "      <td>20</td>\n",
       "      <td>5</td>\n",
       "      <td>15</td>\n",
       "    </tr>\n",
       "    <tr>\n",
       "      <th>...</th>\n",
       "      <td>...</td>\n",
       "      <td>...</td>\n",
       "      <td>...</td>\n",
       "      <td>...</td>\n",
       "    </tr>\n",
       "    <tr>\n",
       "      <th>1861</th>\n",
       "      <td>ff50f63a-c4b3-494e-8bf9-3f19dbfc513e</td>\n",
       "      <td>23</td>\n",
       "      <td>4</td>\n",
       "      <td>19</td>\n",
       "    </tr>\n",
       "    <tr>\n",
       "      <th>1862</th>\n",
       "      <td>ff60fcd1-4329-494e-b82d-461fbdf5b5eb</td>\n",
       "      <td>13</td>\n",
       "      <td>5</td>\n",
       "      <td>8</td>\n",
       "    </tr>\n",
       "    <tr>\n",
       "      <th>1863</th>\n",
       "      <td>ff83bdd8-f49a-49fd-8aad-9fa1fb30d516</td>\n",
       "      <td>18</td>\n",
       "      <td>4</td>\n",
       "      <td>14</td>\n",
       "    </tr>\n",
       "    <tr>\n",
       "      <th>1864</th>\n",
       "      <td>ff841992-d93b-462e-bc6e-18c24a514f36</td>\n",
       "      <td>16</td>\n",
       "      <td>5</td>\n",
       "      <td>11</td>\n",
       "    </tr>\n",
       "    <tr>\n",
       "      <th>1865</th>\n",
       "      <td>ffff69cc-fec1-4fd3-9f98-93be1112a6b8</td>\n",
       "      <td>25</td>\n",
       "      <td>8</td>\n",
       "      <td>17</td>\n",
       "    </tr>\n",
       "  </tbody>\n",
       "</table>\n",
       "<p>1866 rows × 4 columns</p>\n",
       "</div>"
      ],
      "text/plain": [
       "                                   user_id  max  min  count\n",
       "0     006380d6-67a6-45de-ab1e-6eb54ad8dbe8   16    4     12\n",
       "1     00be7371-fa79-4fbd-b8e7-8ba32e3f8f82   24    8     16\n",
       "2     00c2b9f2-2615-439c-aed0-6974e4c6c1c1   27    7     20\n",
       "3     00de2809-403e-4476-a2f7-ca1b11700190   18    4     14\n",
       "4     00e83261-5fd4-4939-9616-802b5a0202c6   20    5     15\n",
       "...                                    ...  ...  ...    ...\n",
       "1861  ff50f63a-c4b3-494e-8bf9-3f19dbfc513e   23    4     19\n",
       "1862  ff60fcd1-4329-494e-b82d-461fbdf5b5eb   13    5      8\n",
       "1863  ff83bdd8-f49a-49fd-8aad-9fa1fb30d516   18    4     14\n",
       "1864  ff841992-d93b-462e-bc6e-18c24a514f36   16    5     11\n",
       "1865  ffff69cc-fec1-4fd3-9f98-93be1112a6b8   25    8     17\n",
       "\n",
       "[1866 rows x 4 columns]"
      ]
     },
     "execution_count": 45,
     "metadata": {},
     "output_type": "execute_result"
    }
   ],
   "source": [
    "pve_time = pve.groupby('user_id').agg(max=('event_datetime','max'), min=('event_datetime','min')).reset_index()\n",
    "pve_time['count'] = pve_time['max'] - pve_time['min']\n",
    "pve_a = pve_time\n",
    "pve_time"
   ]
  },
  {
   "cell_type": "markdown",
   "metadata": {},
   "source": [
    "To test the hypothesis, we will use the \"Comparison of Two Independent Samples\" method or ttest_ind.\n",
    "\n",
    "Hypotheses:\n",
    "\n",
    "* H0: The mean completion time does not differ depending on the method of completing the PVE and PVP strategies.\n",
    "\n",
    "* Alternative hypothesis: The mean completion time differs.\n",
    "\n",
    "Set the significance level alpha at 5%"
   ]
  },
  {
   "cell_type": "code",
   "execution_count": 46,
   "metadata": {},
   "outputs": [
    {
     "name": "stdout",
     "output_type": "stream",
     "text": [
      "7.382571911126114e-105\n",
      "Reject the null hypothesis\n"
     ]
    }
   ],
   "source": [
    "alpha = 0.05\n",
    "\n",
    "results = st.ttest_ind( (pve_time['count']) , \n",
    "                       (pvp_time['count']),\n",
    "                       equal_var = False)\n",
    "\n",
    "print(results.pvalue)\n",
    "if results.pvalue < alpha:\n",
    "    print('Reject the null hypothesis')\n",
    "else:\n",
    "    print('Not enough evidence to reject the null hypothesis')"
   ]
  },
  {
   "cell_type": "code",
   "execution_count": 47,
   "metadata": {},
   "outputs": [
    {
     "name": "stdout",
     "output_type": "stream",
     "text": [
      "PVE 13.0\n",
      "PVP 11.0\n"
     ]
    }
   ],
   "source": [
    "print('PVE',  pve_time['count'].median())\n",
    "print('PVP',  pvp_time['count'].median())"
   ]
  },
  {
   "cell_type": "markdown",
   "metadata": {},
   "source": [
    "**Conclusion**\n",
    "\n",
    "According to the results of the statistical test, we reject the null hypothesis and conclude that the completion time of the level differs significantly depending on the method of completing the PVE and PVP strategies. Players following the PVP strategy complete the game earlier, within 11 days, compared to players in the PVE strategy who take 13 days."
   ]
  },
  {
   "cell_type": "markdown",
   "metadata": {},
   "source": [
    "####  5.2 Test hypothesis \"The average number of buildings constructed by players varies depending on the chosen strategy\""
   ]
  },
  {
   "cell_type": "markdown",
   "metadata": {},
   "source": [
    "To test this hypothesis with \"Comparison of Two Independent Samples\" method or ttest_ind.\n",
    "\n",
    "Hypotheses:\n",
    "\n",
    "H0: The average number of buildings constructed by players varies depending on the chosen strategy.\n",
    "\n",
    "Alternative hypothesis: The average number differs.\n",
    "\n",
    "Set the significance level alpha at 5%."
   ]
  },
  {
   "cell_type": "code",
   "execution_count": 48,
   "metadata": {},
   "outputs": [],
   "source": [
    "pvp_а = pvp.groupby('user_id').agg(count=('building_type','count')).reset_index()"
   ]
  },
  {
   "cell_type": "code",
   "execution_count": 49,
   "metadata": {
    "scrolled": true
   },
   "outputs": [
    {
     "name": "stdout",
     "output_type": "stream",
     "text": [
      "9.150438114161319e-304\n",
      "Reject the null hypothesis\n"
     ]
    }
   ],
   "source": [
    "results = st.ttest_ind(pvp_а['count'],\n",
    "                       pve_a['count'],\n",
    "                       equal_var = False)\n",
    "\n",
    "print(results.pvalue)\n",
    "if results.pvalue < alpha:\n",
    "    print('Reject the null hypothesis')\n",
    "else:\n",
    "    print('Not enough evidence to reject the null hypothesis')"
   ]
  },
  {
   "cell_type": "markdown",
   "metadata": {},
   "source": [
    "**Conclusion**\n",
    "\n",
    "According to the results of the statistical test, we reject the null hypothesis and consider that the average number of buildings statistically differs depending on the method of completing the PVE and PVP strategies."
   ]
  },
  {
   "cell_type": "markdown",
   "metadata": {},
   "source": [
    "## 6 Channel rank"
   ]
  },
  {
   "cell_type": "code",
   "execution_count": 50,
   "metadata": {
    "scrolled": true
   },
   "outputs": [
    {
     "data": {
      "text/html": [
       "<div>\n",
       "<style scoped>\n",
       "    .dataframe tbody tr th:only-of-type {\n",
       "        vertical-align: middle;\n",
       "    }\n",
       "\n",
       "    .dataframe tbody tr th {\n",
       "        vertical-align: top;\n",
       "    }\n",
       "\n",
       "    .dataframe thead th {\n",
       "        text-align: right;\n",
       "    }\n",
       "</style>\n",
       "<table border=\"1\" class=\"dataframe\">\n",
       "  <thead>\n",
       "    <tr style=\"text-align: right;\">\n",
       "      <th></th>\n",
       "      <th>source</th>\n",
       "      <th>cost%</th>\n",
       "      <th>user_id%</th>\n",
       "      <th>cost_per_1%</th>\n",
       "      <th>days_till_finish</th>\n",
       "      <th>finished_1_lavel%</th>\n",
       "      <th>count_built</th>\n",
       "    </tr>\n",
       "  </thead>\n",
       "  <tbody>\n",
       "    <tr>\n",
       "      <th>3</th>\n",
       "      <td>youtube_channel_reklama</td>\n",
       "      <td>14.0</td>\n",
       "      <td>20.0</td>\n",
       "      <td>17.0</td>\n",
       "      <td>10.0</td>\n",
       "      <td>14.0</td>\n",
       "      <td>10.0</td>\n",
       "    </tr>\n",
       "    <tr>\n",
       "      <th>0</th>\n",
       "      <td>yandex_direct</td>\n",
       "      <td>29.0</td>\n",
       "      <td>35.0</td>\n",
       "      <td>20.0</td>\n",
       "      <td>10.0</td>\n",
       "      <td>13.0</td>\n",
       "      <td>10.0</td>\n",
       "    </tr>\n",
       "    <tr>\n",
       "      <th>1</th>\n",
       "      <td>instagram_new_adverts</td>\n",
       "      <td>28.0</td>\n",
       "      <td>25.0</td>\n",
       "      <td>28.0</td>\n",
       "      <td>11.0</td>\n",
       "      <td>14.0</td>\n",
       "      <td>10.0</td>\n",
       "    </tr>\n",
       "    <tr>\n",
       "      <th>2</th>\n",
       "      <td>facebook_ads</td>\n",
       "      <td>28.0</td>\n",
       "      <td>20.0</td>\n",
       "      <td>34.0</td>\n",
       "      <td>11.0</td>\n",
       "      <td>14.0</td>\n",
       "      <td>10.0</td>\n",
       "    </tr>\n",
       "  </tbody>\n",
       "</table>\n",
       "</div>"
      ],
      "text/plain": [
       "                    source  cost%  user_id%  cost_per_1%  days_till_finish  \\\n",
       "3  youtube_channel_reklama   14.0      20.0         17.0              10.0   \n",
       "0            yandex_direct   29.0      35.0         20.0              10.0   \n",
       "1    instagram_new_adverts   28.0      25.0         28.0              11.0   \n",
       "2             facebook_ads   28.0      20.0         34.0              11.0   \n",
       "\n",
       "   finished_1_lavel%  count_built  \n",
       "3               14.0         10.0  \n",
       "0               13.0         10.0  \n",
       "1               14.0         10.0  \n",
       "2               14.0         10.0  "
      ]
     },
     "execution_count": 50,
     "metadata": {},
     "output_type": "execute_result"
    }
   ],
   "source": [
    "table = financial.merge(median_days, on='source')\n",
    "table = table.merge(to_next_lavel, on='source')\n",
    "table = table.merge(median_buildings, on='source')\n",
    "table_imp = table[['source', 'cost%', 'user_id%', 'cost_per_1%', 'days_till_finish', 'finished_1_lavel%', 'count_built']]\n",
    "table_imp.sort_values(by='cost_per_1%')"
   ]
  },
  {
   "cell_type": "markdown",
   "metadata": {},
   "source": [
    "## Conclusion"
   ]
  },
  {
   "cell_type": "markdown",
   "metadata": {},
   "source": [
    "**Channel ranking:**\n",
    "\n",
    "The most cost-effective channel in terms of cost-effectiveness is YouTube, as the advertising expenses are the lowest among all channels (0.397662 units or 17% of the share of all other sources), and the players are the most active. About 14% of users reach the finish line (vs. 13% for Yandex), and they complete the level in 10 days.\n",
    "\n",
    "Next is Yandex.Direct. Advertising on Yandex is slightly more expensive than on YouTube (0.463590 units or 20% in the share), and users complete the first level slightly less efficiently. However, those who do complete it, do so in 10 days (vs. Instagram and Facebook).\n",
    "\n",
    "Advertising on Instagram is more expensive at 0.645785 units or 28%. Players are less active and take longer to complete the level - an average of 11 days. However, compared to Yandex, a higher percentage reaches the end of level 1 (14% vs. 13% for Yandex).\n",
    "\n",
    "The least effective channel is Facebook. It attracts as many users as YouTube, but the advertising cost per user is twice as high (0.785365 or 34%). The same percentage of users as YouTube completes the first level (14%), but they take longer - 11 days.\n",
    "\n",
    "\n",
    "**Game Strategies**\n",
    "\n",
    "\n",
    "The game has two strategies:\n",
    "\n",
    "* PVE - Players build an orbital station and then complete the project.\n",
    "* PVP - Players do not build a station; they engage in battles and also complete the project.\n",
    "\n",
    "Completion Time:\n",
    "\n",
    "According to the results of the statistical test, we conclude that the completion time statistically differs depending on the method of completing the PVE and PVP strategies, and players following the PVP strategy finish the game earlier than PVE players. Additionally, the mean number of buildings statistically differs between strategies.\n",
    "\n",
    "**Recommendations:**\n",
    "\n",
    "Recommended significantly increase funding for the YouTube channel, because the most high-quality users come from there and with a low user acquisition. Depending on the company's goals, pay attention on maintaining or reducing funding for the Yandex channel and possibly eliminating or significantly reducing funding for Instagram and Facebook.\n",
    "\n",
    "Depending on the company's goals, also pay attention on game strategies: PVP players finish the project faster (11 days vs. 13 days for PVE) but also construct fewer buildings (10 buildings vs. 12 for PVE)."
   ]
  }
 ],
 "metadata": {
  "ExecuteTimeLog": [
   {
    "duration": 553,
    "start_time": "2023-08-16T09:59:15.102Z"
   },
   {
    "duration": 52,
    "start_time": "2023-08-16T09:59:20.861Z"
   },
   {
    "duration": 46,
    "start_time": "2023-08-16T10:12:46.974Z"
   },
   {
    "duration": 86,
    "start_time": "2023-08-16T11:10:37.682Z"
   },
   {
    "duration": 894,
    "start_time": "2023-08-16T13:03:32.441Z"
   },
   {
    "duration": 307,
    "start_time": "2023-08-16T13:03:57.320Z"
   },
   {
    "duration": 3,
    "start_time": "2023-08-16T13:03:59.642Z"
   },
   {
    "duration": 292,
    "start_time": "2023-08-16T13:04:03.394Z"
   },
   {
    "duration": 84,
    "start_time": "2023-08-16T13:09:01.937Z"
   },
   {
    "duration": 13,
    "start_time": "2023-08-16T13:10:44.892Z"
   },
   {
    "duration": 8,
    "start_time": "2023-08-16T13:10:56.029Z"
   },
   {
    "duration": 7,
    "start_time": "2023-08-16T13:11:11.138Z"
   },
   {
    "duration": 83,
    "start_time": "2023-08-16T14:34:13.402Z"
   },
   {
    "duration": 3,
    "start_time": "2023-08-16T14:34:17.412Z"
   },
   {
    "duration": 486,
    "start_time": "2023-08-16T14:34:38.702Z"
   },
   {
    "duration": 5,
    "start_time": "2023-08-16T14:35:25.282Z"
   },
   {
    "duration": 18,
    "start_time": "2023-08-16T14:35:27.235Z"
   },
   {
    "duration": 3,
    "start_time": "2023-08-16T14:35:33.911Z"
   },
   {
    "duration": 14,
    "start_time": "2023-08-16T14:35:35.898Z"
   },
   {
    "duration": 3,
    "start_time": "2023-08-16T14:35:39.030Z"
   },
   {
    "duration": 20,
    "start_time": "2023-08-16T14:35:41.464Z"
   },
   {
    "duration": 43,
    "start_time": "2023-08-19T12:49:10.384Z"
   },
   {
    "duration": 389,
    "start_time": "2023-08-19T12:49:18.358Z"
   },
   {
    "duration": 643,
    "start_time": "2023-08-19T12:49:18.750Z"
   },
   {
    "duration": 13,
    "start_time": "2023-08-19T12:49:19.395Z"
   },
   {
    "duration": 12,
    "start_time": "2023-08-19T12:49:19.409Z"
   },
   {
    "duration": 20,
    "start_time": "2023-08-19T12:49:19.422Z"
   },
   {
    "duration": 17,
    "start_time": "2023-08-19T12:49:19.443Z"
   },
   {
    "duration": 3,
    "start_time": "2023-08-19T12:49:19.462Z"
   },
   {
    "duration": 843,
    "start_time": "2023-08-19T12:49:19.467Z"
   },
   {
    "duration": 11,
    "start_time": "2023-08-19T12:50:07.691Z"
   },
   {
    "duration": 13,
    "start_time": "2023-08-19T12:50:14.836Z"
   },
   {
    "duration": 5,
    "start_time": "2023-08-19T12:50:25.749Z"
   },
   {
    "duration": 5,
    "start_time": "2023-08-19T12:50:55.694Z"
   },
   {
    "duration": 7,
    "start_time": "2023-08-19T12:52:07.865Z"
   },
   {
    "duration": 12,
    "start_time": "2023-08-19T12:52:26.200Z"
   },
   {
    "duration": 9,
    "start_time": "2023-08-19T12:52:39.807Z"
   },
   {
    "duration": 7,
    "start_time": "2023-08-19T12:53:14.917Z"
   },
   {
    "duration": 5,
    "start_time": "2023-08-19T12:53:25.701Z"
   },
   {
    "duration": 5,
    "start_time": "2023-08-19T12:55:28.408Z"
   },
   {
    "duration": 12,
    "start_time": "2023-08-19T12:56:10.943Z"
   },
   {
    "duration": 6,
    "start_time": "2023-08-19T12:56:50.877Z"
   },
   {
    "duration": 9,
    "start_time": "2023-08-19T12:57:52.775Z"
   },
   {
    "duration": 45,
    "start_time": "2023-08-19T13:01:03.508Z"
   },
   {
    "duration": 15,
    "start_time": "2023-08-19T13:01:13.654Z"
   },
   {
    "duration": 63,
    "start_time": "2023-08-19T13:02:27.818Z"
   },
   {
    "duration": 60,
    "start_time": "2023-08-19T13:02:44.060Z"
   },
   {
    "duration": 11,
    "start_time": "2023-08-19T13:03:53.054Z"
   },
   {
    "duration": 11,
    "start_time": "2023-08-19T13:04:39.468Z"
   },
   {
    "duration": 4,
    "start_time": "2023-08-19T13:05:58.234Z"
   },
   {
    "duration": 10,
    "start_time": "2023-08-19T13:06:15.116Z"
   },
   {
    "duration": 40,
    "start_time": "2023-08-19T13:07:24.484Z"
   },
   {
    "duration": 35,
    "start_time": "2023-08-19T13:07:55.914Z"
   },
   {
    "duration": 46,
    "start_time": "2023-08-19T13:07:58.738Z"
   },
   {
    "duration": 49,
    "start_time": "2023-08-19T13:08:05.431Z"
   },
   {
    "duration": 12,
    "start_time": "2023-08-19T13:08:12.903Z"
   },
   {
    "duration": 52,
    "start_time": "2023-08-19T13:08:17.581Z"
   },
   {
    "duration": 16,
    "start_time": "2023-08-19T13:08:39.255Z"
   },
   {
    "duration": 41,
    "start_time": "2023-08-19T13:08:43.653Z"
   },
   {
    "duration": 87,
    "start_time": "2023-08-19T13:08:45.697Z"
   },
   {
    "duration": 13,
    "start_time": "2023-08-19T13:08:48.641Z"
   },
   {
    "duration": 3,
    "start_time": "2023-08-19T13:09:50.808Z"
   },
   {
    "duration": 45,
    "start_time": "2023-08-19T13:09:55.647Z"
   },
   {
    "duration": 13,
    "start_time": "2023-08-19T13:09:58.423Z"
   },
   {
    "duration": 60,
    "start_time": "2023-08-19T13:10:01.076Z"
   },
   {
    "duration": 79,
    "start_time": "2023-08-19T13:11:29.182Z"
   },
   {
    "duration": 7,
    "start_time": "2023-08-19T13:11:42.589Z"
   },
   {
    "duration": 7,
    "start_time": "2023-08-19T13:11:47.933Z"
   },
   {
    "duration": 2,
    "start_time": "2023-08-19T13:12:56.606Z"
   },
   {
    "duration": 13,
    "start_time": "2023-08-19T13:13:00.560Z"
   },
   {
    "duration": 31,
    "start_time": "2023-08-19T13:13:06.660Z"
   },
   {
    "duration": 2,
    "start_time": "2023-08-19T13:13:17.744Z"
   },
   {
    "duration": 354,
    "start_time": "2023-08-19T13:13:17.748Z"
   },
   {
    "duration": 8,
    "start_time": "2023-08-19T13:13:18.104Z"
   },
   {
    "duration": 12,
    "start_time": "2023-08-19T13:13:18.114Z"
   },
   {
    "duration": 9,
    "start_time": "2023-08-19T13:13:18.128Z"
   },
   {
    "duration": 9,
    "start_time": "2023-08-19T13:13:18.139Z"
   },
   {
    "duration": 12,
    "start_time": "2023-08-19T13:13:18.149Z"
   },
   {
    "duration": 4,
    "start_time": "2023-08-19T13:13:18.162Z"
   },
   {
    "duration": 7,
    "start_time": "2023-08-19T13:13:18.168Z"
   },
   {
    "duration": 11,
    "start_time": "2023-08-19T13:13:18.177Z"
   },
   {
    "duration": 13,
    "start_time": "2023-08-19T13:13:18.191Z"
   },
   {
    "duration": 14,
    "start_time": "2023-08-19T13:13:18.206Z"
   },
   {
    "duration": 36,
    "start_time": "2023-08-19T13:13:18.222Z"
   },
   {
    "duration": 8,
    "start_time": "2023-08-19T13:13:18.261Z"
   },
   {
    "duration": 10,
    "start_time": "2023-08-19T13:13:18.272Z"
   },
   {
    "duration": 21,
    "start_time": "2023-08-19T13:13:18.284Z"
   },
   {
    "duration": 48,
    "start_time": "2023-08-19T13:13:18.306Z"
   },
   {
    "duration": 33,
    "start_time": "2023-08-19T13:13:18.356Z"
   },
   {
    "duration": 11,
    "start_time": "2023-08-19T13:13:18.390Z"
   },
   {
    "duration": 46,
    "start_time": "2023-08-19T13:13:18.403Z"
   },
   {
    "duration": 29,
    "start_time": "2023-08-19T13:15:22.456Z"
   },
   {
    "duration": 29,
    "start_time": "2023-08-19T13:15:31.639Z"
   },
   {
    "duration": 17,
    "start_time": "2023-08-19T13:17:23.364Z"
   },
   {
    "duration": 5,
    "start_time": "2023-08-19T13:18:18.672Z"
   },
   {
    "duration": 10,
    "start_time": "2023-08-19T13:18:23.690Z"
   },
   {
    "duration": 10,
    "start_time": "2023-08-19T13:19:01.772Z"
   },
   {
    "duration": 13,
    "start_time": "2023-08-19T13:19:27.173Z"
   },
   {
    "duration": 12,
    "start_time": "2023-08-19T13:20:15.284Z"
   },
   {
    "duration": 41,
    "start_time": "2023-08-19T13:20:19.273Z"
   },
   {
    "duration": 28,
    "start_time": "2023-08-19T13:20:26.560Z"
   },
   {
    "duration": 10,
    "start_time": "2023-08-19T13:21:26.780Z"
   },
   {
    "duration": 12,
    "start_time": "2023-08-19T13:21:48.155Z"
   },
   {
    "duration": 58,
    "start_time": "2023-08-19T13:26:32.255Z"
   },
   {
    "duration": 24,
    "start_time": "2023-08-19T13:27:12.695Z"
   },
   {
    "duration": 17,
    "start_time": "2023-08-19T13:27:34.516Z"
   },
   {
    "duration": 16,
    "start_time": "2023-08-19T13:28:36.320Z"
   },
   {
    "duration": 11,
    "start_time": "2023-08-19T13:28:53.006Z"
   },
   {
    "duration": 22,
    "start_time": "2023-08-19T13:31:23.581Z"
   },
   {
    "duration": 24,
    "start_time": "2023-08-19T13:32:02.733Z"
   },
   {
    "duration": 19,
    "start_time": "2023-08-19T13:33:14.085Z"
   },
   {
    "duration": 24,
    "start_time": "2023-08-19T13:33:26.446Z"
   },
   {
    "duration": 11,
    "start_time": "2023-08-19T13:33:40.343Z"
   },
   {
    "duration": 13,
    "start_time": "2023-08-19T13:49:09.346Z"
   },
   {
    "duration": 14,
    "start_time": "2023-08-19T13:49:28.654Z"
   },
   {
    "duration": 27,
    "start_time": "2023-08-19T13:49:36.618Z"
   },
   {
    "duration": 30,
    "start_time": "2023-08-19T13:51:58.739Z"
   },
   {
    "duration": 25,
    "start_time": "2023-08-19T13:52:20.700Z"
   },
   {
    "duration": 15,
    "start_time": "2023-08-19T13:53:10.362Z"
   },
   {
    "duration": 9,
    "start_time": "2023-08-19T13:53:30.024Z"
   },
   {
    "duration": 10,
    "start_time": "2023-08-19T14:05:58.784Z"
   },
   {
    "duration": 8,
    "start_time": "2023-08-19T14:06:04.966Z"
   },
   {
    "duration": 9,
    "start_time": "2023-08-19T14:07:29.267Z"
   },
   {
    "duration": 13,
    "start_time": "2023-08-19T14:09:01.918Z"
   },
   {
    "duration": 10,
    "start_time": "2023-08-19T14:09:16.107Z"
   },
   {
    "duration": 10,
    "start_time": "2023-08-19T14:10:24.206Z"
   },
   {
    "duration": 17,
    "start_time": "2023-08-19T14:11:31.920Z"
   },
   {
    "duration": 12,
    "start_time": "2023-08-19T14:11:45.180Z"
   },
   {
    "duration": 22,
    "start_time": "2023-08-19T14:12:51.603Z"
   },
   {
    "duration": 21,
    "start_time": "2023-08-19T14:13:00.233Z"
   },
   {
    "duration": 7,
    "start_time": "2023-08-19T14:17:42.556Z"
   },
   {
    "duration": 11,
    "start_time": "2023-08-19T14:18:22.832Z"
   },
   {
    "duration": 13,
    "start_time": "2023-08-19T14:19:21.856Z"
   },
   {
    "duration": 13,
    "start_time": "2023-08-19T14:22:04.397Z"
   },
   {
    "duration": 11,
    "start_time": "2023-08-19T14:22:08.561Z"
   },
   {
    "duration": 11,
    "start_time": "2023-08-19T14:23:27.472Z"
   },
   {
    "duration": 8,
    "start_time": "2023-08-19T14:28:51.121Z"
   },
   {
    "duration": 7,
    "start_time": "2023-08-19T14:28:54.415Z"
   },
   {
    "duration": 16,
    "start_time": "2023-08-19T14:28:56.673Z"
   },
   {
    "duration": 15,
    "start_time": "2023-08-19T14:31:14.526Z"
   },
   {
    "duration": 18,
    "start_time": "2023-08-19T14:31:23.711Z"
   },
   {
    "duration": 1038,
    "start_time": "2023-08-19T14:31:28.008Z"
   },
   {
    "duration": 6,
    "start_time": "2023-08-19T14:31:34.736Z"
   },
   {
    "duration": 1235,
    "start_time": "2023-08-19T14:33:01.656Z"
   },
   {
    "duration": 1082,
    "start_time": "2023-08-19T14:33:06.628Z"
   },
   {
    "duration": 10,
    "start_time": "2023-08-19T14:33:13.296Z"
   },
   {
    "duration": 10,
    "start_time": "2023-08-19T14:33:36.948Z"
   },
   {
    "duration": 21,
    "start_time": "2023-08-19T14:34:12.770Z"
   },
   {
    "duration": 16,
    "start_time": "2023-08-19T14:34:26.128Z"
   },
   {
    "duration": 13,
    "start_time": "2023-08-19T14:34:30.015Z"
   },
   {
    "duration": 12,
    "start_time": "2023-08-19T14:34:43.292Z"
   },
   {
    "duration": 11,
    "start_time": "2023-08-19T14:34:47.472Z"
   },
   {
    "duration": 18,
    "start_time": "2023-08-19T14:34:53.550Z"
   },
   {
    "duration": 18,
    "start_time": "2023-08-19T14:35:04.308Z"
   },
   {
    "duration": 9,
    "start_time": "2023-08-19T14:35:11.444Z"
   },
   {
    "duration": 7,
    "start_time": "2023-08-19T14:36:12.365Z"
   },
   {
    "duration": 9,
    "start_time": "2023-08-19T14:36:19.109Z"
   },
   {
    "duration": 17,
    "start_time": "2023-08-19T14:36:22.852Z"
   },
   {
    "duration": 8,
    "start_time": "2023-08-19T14:37:20.207Z"
   },
   {
    "duration": 19,
    "start_time": "2023-08-19T14:38:25.469Z"
   },
   {
    "duration": 12,
    "start_time": "2023-08-19T14:38:31.731Z"
   },
   {
    "duration": 12,
    "start_time": "2023-08-19T14:38:44.498Z"
   },
   {
    "duration": 12,
    "start_time": "2023-08-19T14:38:48.772Z"
   },
   {
    "duration": 12,
    "start_time": "2023-08-19T14:38:51.240Z"
   },
   {
    "duration": 6,
    "start_time": "2023-08-19T14:39:35.899Z"
   },
   {
    "duration": 11,
    "start_time": "2023-08-19T14:39:39.913Z"
   },
   {
    "duration": 17,
    "start_time": "2023-08-19T14:40:21.171Z"
   },
   {
    "duration": 16,
    "start_time": "2023-08-19T14:40:50.832Z"
   },
   {
    "duration": 20,
    "start_time": "2023-08-19T14:41:18.939Z"
   },
   {
    "duration": 9,
    "start_time": "2023-08-19T14:57:19.868Z"
   },
   {
    "duration": 17,
    "start_time": "2023-08-19T15:05:52.105Z"
   },
   {
    "duration": 17,
    "start_time": "2023-08-19T15:06:02.140Z"
   },
   {
    "duration": 64,
    "start_time": "2023-08-19T15:06:42.218Z"
   },
   {
    "duration": 66,
    "start_time": "2023-08-19T15:07:22.943Z"
   },
   {
    "duration": 76,
    "start_time": "2023-08-19T15:07:29.953Z"
   },
   {
    "duration": 65,
    "start_time": "2023-08-19T15:07:38.411Z"
   },
   {
    "duration": 54,
    "start_time": "2023-08-19T15:08:17.478Z"
   },
   {
    "duration": 79,
    "start_time": "2023-08-19T15:08:25.298Z"
   },
   {
    "duration": 3,
    "start_time": "2023-08-19T15:08:33.215Z"
   },
   {
    "duration": 310,
    "start_time": "2023-08-19T15:08:33.219Z"
   },
   {
    "duration": 7,
    "start_time": "2023-08-19T15:08:33.531Z"
   },
   {
    "duration": 15,
    "start_time": "2023-08-19T15:08:33.540Z"
   },
   {
    "duration": 10,
    "start_time": "2023-08-19T15:08:33.557Z"
   },
   {
    "duration": 7,
    "start_time": "2023-08-19T15:08:33.569Z"
   },
   {
    "duration": 19,
    "start_time": "2023-08-19T15:08:33.577Z"
   },
   {
    "duration": 8,
    "start_time": "2023-08-19T15:08:33.598Z"
   },
   {
    "duration": 17,
    "start_time": "2023-08-19T15:08:33.608Z"
   },
   {
    "duration": 24,
    "start_time": "2023-08-19T15:08:33.626Z"
   },
   {
    "duration": 23,
    "start_time": "2023-08-19T15:08:33.652Z"
   },
   {
    "duration": 10,
    "start_time": "2023-08-19T15:08:33.677Z"
   },
   {
    "duration": 8,
    "start_time": "2023-08-19T15:08:33.689Z"
   },
   {
    "duration": 6,
    "start_time": "2023-08-19T15:08:33.699Z"
   },
   {
    "duration": 15,
    "start_time": "2023-08-19T15:08:33.706Z"
   },
   {
    "duration": 16,
    "start_time": "2023-08-19T15:08:33.723Z"
   },
   {
    "duration": 42,
    "start_time": "2023-08-19T15:08:33.740Z"
   },
   {
    "duration": 15,
    "start_time": "2023-08-19T15:08:33.783Z"
   },
   {
    "duration": 10,
    "start_time": "2023-08-19T15:08:33.800Z"
   },
   {
    "duration": 48,
    "start_time": "2023-08-19T15:08:33.812Z"
   },
   {
    "duration": 23,
    "start_time": "2023-08-19T15:08:33.862Z"
   },
   {
    "duration": 47,
    "start_time": "2023-08-19T15:08:33.887Z"
   },
   {
    "duration": 12,
    "start_time": "2023-08-19T15:08:33.936Z"
   },
   {
    "duration": 10,
    "start_time": "2023-08-19T15:08:33.951Z"
   },
   {
    "duration": 20,
    "start_time": "2023-08-19T15:08:33.963Z"
   },
   {
    "duration": 10,
    "start_time": "2023-08-19T15:08:33.984Z"
   },
   {
    "duration": 23,
    "start_time": "2023-08-19T15:08:33.996Z"
   },
   {
    "duration": 29,
    "start_time": "2023-08-19T15:08:34.020Z"
   },
   {
    "duration": 12,
    "start_time": "2023-08-19T15:08:34.052Z"
   },
   {
    "duration": 8,
    "start_time": "2023-08-19T15:08:34.066Z"
   },
   {
    "duration": 13,
    "start_time": "2023-08-19T15:08:34.076Z"
   },
   {
    "duration": 16,
    "start_time": "2023-08-19T15:08:34.090Z"
   },
   {
    "duration": 81,
    "start_time": "2023-08-19T15:08:34.108Z"
   },
   {
    "duration": 16,
    "start_time": "2023-08-19T15:08:34.192Z"
   },
   {
    "duration": 66,
    "start_time": "2023-08-19T15:08:46.666Z"
   },
   {
    "duration": 61,
    "start_time": "2023-08-19T15:09:01.769Z"
   },
   {
    "duration": 44,
    "start_time": "2023-08-19T15:09:47.613Z"
   },
   {
    "duration": 67,
    "start_time": "2023-08-19T15:10:10.969Z"
   },
   {
    "duration": 4,
    "start_time": "2023-08-19T15:10:17.085Z"
   },
   {
    "duration": 366,
    "start_time": "2023-08-19T15:10:17.091Z"
   },
   {
    "duration": 10,
    "start_time": "2023-08-19T15:10:17.458Z"
   },
   {
    "duration": 25,
    "start_time": "2023-08-19T15:10:17.470Z"
   },
   {
    "duration": 9,
    "start_time": "2023-08-19T15:10:17.499Z"
   },
   {
    "duration": 12,
    "start_time": "2023-08-19T15:10:17.510Z"
   },
   {
    "duration": 29,
    "start_time": "2023-08-19T15:10:17.524Z"
   },
   {
    "duration": 5,
    "start_time": "2023-08-19T15:10:17.555Z"
   },
   {
    "duration": 6,
    "start_time": "2023-08-19T15:10:17.561Z"
   },
   {
    "duration": 6,
    "start_time": "2023-08-19T15:10:17.569Z"
   },
   {
    "duration": 9,
    "start_time": "2023-08-19T15:10:17.577Z"
   },
   {
    "duration": 11,
    "start_time": "2023-08-19T15:10:17.588Z"
   },
   {
    "duration": 8,
    "start_time": "2023-08-19T15:10:17.601Z"
   },
   {
    "duration": 9,
    "start_time": "2023-08-19T15:10:17.655Z"
   },
   {
    "duration": 8,
    "start_time": "2023-08-19T15:10:17.666Z"
   },
   {
    "duration": 13,
    "start_time": "2023-08-19T15:10:17.675Z"
   },
   {
    "duration": 98,
    "start_time": "2023-08-19T15:10:17.690Z"
   },
   {
    "duration": 17,
    "start_time": "2023-08-19T15:10:17.791Z"
   },
   {
    "duration": 16,
    "start_time": "2023-08-19T15:10:17.810Z"
   },
   {
    "duration": 52,
    "start_time": "2023-08-19T15:10:17.829Z"
   },
   {
    "duration": 22,
    "start_time": "2023-08-19T15:10:17.883Z"
   },
   {
    "duration": 45,
    "start_time": "2023-08-19T15:10:17.907Z"
   },
   {
    "duration": 16,
    "start_time": "2023-08-19T15:10:17.954Z"
   },
   {
    "duration": 14,
    "start_time": "2023-08-19T15:10:17.972Z"
   },
   {
    "duration": 20,
    "start_time": "2023-08-19T15:10:17.988Z"
   },
   {
    "duration": 41,
    "start_time": "2023-08-19T15:10:18.010Z"
   },
   {
    "duration": 47,
    "start_time": "2023-08-19T15:10:18.052Z"
   },
   {
    "duration": 11,
    "start_time": "2023-08-19T15:10:18.101Z"
   },
   {
    "duration": 14,
    "start_time": "2023-08-19T15:10:18.114Z"
   },
   {
    "duration": 10,
    "start_time": "2023-08-19T15:10:18.129Z"
   },
   {
    "duration": 17,
    "start_time": "2023-08-19T15:10:18.148Z"
   },
   {
    "duration": 23,
    "start_time": "2023-08-19T15:10:18.167Z"
   },
   {
    "duration": 83,
    "start_time": "2023-08-19T15:10:18.192Z"
   },
   {
    "duration": 15,
    "start_time": "2023-08-19T15:10:18.277Z"
   },
   {
    "duration": 37,
    "start_time": "2023-08-19T15:10:29.066Z"
   },
   {
    "duration": 388,
    "start_time": "2023-08-19T15:10:49.889Z"
   },
   {
    "duration": 325,
    "start_time": "2023-08-19T15:10:50.279Z"
   },
   {
    "duration": 15,
    "start_time": "2023-08-19T15:10:50.605Z"
   },
   {
    "duration": 8,
    "start_time": "2023-08-19T15:10:50.623Z"
   },
   {
    "duration": 29,
    "start_time": "2023-08-19T15:10:50.632Z"
   },
   {
    "duration": 12,
    "start_time": "2023-08-19T15:10:50.663Z"
   },
   {
    "duration": 28,
    "start_time": "2023-08-19T15:10:50.676Z"
   },
   {
    "duration": 6,
    "start_time": "2023-08-19T15:10:50.706Z"
   },
   {
    "duration": 12,
    "start_time": "2023-08-19T15:10:50.714Z"
   },
   {
    "duration": 18,
    "start_time": "2023-08-19T15:10:50.729Z"
   },
   {
    "duration": 11,
    "start_time": "2023-08-19T15:10:50.748Z"
   },
   {
    "duration": 45,
    "start_time": "2023-08-19T15:10:50.761Z"
   },
   {
    "duration": 11,
    "start_time": "2023-08-19T15:10:50.808Z"
   },
   {
    "duration": 8,
    "start_time": "2023-08-19T15:10:50.821Z"
   },
   {
    "duration": 11,
    "start_time": "2023-08-19T15:10:50.830Z"
   },
   {
    "duration": 11,
    "start_time": "2023-08-19T15:10:50.842Z"
   },
   {
    "duration": 31,
    "start_time": "2023-08-19T15:10:50.855Z"
   },
   {
    "duration": 11,
    "start_time": "2023-08-19T15:10:50.888Z"
   },
   {
    "duration": 11,
    "start_time": "2023-08-19T15:10:50.901Z"
   },
   {
    "duration": 64,
    "start_time": "2023-08-19T15:10:50.914Z"
   },
   {
    "duration": 22,
    "start_time": "2023-08-19T15:10:50.979Z"
   },
   {
    "duration": 299,
    "start_time": "2023-08-19T15:10:51.003Z"
   },
   {
    "duration": 17,
    "start_time": "2023-08-19T15:10:51.304Z"
   },
   {
    "duration": 26,
    "start_time": "2023-08-19T15:10:51.323Z"
   },
   {
    "duration": 24,
    "start_time": "2023-08-19T15:10:51.352Z"
   },
   {
    "duration": 10,
    "start_time": "2023-08-19T15:10:51.378Z"
   },
   {
    "duration": 40,
    "start_time": "2023-08-19T15:10:51.390Z"
   },
   {
    "duration": 11,
    "start_time": "2023-08-19T15:10:51.453Z"
   },
   {
    "duration": 16,
    "start_time": "2023-08-19T15:10:51.466Z"
   },
   {
    "duration": 8,
    "start_time": "2023-08-19T15:10:51.484Z"
   },
   {
    "duration": 16,
    "start_time": "2023-08-19T15:10:51.495Z"
   },
   {
    "duration": 55,
    "start_time": "2023-08-19T15:10:51.513Z"
   },
   {
    "duration": 43,
    "start_time": "2023-08-19T15:10:51.570Z"
   },
   {
    "duration": 88,
    "start_time": "2023-08-19T15:10:51.615Z"
   },
   {
    "duration": 52,
    "start_time": "2023-08-19T15:11:04.540Z"
   },
   {
    "duration": 39,
    "start_time": "2023-08-19T15:11:33.571Z"
   },
   {
    "duration": 45,
    "start_time": "2023-08-19T15:11:48.544Z"
   },
   {
    "duration": 71,
    "start_time": "2023-08-19T15:12:20.449Z"
   },
   {
    "duration": 109,
    "start_time": "2023-08-19T15:12:42.852Z"
   },
   {
    "duration": 105,
    "start_time": "2023-08-19T15:12:57.586Z"
   },
   {
    "duration": 2,
    "start_time": "2023-08-19T15:13:13.298Z"
   },
   {
    "duration": 268,
    "start_time": "2023-08-19T15:13:13.303Z"
   },
   {
    "duration": 7,
    "start_time": "2023-08-19T15:13:13.573Z"
   },
   {
    "duration": 17,
    "start_time": "2023-08-19T15:13:13.582Z"
   },
   {
    "duration": 35,
    "start_time": "2023-08-19T15:13:13.601Z"
   },
   {
    "duration": 17,
    "start_time": "2023-08-19T15:13:13.637Z"
   },
   {
    "duration": 30,
    "start_time": "2023-08-19T15:13:13.656Z"
   },
   {
    "duration": 8,
    "start_time": "2023-08-19T15:13:13.691Z"
   },
   {
    "duration": 8,
    "start_time": "2023-08-19T15:13:13.701Z"
   },
   {
    "duration": 8,
    "start_time": "2023-08-19T15:13:13.710Z"
   },
   {
    "duration": 10,
    "start_time": "2023-08-19T15:13:13.719Z"
   },
   {
    "duration": 20,
    "start_time": "2023-08-19T15:13:13.730Z"
   },
   {
    "duration": 21,
    "start_time": "2023-08-19T15:13:13.753Z"
   },
   {
    "duration": 6,
    "start_time": "2023-08-19T15:13:13.776Z"
   },
   {
    "duration": 12,
    "start_time": "2023-08-19T15:13:13.783Z"
   },
   {
    "duration": 14,
    "start_time": "2023-08-19T15:13:13.797Z"
   },
   {
    "duration": 45,
    "start_time": "2023-08-19T15:13:13.812Z"
   },
   {
    "duration": 10,
    "start_time": "2023-08-19T15:13:13.859Z"
   },
   {
    "duration": 24,
    "start_time": "2023-08-19T15:13:13.870Z"
   },
   {
    "duration": 27,
    "start_time": "2023-08-19T15:13:13.895Z"
   },
   {
    "duration": 41,
    "start_time": "2023-08-19T15:13:13.924Z"
   },
   {
    "duration": 55,
    "start_time": "2023-08-19T15:13:13.967Z"
   },
   {
    "duration": 12,
    "start_time": "2023-08-19T15:13:14.024Z"
   },
   {
    "duration": 17,
    "start_time": "2023-08-19T15:13:14.037Z"
   },
   {
    "duration": 19,
    "start_time": "2023-08-19T15:13:14.056Z"
   },
   {
    "duration": 15,
    "start_time": "2023-08-19T15:13:14.076Z"
   },
   {
    "duration": 26,
    "start_time": "2023-08-19T15:13:14.092Z"
   },
   {
    "duration": 10,
    "start_time": "2023-08-19T15:13:14.119Z"
   },
   {
    "duration": 12,
    "start_time": "2023-08-19T15:13:14.150Z"
   },
   {
    "duration": 10,
    "start_time": "2023-08-19T15:13:14.163Z"
   },
   {
    "duration": 13,
    "start_time": "2023-08-19T15:13:14.175Z"
   },
   {
    "duration": 16,
    "start_time": "2023-08-19T15:13:14.189Z"
   },
   {
    "duration": 87,
    "start_time": "2023-08-19T15:13:14.207Z"
   },
   {
    "duration": 10,
    "start_time": "2023-08-19T15:13:14.296Z"
   },
   {
    "duration": 19,
    "start_time": "2023-08-19T15:13:30.047Z"
   },
   {
    "duration": 13,
    "start_time": "2023-08-19T15:13:33.318Z"
   },
   {
    "duration": 7,
    "start_time": "2023-08-19T15:13:43.206Z"
   },
   {
    "duration": 6,
    "start_time": "2023-08-19T15:14:00.271Z"
   },
   {
    "duration": 15,
    "start_time": "2023-08-19T15:15:15.217Z"
   },
   {
    "duration": 37,
    "start_time": "2023-08-19T15:15:47.974Z"
   },
   {
    "duration": 41,
    "start_time": "2023-08-19T15:16:00.732Z"
   },
   {
    "duration": 67,
    "start_time": "2023-08-19T15:16:06.906Z"
   },
   {
    "duration": 3,
    "start_time": "2023-08-19T15:16:13.484Z"
   },
   {
    "duration": 278,
    "start_time": "2023-08-19T15:16:13.489Z"
   },
   {
    "duration": 8,
    "start_time": "2023-08-19T15:16:13.769Z"
   },
   {
    "duration": 14,
    "start_time": "2023-08-19T15:16:13.779Z"
   },
   {
    "duration": 9,
    "start_time": "2023-08-19T15:16:13.797Z"
   },
   {
    "duration": 10,
    "start_time": "2023-08-19T15:16:13.808Z"
   },
   {
    "duration": 35,
    "start_time": "2023-08-19T15:16:13.820Z"
   },
   {
    "duration": 5,
    "start_time": "2023-08-19T15:16:13.857Z"
   },
   {
    "duration": 7,
    "start_time": "2023-08-19T15:16:13.864Z"
   },
   {
    "duration": 5,
    "start_time": "2023-08-19T15:16:13.873Z"
   },
   {
    "duration": 9,
    "start_time": "2023-08-19T15:16:13.879Z"
   },
   {
    "duration": 15,
    "start_time": "2023-08-19T15:16:13.890Z"
   },
   {
    "duration": 49,
    "start_time": "2023-08-19T15:16:13.907Z"
   },
   {
    "duration": 5,
    "start_time": "2023-08-19T15:16:13.960Z"
   },
   {
    "duration": 14,
    "start_time": "2023-08-19T15:16:13.967Z"
   },
   {
    "duration": 17,
    "start_time": "2023-08-19T15:16:13.983Z"
   },
   {
    "duration": 74,
    "start_time": "2023-08-19T15:16:14.002Z"
   },
   {
    "duration": 9,
    "start_time": "2023-08-19T15:16:14.078Z"
   },
   {
    "duration": 11,
    "start_time": "2023-08-19T15:16:14.090Z"
   },
   {
    "duration": 66,
    "start_time": "2023-08-19T15:16:14.102Z"
   },
   {
    "duration": 22,
    "start_time": "2023-08-19T15:16:14.170Z"
   },
   {
    "duration": 55,
    "start_time": "2023-08-19T15:16:14.194Z"
   },
   {
    "duration": 15,
    "start_time": "2023-08-19T15:16:14.251Z"
   },
   {
    "duration": 12,
    "start_time": "2023-08-19T15:16:14.267Z"
   },
   {
    "duration": 24,
    "start_time": "2023-08-19T15:16:14.281Z"
   },
   {
    "duration": 14,
    "start_time": "2023-08-19T15:16:14.308Z"
   },
   {
    "duration": 36,
    "start_time": "2023-08-19T15:16:14.351Z"
   },
   {
    "duration": 13,
    "start_time": "2023-08-19T15:16:14.389Z"
   },
   {
    "duration": 25,
    "start_time": "2023-08-19T15:16:14.416Z"
   },
   {
    "duration": 15,
    "start_time": "2023-08-19T15:16:14.443Z"
   },
   {
    "duration": 22,
    "start_time": "2023-08-19T15:16:14.460Z"
   },
   {
    "duration": 22,
    "start_time": "2023-08-19T15:16:14.484Z"
   },
   {
    "duration": 98,
    "start_time": "2023-08-19T15:16:14.508Z"
   },
   {
    "duration": 13,
    "start_time": "2023-08-19T15:16:14.608Z"
   },
   {
    "duration": 31,
    "start_time": "2023-08-19T15:17:09.169Z"
   },
   {
    "duration": 77,
    "start_time": "2023-08-19T15:18:48.502Z"
   },
   {
    "duration": 57,
    "start_time": "2023-08-19T15:20:10.329Z"
   },
   {
    "duration": 3,
    "start_time": "2023-08-19T15:20:31.049Z"
   },
   {
    "duration": 432,
    "start_time": "2023-08-19T15:20:31.054Z"
   },
   {
    "duration": 11,
    "start_time": "2023-08-19T15:20:31.488Z"
   },
   {
    "duration": 37,
    "start_time": "2023-08-19T15:20:31.501Z"
   },
   {
    "duration": 74,
    "start_time": "2023-08-19T15:20:31.540Z"
   },
   {
    "duration": 31,
    "start_time": "2023-08-19T15:20:31.616Z"
   },
   {
    "duration": 50,
    "start_time": "2023-08-19T15:20:31.649Z"
   },
   {
    "duration": 38,
    "start_time": "2023-08-19T15:20:31.701Z"
   },
   {
    "duration": 44,
    "start_time": "2023-08-19T15:20:31.741Z"
   },
   {
    "duration": 20,
    "start_time": "2023-08-19T15:20:31.787Z"
   },
   {
    "duration": 16,
    "start_time": "2023-08-19T15:20:31.809Z"
   },
   {
    "duration": 30,
    "start_time": "2023-08-19T15:20:31.826Z"
   },
   {
    "duration": 21,
    "start_time": "2023-08-19T15:20:31.858Z"
   },
   {
    "duration": 7,
    "start_time": "2023-08-19T15:20:31.881Z"
   },
   {
    "duration": 11,
    "start_time": "2023-08-19T15:20:31.890Z"
   },
   {
    "duration": 14,
    "start_time": "2023-08-19T15:20:31.903Z"
   },
   {
    "duration": 40,
    "start_time": "2023-08-19T15:20:31.918Z"
   },
   {
    "duration": 11,
    "start_time": "2023-08-19T15:20:31.960Z"
   },
   {
    "duration": 14,
    "start_time": "2023-08-19T15:20:31.972Z"
   },
   {
    "duration": 36,
    "start_time": "2023-08-19T15:20:31.987Z"
   },
   {
    "duration": 54,
    "start_time": "2023-08-19T15:20:32.025Z"
   },
   {
    "duration": 44,
    "start_time": "2023-08-19T15:20:32.081Z"
   },
   {
    "duration": 19,
    "start_time": "2023-08-19T15:20:32.127Z"
   },
   {
    "duration": 11,
    "start_time": "2023-08-19T15:20:32.150Z"
   },
   {
    "duration": 25,
    "start_time": "2023-08-19T15:20:32.163Z"
   },
   {
    "duration": 18,
    "start_time": "2023-08-19T15:20:32.191Z"
   },
   {
    "duration": 44,
    "start_time": "2023-08-19T15:20:32.211Z"
   },
   {
    "duration": 10,
    "start_time": "2023-08-19T15:20:32.257Z"
   },
   {
    "duration": 25,
    "start_time": "2023-08-19T15:20:32.271Z"
   },
   {
    "duration": 18,
    "start_time": "2023-08-19T15:20:32.298Z"
   },
   {
    "duration": 21,
    "start_time": "2023-08-19T15:20:32.318Z"
   },
   {
    "duration": 29,
    "start_time": "2023-08-19T15:20:32.341Z"
   },
   {
    "duration": 55,
    "start_time": "2023-08-19T15:20:32.372Z"
   },
   {
    "duration": 99,
    "start_time": "2023-08-19T15:20:32.429Z"
   },
   {
    "duration": 923,
    "start_time": "2023-08-19T15:22:18.526Z"
   },
   {
    "duration": 1007,
    "start_time": "2023-08-19T15:22:23.012Z"
   },
   {
    "duration": 1033,
    "start_time": "2023-08-19T15:22:31.702Z"
   },
   {
    "duration": 53,
    "start_time": "2023-08-19T15:22:47.043Z"
   },
   {
    "duration": 3,
    "start_time": "2023-08-19T15:26:14.227Z"
   },
   {
    "duration": 943,
    "start_time": "2023-08-19T15:26:54.381Z"
   },
   {
    "duration": 62,
    "start_time": "2023-08-19T15:30:50.439Z"
   },
   {
    "duration": 90,
    "start_time": "2023-08-19T15:34:19.073Z"
   },
   {
    "duration": 57,
    "start_time": "2023-08-19T15:34:40.217Z"
   },
   {
    "duration": 58,
    "start_time": "2023-08-19T15:34:49.409Z"
   },
   {
    "duration": 9,
    "start_time": "2023-08-19T15:35:08.769Z"
   },
   {
    "duration": 101,
    "start_time": "2023-08-19T15:35:26.062Z"
   },
   {
    "duration": 12,
    "start_time": "2023-08-19T15:35:29.602Z"
   },
   {
    "duration": 14,
    "start_time": "2023-08-19T15:37:04.432Z"
   },
   {
    "duration": 16,
    "start_time": "2023-08-19T15:39:07.362Z"
   },
   {
    "duration": 4,
    "start_time": "2023-08-19T15:39:18.680Z"
   },
   {
    "duration": 266,
    "start_time": "2023-08-19T15:39:18.686Z"
   },
   {
    "duration": 8,
    "start_time": "2023-08-19T15:39:18.954Z"
   },
   {
    "duration": 8,
    "start_time": "2023-08-19T15:39:18.965Z"
   },
   {
    "duration": 7,
    "start_time": "2023-08-19T15:39:18.975Z"
   },
   {
    "duration": 8,
    "start_time": "2023-08-19T15:39:18.984Z"
   },
   {
    "duration": 11,
    "start_time": "2023-08-19T15:39:18.993Z"
   },
   {
    "duration": 4,
    "start_time": "2023-08-19T15:39:19.006Z"
   },
   {
    "duration": 41,
    "start_time": "2023-08-19T15:39:19.013Z"
   },
   {
    "duration": 7,
    "start_time": "2023-08-19T15:39:19.055Z"
   },
   {
    "duration": 9,
    "start_time": "2023-08-19T15:39:19.064Z"
   },
   {
    "duration": 15,
    "start_time": "2023-08-19T15:39:19.074Z"
   },
   {
    "duration": 9,
    "start_time": "2023-08-19T15:39:19.091Z"
   },
   {
    "duration": 5,
    "start_time": "2023-08-19T15:39:19.102Z"
   },
   {
    "duration": 43,
    "start_time": "2023-08-19T15:39:19.109Z"
   },
   {
    "duration": 16,
    "start_time": "2023-08-19T15:39:19.156Z"
   },
   {
    "duration": 57,
    "start_time": "2023-08-19T15:39:19.174Z"
   },
   {
    "duration": 21,
    "start_time": "2023-08-19T15:39:19.233Z"
   },
   {
    "duration": 10,
    "start_time": "2023-08-19T15:39:19.255Z"
   },
   {
    "duration": 27,
    "start_time": "2023-08-19T15:39:19.267Z"
   },
   {
    "duration": 16,
    "start_time": "2023-08-19T15:39:19.296Z"
   },
   {
    "duration": 56,
    "start_time": "2023-08-19T15:39:19.314Z"
   },
   {
    "duration": 12,
    "start_time": "2023-08-19T15:39:19.372Z"
   },
   {
    "duration": 10,
    "start_time": "2023-08-19T15:39:19.387Z"
   },
   {
    "duration": 16,
    "start_time": "2023-08-19T15:39:19.399Z"
   },
   {
    "duration": 41,
    "start_time": "2023-08-19T15:39:19.416Z"
   },
   {
    "duration": 20,
    "start_time": "2023-08-19T15:39:19.458Z"
   },
   {
    "duration": 8,
    "start_time": "2023-08-19T15:39:19.479Z"
   },
   {
    "duration": 16,
    "start_time": "2023-08-19T15:39:19.488Z"
   },
   {
    "duration": 7,
    "start_time": "2023-08-19T15:39:19.505Z"
   },
   {
    "duration": 50,
    "start_time": "2023-08-19T15:39:19.513Z"
   },
   {
    "duration": 14,
    "start_time": "2023-08-19T15:39:19.564Z"
   },
   {
    "duration": 39,
    "start_time": "2023-08-19T15:39:19.580Z"
   },
   {
    "duration": 85,
    "start_time": "2023-08-19T15:39:19.621Z"
   },
   {
    "duration": 89,
    "start_time": "2023-08-19T15:39:19.708Z"
   },
   {
    "duration": 9,
    "start_time": "2023-08-19T15:39:19.798Z"
   },
   {
    "duration": 8,
    "start_time": "2023-08-19T15:39:22.801Z"
   },
   {
    "duration": 4,
    "start_time": "2023-08-19T15:41:31.086Z"
   },
   {
    "duration": 19,
    "start_time": "2023-08-19T15:41:37.532Z"
   },
   {
    "duration": 21,
    "start_time": "2023-08-19T15:42:00.159Z"
   },
   {
    "duration": 70,
    "start_time": "2023-08-19T15:43:01.470Z"
   },
   {
    "duration": 17,
    "start_time": "2023-08-19T15:44:08.323Z"
   },
   {
    "duration": 16,
    "start_time": "2023-08-19T15:47:26.516Z"
   },
   {
    "duration": 17,
    "start_time": "2023-08-19T15:53:26.081Z"
   },
   {
    "duration": 14,
    "start_time": "2023-08-19T15:53:42.011Z"
   },
   {
    "duration": 10,
    "start_time": "2023-08-19T15:55:37.288Z"
   },
   {
    "duration": 40,
    "start_time": "2023-08-19T15:55:50.434Z"
   },
   {
    "duration": 9,
    "start_time": "2023-08-19T15:56:05.477Z"
   },
   {
    "duration": 90,
    "start_time": "2023-08-19T15:57:10.485Z"
   },
   {
    "duration": 9,
    "start_time": "2023-08-19T15:57:12.503Z"
   },
   {
    "duration": 56,
    "start_time": "2023-08-19T15:57:23.513Z"
   },
   {
    "duration": 39,
    "start_time": "2023-08-19T15:57:26.482Z"
   },
   {
    "duration": 64,
    "start_time": "2023-08-19T15:57:36.076Z"
   },
   {
    "duration": 42,
    "start_time": "2023-08-19T15:57:39.267Z"
   },
   {
    "duration": 1853,
    "start_time": "2023-08-19T15:57:44.015Z"
   },
   {
    "duration": 14,
    "start_time": "2023-08-19T15:57:57.426Z"
   },
   {
    "duration": 34,
    "start_time": "2023-08-19T15:58:31.116Z"
   },
   {
    "duration": 9,
    "start_time": "2023-08-19T15:58:35.211Z"
   },
   {
    "duration": 60,
    "start_time": "2023-08-19T15:58:42.727Z"
   },
   {
    "duration": 9,
    "start_time": "2023-08-19T15:58:52.344Z"
   },
   {
    "duration": 3,
    "start_time": "2023-08-19T16:03:03.290Z"
   },
   {
    "duration": 9,
    "start_time": "2023-08-19T16:03:05.188Z"
   },
   {
    "duration": 3,
    "start_time": "2023-08-19T16:03:11.200Z"
   },
   {
    "duration": 267,
    "start_time": "2023-08-19T16:03:11.205Z"
   },
   {
    "duration": 9,
    "start_time": "2023-08-19T16:03:11.474Z"
   },
   {
    "duration": 18,
    "start_time": "2023-08-19T16:03:11.485Z"
   },
   {
    "duration": 11,
    "start_time": "2023-08-19T16:03:11.505Z"
   },
   {
    "duration": 11,
    "start_time": "2023-08-19T16:03:11.518Z"
   },
   {
    "duration": 23,
    "start_time": "2023-08-19T16:03:11.531Z"
   },
   {
    "duration": 7,
    "start_time": "2023-08-19T16:03:11.556Z"
   },
   {
    "duration": 12,
    "start_time": "2023-08-19T16:03:11.565Z"
   },
   {
    "duration": 7,
    "start_time": "2023-08-19T16:03:11.579Z"
   },
   {
    "duration": 23,
    "start_time": "2023-08-19T16:03:11.587Z"
   },
   {
    "duration": 75,
    "start_time": "2023-08-19T16:03:11.611Z"
   },
   {
    "duration": 18,
    "start_time": "2023-08-19T16:03:11.688Z"
   },
   {
    "duration": 6,
    "start_time": "2023-08-19T16:03:11.710Z"
   },
   {
    "duration": 8,
    "start_time": "2023-08-19T16:03:11.717Z"
   },
   {
    "duration": 14,
    "start_time": "2023-08-19T16:03:11.727Z"
   },
   {
    "duration": 35,
    "start_time": "2023-08-19T16:03:11.743Z"
   },
   {
    "duration": 10,
    "start_time": "2023-08-19T16:03:11.780Z"
   },
   {
    "duration": 12,
    "start_time": "2023-08-19T16:03:11.792Z"
   },
   {
    "duration": 129,
    "start_time": "2023-08-19T16:03:11.805Z"
   },
   {
    "duration": 15,
    "start_time": "2023-08-19T16:03:11.936Z"
   },
   {
    "duration": 35,
    "start_time": "2023-08-19T16:03:11.953Z"
   },
   {
    "duration": 12,
    "start_time": "2023-08-19T16:03:11.990Z"
   },
   {
    "duration": 12,
    "start_time": "2023-08-19T16:03:12.003Z"
   },
   {
    "duration": 40,
    "start_time": "2023-08-19T16:03:12.016Z"
   },
   {
    "duration": 11,
    "start_time": "2023-08-19T16:03:12.057Z"
   },
   {
    "duration": 33,
    "start_time": "2023-08-19T16:03:12.070Z"
   },
   {
    "duration": 8,
    "start_time": "2023-08-19T16:03:12.105Z"
   },
   {
    "duration": 40,
    "start_time": "2023-08-19T16:03:12.115Z"
   },
   {
    "duration": 8,
    "start_time": "2023-08-19T16:03:12.157Z"
   },
   {
    "duration": 25,
    "start_time": "2023-08-19T16:03:12.166Z"
   },
   {
    "duration": 16,
    "start_time": "2023-08-19T16:03:12.192Z"
   },
   {
    "duration": 55,
    "start_time": "2023-08-19T16:03:12.209Z"
   },
   {
    "duration": 3,
    "start_time": "2023-08-19T16:03:12.265Z"
   },
   {
    "duration": 14,
    "start_time": "2023-08-19T16:03:12.269Z"
   },
   {
    "duration": 37,
    "start_time": "2023-08-19T16:03:12.285Z"
   },
   {
    "duration": 74,
    "start_time": "2023-08-19T16:03:12.324Z"
   },
   {
    "duration": 14,
    "start_time": "2023-08-19T16:03:12.399Z"
   },
   {
    "duration": 8,
    "start_time": "2023-08-19T16:03:48.523Z"
   },
   {
    "duration": 10,
    "start_time": "2023-08-19T16:05:14.673Z"
   },
   {
    "duration": 12,
    "start_time": "2023-08-19T16:07:40.145Z"
   },
   {
    "duration": 10,
    "start_time": "2023-08-19T16:07:49.261Z"
   },
   {
    "duration": 6,
    "start_time": "2023-08-19T16:08:22.644Z"
   },
   {
    "duration": 8,
    "start_time": "2023-08-19T16:10:37.377Z"
   },
   {
    "duration": 20,
    "start_time": "2023-08-19T16:13:31.044Z"
   },
   {
    "duration": 59,
    "start_time": "2023-08-19T16:13:34.062Z"
   },
   {
    "duration": 118,
    "start_time": "2023-08-19T16:15:48.263Z"
   },
   {
    "duration": 10,
    "start_time": "2023-08-19T16:15:53.184Z"
   },
   {
    "duration": 86,
    "start_time": "2023-08-19T16:17:20.939Z"
   },
   {
    "duration": 14,
    "start_time": "2023-08-19T16:17:24.994Z"
   },
   {
    "duration": 9,
    "start_time": "2023-08-19T16:18:41.854Z"
   },
   {
    "duration": 10,
    "start_time": "2023-08-19T16:21:50.801Z"
   },
   {
    "duration": 12,
    "start_time": "2023-08-19T16:22:09.698Z"
   },
   {
    "duration": 8,
    "start_time": "2023-08-19T16:22:16.921Z"
   },
   {
    "duration": 76,
    "start_time": "2023-08-19T16:24:36.130Z"
   },
   {
    "duration": 52,
    "start_time": "2023-08-19T16:26:18.335Z"
   },
   {
    "duration": 76,
    "start_time": "2023-08-19T16:27:22.979Z"
   },
   {
    "duration": 27,
    "start_time": "2023-08-19T16:27:28.547Z"
   },
   {
    "duration": 15,
    "start_time": "2023-08-19T16:27:34.706Z"
   },
   {
    "duration": 21,
    "start_time": "2023-08-19T16:27:40.742Z"
   },
   {
    "duration": 29,
    "start_time": "2023-08-19T16:27:54.056Z"
   },
   {
    "duration": 83,
    "start_time": "2023-08-19T16:28:02.469Z"
   },
   {
    "duration": 55,
    "start_time": "2023-08-19T16:28:17.172Z"
   },
   {
    "duration": 50,
    "start_time": "2023-08-19T16:28:30.834Z"
   },
   {
    "duration": 10,
    "start_time": "2023-08-19T16:29:12.232Z"
   },
   {
    "duration": 50,
    "start_time": "2023-08-19T16:29:23.589Z"
   },
   {
    "duration": 53,
    "start_time": "2023-08-19T16:30:21.587Z"
   },
   {
    "duration": 11,
    "start_time": "2023-08-19T16:33:50.806Z"
   },
   {
    "duration": 23,
    "start_time": "2023-08-19T16:35:45.961Z"
   },
   {
    "duration": 18,
    "start_time": "2023-08-19T16:38:08.974Z"
   },
   {
    "duration": 25,
    "start_time": "2023-08-19T16:38:24.119Z"
   },
   {
    "duration": 19,
    "start_time": "2023-08-19T16:38:38.686Z"
   },
   {
    "duration": 23,
    "start_time": "2023-08-19T16:40:23.660Z"
   },
   {
    "duration": 30,
    "start_time": "2023-08-19T16:40:27.975Z"
   },
   {
    "duration": 21,
    "start_time": "2023-08-19T16:40:48.854Z"
   },
   {
    "duration": 26,
    "start_time": "2023-08-19T16:40:56.337Z"
   },
   {
    "duration": 23,
    "start_time": "2023-08-19T16:41:17.973Z"
   },
   {
    "duration": 22,
    "start_time": "2023-08-19T16:41:34.185Z"
   },
   {
    "duration": 18,
    "start_time": "2023-08-19T16:41:40.433Z"
   },
   {
    "duration": 20,
    "start_time": "2023-08-19T16:41:47.926Z"
   },
   {
    "duration": 24,
    "start_time": "2023-08-19T16:42:38.043Z"
   },
   {
    "duration": 19,
    "start_time": "2023-08-19T16:43:01.734Z"
   },
   {
    "duration": 5,
    "start_time": "2023-08-19T16:44:16.463Z"
   },
   {
    "duration": 21,
    "start_time": "2023-08-19T16:44:27.134Z"
   },
   {
    "duration": 24,
    "start_time": "2023-08-19T16:44:34.056Z"
   },
   {
    "duration": 427,
    "start_time": "2023-08-20T08:43:41.542Z"
   },
   {
    "duration": 917,
    "start_time": "2023-08-20T08:43:41.970Z"
   },
   {
    "duration": 18,
    "start_time": "2023-08-20T08:43:42.889Z"
   },
   {
    "duration": 34,
    "start_time": "2023-08-20T08:43:42.909Z"
   },
   {
    "duration": 10,
    "start_time": "2023-08-20T08:43:42.945Z"
   },
   {
    "duration": 22,
    "start_time": "2023-08-20T08:43:42.956Z"
   },
   {
    "duration": 24,
    "start_time": "2023-08-20T08:43:42.980Z"
   },
   {
    "duration": 6,
    "start_time": "2023-08-20T08:43:43.007Z"
   },
   {
    "duration": 9,
    "start_time": "2023-08-20T08:43:43.014Z"
   },
   {
    "duration": 7,
    "start_time": "2023-08-20T08:43:43.026Z"
   },
   {
    "duration": 13,
    "start_time": "2023-08-20T08:43:43.035Z"
   },
   {
    "duration": 20,
    "start_time": "2023-08-20T08:43:43.050Z"
   },
   {
    "duration": 15,
    "start_time": "2023-08-20T08:43:43.072Z"
   },
   {
    "duration": 9,
    "start_time": "2023-08-20T08:43:43.089Z"
   },
   {
    "duration": 20,
    "start_time": "2023-08-20T08:43:43.099Z"
   },
   {
    "duration": 15,
    "start_time": "2023-08-20T08:43:43.121Z"
   },
   {
    "duration": 52,
    "start_time": "2023-08-20T08:43:43.138Z"
   },
   {
    "duration": 11,
    "start_time": "2023-08-20T08:43:43.192Z"
   },
   {
    "duration": 16,
    "start_time": "2023-08-20T08:43:43.205Z"
   },
   {
    "duration": 56,
    "start_time": "2023-08-20T08:43:43.223Z"
   },
   {
    "duration": 15,
    "start_time": "2023-08-20T08:43:43.281Z"
   },
   {
    "duration": 527,
    "start_time": "2023-08-20T08:43:43.298Z"
   },
   {
    "duration": 12,
    "start_time": "2023-08-20T08:43:43.826Z"
   },
   {
    "duration": 10,
    "start_time": "2023-08-20T08:43:43.840Z"
   },
   {
    "duration": 35,
    "start_time": "2023-08-20T08:43:43.852Z"
   },
   {
    "duration": 13,
    "start_time": "2023-08-20T08:43:43.890Z"
   },
   {
    "duration": 30,
    "start_time": "2023-08-20T08:43:43.905Z"
   },
   {
    "duration": 33,
    "start_time": "2023-08-20T08:43:43.939Z"
   },
   {
    "duration": 17,
    "start_time": "2023-08-20T08:43:43.974Z"
   },
   {
    "duration": 16,
    "start_time": "2023-08-20T08:43:43.993Z"
   },
   {
    "duration": 18,
    "start_time": "2023-08-20T08:43:44.011Z"
   },
   {
    "duration": 52,
    "start_time": "2023-08-20T08:43:44.031Z"
   },
   {
    "duration": 51,
    "start_time": "2023-08-20T08:43:44.084Z"
   },
   {
    "duration": 39,
    "start_time": "2023-08-20T08:43:44.137Z"
   },
   {
    "duration": 18,
    "start_time": "2023-08-20T08:43:44.177Z"
   },
   {
    "duration": 81,
    "start_time": "2023-08-20T08:43:44.197Z"
   },
   {
    "duration": 11,
    "start_time": "2023-08-20T08:43:44.280Z"
   },
   {
    "duration": 84,
    "start_time": "2023-08-20T08:43:44.293Z"
   },
   {
    "duration": 46,
    "start_time": "2023-08-20T08:43:44.379Z"
   },
   {
    "duration": 19,
    "start_time": "2023-08-20T09:00:51.637Z"
   },
   {
    "duration": 13,
    "start_time": "2023-08-20T09:01:33.991Z"
   },
   {
    "duration": 25,
    "start_time": "2023-08-20T09:03:58.620Z"
   },
   {
    "duration": 29,
    "start_time": "2023-08-20T09:04:40.599Z"
   },
   {
    "duration": 13,
    "start_time": "2023-08-20T09:05:28.689Z"
   },
   {
    "duration": 31,
    "start_time": "2023-08-20T09:06:04.069Z"
   },
   {
    "duration": 22,
    "start_time": "2023-08-20T09:08:18.749Z"
   },
   {
    "duration": 81,
    "start_time": "2023-08-20T09:11:22.493Z"
   },
   {
    "duration": 11,
    "start_time": "2023-08-20T09:11:26.600Z"
   },
   {
    "duration": 13,
    "start_time": "2023-08-20T09:11:46.680Z"
   },
   {
    "duration": 27,
    "start_time": "2023-08-20T09:12:30.251Z"
   },
   {
    "duration": 18,
    "start_time": "2023-08-20T09:13:02.101Z"
   },
   {
    "duration": 28,
    "start_time": "2023-08-20T09:14:00.190Z"
   },
   {
    "duration": 40,
    "start_time": "2023-08-20T09:14:09.513Z"
   },
   {
    "duration": 25,
    "start_time": "2023-08-20T09:14:17.396Z"
   },
   {
    "duration": 31,
    "start_time": "2023-08-20T09:15:17.263Z"
   },
   {
    "duration": 19,
    "start_time": "2023-08-20T09:15:34.166Z"
   },
   {
    "duration": 25,
    "start_time": "2023-08-20T09:15:41.690Z"
   },
   {
    "duration": 112,
    "start_time": "2023-08-20T09:16:16.823Z"
   },
   {
    "duration": 84,
    "start_time": "2023-08-20T09:18:06.291Z"
   },
   {
    "duration": 9,
    "start_time": "2023-08-20T09:20:51.016Z"
   },
   {
    "duration": 26,
    "start_time": "2023-08-20T09:20:56.022Z"
   },
   {
    "duration": 10,
    "start_time": "2023-08-20T09:20:59.018Z"
   },
   {
    "duration": 17,
    "start_time": "2023-08-20T09:22:06.527Z"
   },
   {
    "duration": 20,
    "start_time": "2023-08-20T09:22:31.336Z"
   },
   {
    "duration": 2,
    "start_time": "2023-08-20T09:25:21.809Z"
   },
   {
    "duration": 91,
    "start_time": "2023-08-20T09:26:05.916Z"
   },
   {
    "duration": 22,
    "start_time": "2023-08-20T09:26:54.713Z"
   },
   {
    "duration": 29,
    "start_time": "2023-08-20T09:29:02.469Z"
   },
   {
    "duration": 7,
    "start_time": "2023-08-20T09:30:18.783Z"
   },
   {
    "duration": 7,
    "start_time": "2023-08-20T09:30:30.488Z"
   },
   {
    "duration": 11,
    "start_time": "2023-08-20T09:30:52.832Z"
   },
   {
    "duration": 25,
    "start_time": "2023-08-20T09:31:03.934Z"
   },
   {
    "duration": 31,
    "start_time": "2023-08-20T09:31:10.254Z"
   },
   {
    "duration": 20,
    "start_time": "2023-08-20T09:31:21.813Z"
   },
   {
    "duration": 26,
    "start_time": "2023-08-20T09:32:47.382Z"
   },
   {
    "duration": 34,
    "start_time": "2023-08-20T09:33:10.386Z"
   },
   {
    "duration": 30,
    "start_time": "2023-08-20T09:34:35.863Z"
   },
   {
    "duration": 112,
    "start_time": "2023-08-20T09:37:04.350Z"
   },
   {
    "duration": 42,
    "start_time": "2023-08-20T09:37:08.142Z"
   },
   {
    "duration": 20,
    "start_time": "2023-08-20T09:38:43.613Z"
   },
   {
    "duration": 27,
    "start_time": "2023-08-20T09:41:18.176Z"
   },
   {
    "duration": 31,
    "start_time": "2023-08-20T09:41:53.659Z"
   },
   {
    "duration": 28,
    "start_time": "2023-08-20T09:43:01.805Z"
   },
   {
    "duration": 30,
    "start_time": "2023-08-20T09:43:20.410Z"
   },
   {
    "duration": 28,
    "start_time": "2023-08-20T09:43:29.703Z"
   },
   {
    "duration": 32,
    "start_time": "2023-08-20T09:43:48.208Z"
   },
   {
    "duration": 26,
    "start_time": "2023-08-20T09:44:54.195Z"
   },
   {
    "duration": 10,
    "start_time": "2023-08-20T09:45:21.351Z"
   },
   {
    "duration": 40,
    "start_time": "2023-08-20T09:46:23.461Z"
   },
   {
    "duration": 15,
    "start_time": "2023-08-20T09:46:59.841Z"
   },
   {
    "duration": 16,
    "start_time": "2023-08-20T09:48:06.900Z"
   },
   {
    "duration": 12,
    "start_time": "2023-08-20T09:48:18.413Z"
   },
   {
    "duration": 8,
    "start_time": "2023-08-20T09:49:21.547Z"
   },
   {
    "duration": 9,
    "start_time": "2023-08-20T09:49:56.310Z"
   },
   {
    "duration": 4,
    "start_time": "2023-08-20T09:50:13.789Z"
   },
   {
    "duration": 3,
    "start_time": "2023-08-20T09:51:33.537Z"
   },
   {
    "duration": 12,
    "start_time": "2023-08-20T09:56:18.020Z"
   },
   {
    "duration": 14,
    "start_time": "2023-08-20T10:05:42.344Z"
   },
   {
    "duration": 27,
    "start_time": "2023-08-20T10:07:04.229Z"
   },
   {
    "duration": 27,
    "start_time": "2023-08-20T10:08:18.817Z"
   },
   {
    "duration": 25,
    "start_time": "2023-08-20T10:09:52.110Z"
   },
   {
    "duration": 30,
    "start_time": "2023-08-20T10:10:31.100Z"
   },
   {
    "duration": 506,
    "start_time": "2023-08-20T10:13:46.713Z"
   },
   {
    "duration": 1386,
    "start_time": "2023-08-20T10:15:27.866Z"
   },
   {
    "duration": 1483,
    "start_time": "2023-08-20T10:16:06.740Z"
   },
   {
    "duration": 27,
    "start_time": "2023-08-20T10:16:17.785Z"
   },
   {
    "duration": 11,
    "start_time": "2023-08-20T10:16:50.991Z"
   },
   {
    "duration": 7,
    "start_time": "2023-08-20T10:16:58.490Z"
   },
   {
    "duration": 8,
    "start_time": "2023-08-20T10:17:02.585Z"
   },
   {
    "duration": 6,
    "start_time": "2023-08-20T10:17:09.642Z"
   },
   {
    "duration": 6,
    "start_time": "2023-08-20T10:18:06.237Z"
   },
   {
    "duration": 6,
    "start_time": "2023-08-20T10:18:28.399Z"
   },
   {
    "duration": 14,
    "start_time": "2023-08-20T10:32:32.009Z"
   },
   {
    "duration": 19,
    "start_time": "2023-08-20T10:33:47.532Z"
   },
   {
    "duration": 27,
    "start_time": "2023-08-20T10:34:53.041Z"
   },
   {
    "duration": 35,
    "start_time": "2023-08-20T10:35:20.357Z"
   },
   {
    "duration": 13,
    "start_time": "2023-08-20T10:35:41.616Z"
   },
   {
    "duration": 26,
    "start_time": "2023-08-20T10:35:51.057Z"
   },
   {
    "duration": 18,
    "start_time": "2023-08-20T10:36:28.532Z"
   },
   {
    "duration": 7,
    "start_time": "2023-08-20T10:38:18.990Z"
   },
   {
    "duration": 8,
    "start_time": "2023-08-20T10:38:53.897Z"
   },
   {
    "duration": 6,
    "start_time": "2023-08-20T10:39:11.141Z"
   },
   {
    "duration": 8,
    "start_time": "2023-08-20T10:39:31.361Z"
   },
   {
    "duration": 28,
    "start_time": "2023-08-20T10:40:13.097Z"
   },
   {
    "duration": 22,
    "start_time": "2023-08-20T10:40:15.512Z"
   },
   {
    "duration": 6,
    "start_time": "2023-08-20T10:40:17.807Z"
   },
   {
    "duration": 5,
    "start_time": "2023-08-20T10:40:22.132Z"
   },
   {
    "duration": 30,
    "start_time": "2023-08-20T10:40:32.496Z"
   },
   {
    "duration": 20,
    "start_time": "2023-08-20T10:40:39.112Z"
   },
   {
    "duration": 6,
    "start_time": "2023-08-20T10:41:23.346Z"
   },
   {
    "duration": 5,
    "start_time": "2023-08-20T10:41:30.809Z"
   },
   {
    "duration": 5,
    "start_time": "2023-08-20T10:42:35.592Z"
   },
   {
    "duration": 8,
    "start_time": "2023-08-20T10:42:47.582Z"
   },
   {
    "duration": 6,
    "start_time": "2023-08-20T10:43:15.719Z"
   },
   {
    "duration": 7,
    "start_time": "2023-08-20T10:43:34.287Z"
   },
   {
    "duration": 7,
    "start_time": "2023-08-20T10:43:50.706Z"
   },
   {
    "duration": 5,
    "start_time": "2023-08-20T10:44:17.594Z"
   },
   {
    "duration": 8,
    "start_time": "2023-08-20T10:44:19.793Z"
   },
   {
    "duration": 5,
    "start_time": "2023-08-20T10:44:33.803Z"
   },
   {
    "duration": 5,
    "start_time": "2023-08-20T10:44:43.615Z"
   },
   {
    "duration": 7,
    "start_time": "2023-08-20T10:45:32.217Z"
   },
   {
    "duration": 6,
    "start_time": "2023-08-20T10:45:54.683Z"
   },
   {
    "duration": 6,
    "start_time": "2023-08-20T10:46:31.406Z"
   },
   {
    "duration": 6,
    "start_time": "2023-08-20T10:46:45.092Z"
   },
   {
    "duration": 7,
    "start_time": "2023-08-20T10:47:43.776Z"
   },
   {
    "duration": 6,
    "start_time": "2023-08-20T10:47:50.589Z"
   },
   {
    "duration": 6,
    "start_time": "2023-08-20T10:48:52.734Z"
   },
   {
    "duration": 1330,
    "start_time": "2023-08-20T10:48:58.010Z"
   },
   {
    "duration": 5,
    "start_time": "2023-08-20T10:49:02.794Z"
   },
   {
    "duration": 5,
    "start_time": "2023-08-20T10:49:22.495Z"
   },
   {
    "duration": 4,
    "start_time": "2023-08-20T10:49:24.644Z"
   },
   {
    "duration": 10,
    "start_time": "2023-08-20T10:52:42.379Z"
   },
   {
    "duration": 28,
    "start_time": "2023-08-20T10:53:28.486Z"
   },
   {
    "duration": 5,
    "start_time": "2023-08-20T10:54:03.434Z"
   },
   {
    "duration": 9,
    "start_time": "2023-08-20T10:54:56.309Z"
   },
   {
    "duration": 8,
    "start_time": "2023-08-20T10:55:16.729Z"
   },
   {
    "duration": 27,
    "start_time": "2023-08-20T10:55:18.405Z"
   },
   {
    "duration": 11,
    "start_time": "2023-08-20T10:56:03.016Z"
   },
   {
    "duration": 7,
    "start_time": "2023-08-20T10:56:05.638Z"
   },
   {
    "duration": 19,
    "start_time": "2023-08-20T10:56:07.281Z"
   },
   {
    "duration": 1427,
    "start_time": "2023-08-20T10:56:15.998Z"
   },
   {
    "duration": 15,
    "start_time": "2023-08-20T10:57:01.288Z"
   },
   {
    "duration": 34,
    "start_time": "2023-08-20T10:57:58.658Z"
   },
   {
    "duration": 7,
    "start_time": "2023-08-20T10:58:24.147Z"
   },
   {
    "duration": 7,
    "start_time": "2023-08-20T11:17:08.201Z"
   },
   {
    "duration": 4,
    "start_time": "2023-08-20T11:19:33.240Z"
   },
   {
    "duration": 23,
    "start_time": "2023-08-20T11:20:14.132Z"
   },
   {
    "duration": 6,
    "start_time": "2023-08-20T11:21:04.781Z"
   },
   {
    "duration": 6,
    "start_time": "2023-08-20T11:21:21.249Z"
   },
   {
    "duration": 6,
    "start_time": "2023-08-20T11:21:47.010Z"
   },
   {
    "duration": 953,
    "start_time": "2023-08-20T11:22:08.180Z"
   },
   {
    "duration": 287,
    "start_time": "2023-08-20T11:22:09.136Z"
   },
   {
    "duration": 16,
    "start_time": "2023-08-20T11:22:09.425Z"
   },
   {
    "duration": 19,
    "start_time": "2023-08-20T11:22:09.443Z"
   },
   {
    "duration": 12,
    "start_time": "2023-08-20T11:22:09.463Z"
   },
   {
    "duration": 15,
    "start_time": "2023-08-20T11:22:09.477Z"
   },
   {
    "duration": 16,
    "start_time": "2023-08-20T11:22:09.493Z"
   },
   {
    "duration": 14,
    "start_time": "2023-08-20T11:22:09.510Z"
   },
   {
    "duration": 10,
    "start_time": "2023-08-20T11:22:09.526Z"
   },
   {
    "duration": 11,
    "start_time": "2023-08-20T11:22:09.540Z"
   },
   {
    "duration": 9,
    "start_time": "2023-08-20T11:22:09.568Z"
   },
   {
    "duration": 15,
    "start_time": "2023-08-20T11:22:09.579Z"
   },
   {
    "duration": 14,
    "start_time": "2023-08-20T11:22:09.596Z"
   },
   {
    "duration": 6,
    "start_time": "2023-08-20T11:22:09.613Z"
   },
   {
    "duration": 7,
    "start_time": "2023-08-20T11:22:09.621Z"
   },
   {
    "duration": 44,
    "start_time": "2023-08-20T11:22:09.630Z"
   },
   {
    "duration": 73,
    "start_time": "2023-08-20T11:22:09.676Z"
   },
   {
    "duration": 12,
    "start_time": "2023-08-20T11:22:09.750Z"
   },
   {
    "duration": 104,
    "start_time": "2023-08-20T11:22:09.764Z"
   },
   {
    "duration": 42,
    "start_time": "2023-08-20T11:22:09.869Z"
   },
   {
    "duration": 17,
    "start_time": "2023-08-20T11:22:09.913Z"
   },
   {
    "duration": 384,
    "start_time": "2023-08-20T11:22:09.932Z"
   },
   {
    "duration": 12,
    "start_time": "2023-08-20T11:22:10.317Z"
   },
   {
    "duration": 12,
    "start_time": "2023-08-20T11:22:10.331Z"
   },
   {
    "duration": 35,
    "start_time": "2023-08-20T11:22:10.344Z"
   },
   {
    "duration": 12,
    "start_time": "2023-08-20T11:22:10.381Z"
   },
   {
    "duration": 43,
    "start_time": "2023-08-20T11:22:10.395Z"
   },
   {
    "duration": 11,
    "start_time": "2023-08-20T11:22:10.466Z"
   },
   {
    "duration": 17,
    "start_time": "2023-08-20T11:22:10.479Z"
   },
   {
    "duration": 12,
    "start_time": "2023-08-20T11:22:10.498Z"
   },
   {
    "duration": 22,
    "start_time": "2023-08-20T11:22:10.512Z"
   },
   {
    "duration": 54,
    "start_time": "2023-08-20T11:22:10.536Z"
   },
   {
    "duration": 79,
    "start_time": "2023-08-20T11:22:10.592Z"
   },
   {
    "duration": 25,
    "start_time": "2023-08-20T11:22:10.673Z"
   },
   {
    "duration": 10,
    "start_time": "2023-08-20T11:22:10.700Z"
   },
   {
    "duration": 113,
    "start_time": "2023-08-20T11:22:10.712Z"
   },
   {
    "duration": 12,
    "start_time": "2023-08-20T11:22:10.826Z"
   },
   {
    "duration": 84,
    "start_time": "2023-08-20T11:22:10.840Z"
   },
   {
    "duration": 69,
    "start_time": "2023-08-20T11:22:10.926Z"
   },
   {
    "duration": 22,
    "start_time": "2023-08-20T11:22:10.997Z"
   },
   {
    "duration": 16,
    "start_time": "2023-08-20T11:22:11.021Z"
   },
   {
    "duration": 43,
    "start_time": "2023-08-20T11:22:11.039Z"
   },
   {
    "duration": 3,
    "start_time": "2023-08-20T11:22:11.084Z"
   },
   {
    "duration": 32,
    "start_time": "2023-08-20T11:22:11.088Z"
   },
   {
    "duration": 47,
    "start_time": "2023-08-20T11:22:11.122Z"
   },
   {
    "duration": 18,
    "start_time": "2023-08-20T11:22:11.171Z"
   },
   {
    "duration": 32,
    "start_time": "2023-08-20T11:22:11.191Z"
   },
   {
    "duration": 30,
    "start_time": "2023-08-20T11:22:11.225Z"
   },
   {
    "duration": 5,
    "start_time": "2023-08-20T11:22:11.257Z"
   },
   {
    "duration": 34,
    "start_time": "2023-08-20T11:22:11.264Z"
   },
   {
    "duration": 22,
    "start_time": "2023-08-20T11:22:11.300Z"
   },
   {
    "duration": 6,
    "start_time": "2023-08-20T11:22:11.324Z"
   },
   {
    "duration": 23,
    "start_time": "2023-08-20T11:22:11.332Z"
   },
   {
    "duration": 33,
    "start_time": "2023-08-20T11:22:11.356Z"
   },
   {
    "duration": 101,
    "start_time": "2023-08-20T11:22:11.390Z"
   },
   {
    "duration": 0,
    "start_time": "2023-08-20T11:22:11.493Z"
   },
   {
    "duration": 0,
    "start_time": "2023-08-20T11:22:11.494Z"
   },
   {
    "duration": 0,
    "start_time": "2023-08-20T11:22:11.495Z"
   },
   {
    "duration": 0,
    "start_time": "2023-08-20T11:22:11.496Z"
   },
   {
    "duration": 10,
    "start_time": "2023-08-20T11:22:17.071Z"
   },
   {
    "duration": 12,
    "start_time": "2023-08-20T11:22:39.070Z"
   },
   {
    "duration": 1160,
    "start_time": "2023-08-20T11:23:17.955Z"
   },
   {
    "duration": 291,
    "start_time": "2023-08-20T11:23:19.117Z"
   },
   {
    "duration": 16,
    "start_time": "2023-08-20T11:23:19.410Z"
   },
   {
    "duration": 13,
    "start_time": "2023-08-20T11:23:19.428Z"
   },
   {
    "duration": 12,
    "start_time": "2023-08-20T11:23:19.443Z"
   },
   {
    "duration": 27,
    "start_time": "2023-08-20T11:23:19.457Z"
   },
   {
    "duration": 13,
    "start_time": "2023-08-20T11:23:19.486Z"
   },
   {
    "duration": 7,
    "start_time": "2023-08-20T11:23:19.500Z"
   },
   {
    "duration": 16,
    "start_time": "2023-08-20T11:23:19.508Z"
   },
   {
    "duration": 17,
    "start_time": "2023-08-20T11:23:19.527Z"
   },
   {
    "duration": 18,
    "start_time": "2023-08-20T11:23:19.546Z"
   },
   {
    "duration": 15,
    "start_time": "2023-08-20T11:23:19.566Z"
   },
   {
    "duration": 9,
    "start_time": "2023-08-20T11:23:19.583Z"
   },
   {
    "duration": 5,
    "start_time": "2023-08-20T11:23:19.594Z"
   },
   {
    "duration": 10,
    "start_time": "2023-08-20T11:23:19.601Z"
   },
   {
    "duration": 11,
    "start_time": "2023-08-20T11:23:19.612Z"
   },
   {
    "duration": 51,
    "start_time": "2023-08-20T11:23:19.624Z"
   },
   {
    "duration": 16,
    "start_time": "2023-08-20T11:23:19.678Z"
   },
   {
    "duration": 11,
    "start_time": "2023-08-20T11:23:19.696Z"
   },
   {
    "duration": 44,
    "start_time": "2023-08-20T11:23:19.709Z"
   },
   {
    "duration": 26,
    "start_time": "2023-08-20T11:23:19.755Z"
   },
   {
    "duration": 512,
    "start_time": "2023-08-20T11:23:19.783Z"
   },
   {
    "duration": 11,
    "start_time": "2023-08-20T11:23:20.297Z"
   },
   {
    "duration": 14,
    "start_time": "2023-08-20T11:23:20.309Z"
   },
   {
    "duration": 28,
    "start_time": "2023-08-20T11:23:20.324Z"
   },
   {
    "duration": 13,
    "start_time": "2023-08-20T11:23:20.354Z"
   },
   {
    "duration": 22,
    "start_time": "2023-08-20T11:23:20.369Z"
   },
   {
    "duration": 8,
    "start_time": "2023-08-20T11:23:20.395Z"
   },
   {
    "duration": 25,
    "start_time": "2023-08-20T11:23:20.405Z"
   },
   {
    "duration": 25,
    "start_time": "2023-08-20T11:23:20.431Z"
   },
   {
    "duration": 17,
    "start_time": "2023-08-20T11:23:20.458Z"
   },
   {
    "duration": 17,
    "start_time": "2023-08-20T11:23:20.476Z"
   },
   {
    "duration": 51,
    "start_time": "2023-08-20T11:23:20.494Z"
   },
   {
    "duration": 38,
    "start_time": "2023-08-20T11:23:20.547Z"
   },
   {
    "duration": 10,
    "start_time": "2023-08-20T11:23:20.586Z"
   },
   {
    "duration": 92,
    "start_time": "2023-08-20T11:23:20.598Z"
   },
   {
    "duration": 10,
    "start_time": "2023-08-20T11:23:20.691Z"
   },
   {
    "duration": 73,
    "start_time": "2023-08-20T11:23:20.703Z"
   },
   {
    "duration": 38,
    "start_time": "2023-08-20T11:23:20.778Z"
   },
   {
    "duration": 22,
    "start_time": "2023-08-20T11:23:20.818Z"
   },
   {
    "duration": 31,
    "start_time": "2023-08-20T11:23:20.842Z"
   },
   {
    "duration": 50,
    "start_time": "2023-08-20T11:23:20.874Z"
   },
   {
    "duration": 10,
    "start_time": "2023-08-20T11:23:20.926Z"
   },
   {
    "duration": 31,
    "start_time": "2023-08-20T11:23:20.937Z"
   },
   {
    "duration": 26,
    "start_time": "2023-08-20T11:23:20.970Z"
   },
   {
    "duration": 24,
    "start_time": "2023-08-20T11:23:20.998Z"
   },
   {
    "duration": 27,
    "start_time": "2023-08-20T11:23:21.024Z"
   },
   {
    "duration": 29,
    "start_time": "2023-08-20T11:23:21.052Z"
   },
   {
    "duration": 18,
    "start_time": "2023-08-20T11:23:21.083Z"
   },
   {
    "duration": 73,
    "start_time": "2023-08-20T11:23:21.103Z"
   },
   {
    "duration": 21,
    "start_time": "2023-08-20T11:23:21.177Z"
   },
   {
    "duration": 35,
    "start_time": "2023-08-20T11:23:21.199Z"
   },
   {
    "duration": 30,
    "start_time": "2023-08-20T11:23:21.236Z"
   },
   {
    "duration": 10,
    "start_time": "2023-08-20T11:23:21.269Z"
   },
   {
    "duration": 20,
    "start_time": "2023-08-20T11:23:21.280Z"
   },
   {
    "duration": 7,
    "start_time": "2023-08-20T11:23:21.302Z"
   },
   {
    "duration": 40,
    "start_time": "2023-08-20T11:23:21.311Z"
   },
   {
    "duration": 6,
    "start_time": "2023-08-20T11:23:21.353Z"
   },
   {
    "duration": 3,
    "start_time": "2023-08-20T11:23:29.201Z"
   },
   {
    "duration": 290,
    "start_time": "2023-08-20T11:23:29.205Z"
   },
   {
    "duration": 8,
    "start_time": "2023-08-20T11:23:29.497Z"
   },
   {
    "duration": 11,
    "start_time": "2023-08-20T11:23:29.506Z"
   },
   {
    "duration": 19,
    "start_time": "2023-08-20T11:23:29.520Z"
   },
   {
    "duration": 19,
    "start_time": "2023-08-20T11:23:29.541Z"
   },
   {
    "duration": 15,
    "start_time": "2023-08-20T11:23:29.562Z"
   },
   {
    "duration": 6,
    "start_time": "2023-08-20T11:23:29.579Z"
   },
   {
    "duration": 15,
    "start_time": "2023-08-20T11:23:29.586Z"
   },
   {
    "duration": 11,
    "start_time": "2023-08-20T11:23:29.603Z"
   },
   {
    "duration": 9,
    "start_time": "2023-08-20T11:23:29.617Z"
   },
   {
    "duration": 12,
    "start_time": "2023-08-20T11:23:29.627Z"
   },
   {
    "duration": 13,
    "start_time": "2023-08-20T11:23:29.640Z"
   },
   {
    "duration": 17,
    "start_time": "2023-08-20T11:23:29.654Z"
   },
   {
    "duration": 7,
    "start_time": "2023-08-20T11:23:29.673Z"
   },
   {
    "duration": 15,
    "start_time": "2023-08-20T11:23:29.681Z"
   },
   {
    "duration": 47,
    "start_time": "2023-08-20T11:23:29.697Z"
   },
   {
    "duration": 25,
    "start_time": "2023-08-20T11:23:29.746Z"
   },
   {
    "duration": 11,
    "start_time": "2023-08-20T11:23:29.773Z"
   },
   {
    "duration": 37,
    "start_time": "2023-08-20T11:23:29.786Z"
   },
   {
    "duration": 20,
    "start_time": "2023-08-20T11:23:29.825Z"
   },
   {
    "duration": 40,
    "start_time": "2023-08-20T11:23:29.846Z"
   },
   {
    "duration": 11,
    "start_time": "2023-08-20T11:23:29.888Z"
   },
   {
    "duration": 14,
    "start_time": "2023-08-20T11:23:29.900Z"
   },
   {
    "duration": 24,
    "start_time": "2023-08-20T11:23:29.915Z"
   },
   {
    "duration": 31,
    "start_time": "2023-08-20T11:23:29.941Z"
   },
   {
    "duration": 22,
    "start_time": "2023-08-20T11:23:29.974Z"
   },
   {
    "duration": 11,
    "start_time": "2023-08-20T11:23:29.998Z"
   },
   {
    "duration": 145,
    "start_time": "2023-08-20T11:23:30.014Z"
   },
   {
    "duration": 61,
    "start_time": "2023-08-20T11:23:30.161Z"
   },
   {
    "duration": 70,
    "start_time": "2023-08-20T11:23:30.225Z"
   },
   {
    "duration": 62,
    "start_time": "2023-08-20T11:23:30.298Z"
   },
   {
    "duration": 127,
    "start_time": "2023-08-20T11:23:30.361Z"
   },
   {
    "duration": 28,
    "start_time": "2023-08-20T11:23:30.490Z"
   },
   {
    "duration": 49,
    "start_time": "2023-08-20T11:23:30.520Z"
   },
   {
    "duration": 93,
    "start_time": "2023-08-20T11:23:30.571Z"
   },
   {
    "duration": 32,
    "start_time": "2023-08-20T11:23:30.666Z"
   },
   {
    "duration": 111,
    "start_time": "2023-08-20T11:23:30.700Z"
   },
   {
    "duration": 61,
    "start_time": "2023-08-20T11:23:30.812Z"
   },
   {
    "duration": 48,
    "start_time": "2023-08-20T11:23:30.875Z"
   },
   {
    "duration": 50,
    "start_time": "2023-08-20T11:23:30.925Z"
   },
   {
    "duration": 80,
    "start_time": "2023-08-20T11:23:30.977Z"
   },
   {
    "duration": 62,
    "start_time": "2023-08-20T11:23:31.059Z"
   },
   {
    "duration": 81,
    "start_time": "2023-08-20T11:23:31.124Z"
   },
   {
    "duration": 77,
    "start_time": "2023-08-20T11:23:31.207Z"
   },
   {
    "duration": 39,
    "start_time": "2023-08-20T11:23:31.286Z"
   },
   {
    "duration": 61,
    "start_time": "2023-08-20T11:23:31.328Z"
   },
   {
    "duration": 50,
    "start_time": "2023-08-20T11:23:31.391Z"
   },
   {
    "duration": 35,
    "start_time": "2023-08-20T11:23:31.444Z"
   },
   {
    "duration": 61,
    "start_time": "2023-08-20T11:23:31.481Z"
   },
   {
    "duration": 30,
    "start_time": "2023-08-20T11:23:31.544Z"
   },
   {
    "duration": 38,
    "start_time": "2023-08-20T11:23:31.576Z"
   },
   {
    "duration": 55,
    "start_time": "2023-08-20T11:23:31.616Z"
   },
   {
    "duration": 16,
    "start_time": "2023-08-20T11:23:31.673Z"
   },
   {
    "duration": 60,
    "start_time": "2023-08-20T11:23:31.690Z"
   },
   {
    "duration": 41,
    "start_time": "2023-08-20T11:23:31.751Z"
   },
   {
    "duration": 39,
    "start_time": "2023-08-20T11:23:31.794Z"
   },
   {
    "duration": 34,
    "start_time": "2023-08-20T11:23:31.835Z"
   },
   {
    "duration": 828,
    "start_time": "2023-08-20T11:23:48.914Z"
   },
   {
    "duration": 285,
    "start_time": "2023-08-20T11:23:49.745Z"
   },
   {
    "duration": 16,
    "start_time": "2023-08-20T11:23:50.031Z"
   },
   {
    "duration": 42,
    "start_time": "2023-08-20T11:23:50.050Z"
   },
   {
    "duration": 34,
    "start_time": "2023-08-20T11:23:50.094Z"
   },
   {
    "duration": 24,
    "start_time": "2023-08-20T11:23:50.129Z"
   },
   {
    "duration": 31,
    "start_time": "2023-08-20T11:23:50.154Z"
   },
   {
    "duration": 8,
    "start_time": "2023-08-20T11:23:50.186Z"
   },
   {
    "duration": 32,
    "start_time": "2023-08-20T11:23:50.195Z"
   },
   {
    "duration": 4,
    "start_time": "2023-08-20T11:23:50.230Z"
   },
   {
    "duration": 14,
    "start_time": "2023-08-20T11:23:50.236Z"
   },
   {
    "duration": 18,
    "start_time": "2023-08-20T11:23:50.251Z"
   },
   {
    "duration": 10,
    "start_time": "2023-08-20T11:23:50.271Z"
   },
   {
    "duration": 8,
    "start_time": "2023-08-20T11:23:50.282Z"
   },
   {
    "duration": 22,
    "start_time": "2023-08-20T11:23:50.292Z"
   },
   {
    "duration": 9,
    "start_time": "2023-08-20T11:23:50.316Z"
   },
   {
    "duration": 46,
    "start_time": "2023-08-20T11:23:50.326Z"
   },
   {
    "duration": 12,
    "start_time": "2023-08-20T11:23:50.374Z"
   },
   {
    "duration": 14,
    "start_time": "2023-08-20T11:23:50.388Z"
   },
   {
    "duration": 37,
    "start_time": "2023-08-20T11:23:50.404Z"
   },
   {
    "duration": 132,
    "start_time": "2023-08-20T11:23:50.443Z"
   },
   {
    "duration": 341,
    "start_time": "2023-08-20T11:23:50.577Z"
   },
   {
    "duration": 20,
    "start_time": "2023-08-20T11:23:50.920Z"
   },
   {
    "duration": 28,
    "start_time": "2023-08-20T11:23:50.942Z"
   },
   {
    "duration": 27,
    "start_time": "2023-08-20T11:23:50.971Z"
   },
   {
    "duration": 12,
    "start_time": "2023-08-20T11:23:51.000Z"
   },
   {
    "duration": 24,
    "start_time": "2023-08-20T11:23:51.014Z"
   },
   {
    "duration": 9,
    "start_time": "2023-08-20T11:23:51.041Z"
   },
   {
    "duration": 28,
    "start_time": "2023-08-20T11:23:51.051Z"
   },
   {
    "duration": 36,
    "start_time": "2023-08-20T11:23:51.080Z"
   },
   {
    "duration": 25,
    "start_time": "2023-08-20T11:23:51.119Z"
   },
   {
    "duration": 32,
    "start_time": "2023-08-20T11:23:51.146Z"
   },
   {
    "duration": 51,
    "start_time": "2023-08-20T11:23:51.180Z"
   },
   {
    "duration": 41,
    "start_time": "2023-08-20T11:23:51.234Z"
   },
   {
    "duration": 9,
    "start_time": "2023-08-20T11:23:51.277Z"
   },
   {
    "duration": 83,
    "start_time": "2023-08-20T11:23:51.288Z"
   },
   {
    "duration": 10,
    "start_time": "2023-08-20T11:23:51.373Z"
   },
   {
    "duration": 84,
    "start_time": "2023-08-20T11:23:51.384Z"
   },
   {
    "duration": 44,
    "start_time": "2023-08-20T11:23:51.470Z"
   },
   {
    "duration": 18,
    "start_time": "2023-08-20T11:23:51.516Z"
   },
   {
    "duration": 9,
    "start_time": "2023-08-20T11:23:51.536Z"
   },
   {
    "duration": 22,
    "start_time": "2023-08-20T11:23:51.568Z"
   },
   {
    "duration": 2,
    "start_time": "2023-08-20T11:23:51.592Z"
   },
   {
    "duration": 25,
    "start_time": "2023-08-20T11:23:51.596Z"
   },
   {
    "duration": 19,
    "start_time": "2023-08-20T11:23:51.623Z"
   },
   {
    "duration": 32,
    "start_time": "2023-08-20T11:23:51.644Z"
   },
   {
    "duration": 12,
    "start_time": "2023-08-20T11:23:51.678Z"
   },
   {
    "duration": 8,
    "start_time": "2023-08-20T11:23:51.692Z"
   },
   {
    "duration": 5,
    "start_time": "2023-08-20T11:23:51.702Z"
   },
   {
    "duration": 27,
    "start_time": "2023-08-20T11:23:51.709Z"
   },
   {
    "duration": 49,
    "start_time": "2023-08-20T11:23:51.737Z"
   },
   {
    "duration": 7,
    "start_time": "2023-08-20T11:23:51.788Z"
   },
   {
    "duration": 7,
    "start_time": "2023-08-20T11:23:51.797Z"
   },
   {
    "duration": 28,
    "start_time": "2023-08-20T11:23:51.806Z"
   },
   {
    "duration": 6,
    "start_time": "2023-08-20T11:23:51.836Z"
   },
   {
    "duration": 21,
    "start_time": "2023-08-20T11:23:51.867Z"
   },
   {
    "duration": 7,
    "start_time": "2023-08-20T11:23:51.890Z"
   },
   {
    "duration": 2,
    "start_time": "2023-08-20T11:24:04.637Z"
   },
   {
    "duration": 310,
    "start_time": "2023-08-20T11:24:04.644Z"
   },
   {
    "duration": 9,
    "start_time": "2023-08-20T11:24:04.956Z"
   },
   {
    "duration": 14,
    "start_time": "2023-08-20T11:24:04.967Z"
   },
   {
    "duration": 14,
    "start_time": "2023-08-20T11:24:04.983Z"
   },
   {
    "duration": 17,
    "start_time": "2023-08-20T11:24:05.000Z"
   },
   {
    "duration": 30,
    "start_time": "2023-08-20T11:24:05.019Z"
   },
   {
    "duration": 7,
    "start_time": "2023-08-20T11:24:05.051Z"
   },
   {
    "duration": 19,
    "start_time": "2023-08-20T11:24:05.060Z"
   },
   {
    "duration": 17,
    "start_time": "2023-08-20T11:24:05.081Z"
   },
   {
    "duration": 40,
    "start_time": "2023-08-20T11:24:05.100Z"
   },
   {
    "duration": 66,
    "start_time": "2023-08-20T11:24:05.142Z"
   },
   {
    "duration": 133,
    "start_time": "2023-08-20T11:24:05.210Z"
   },
   {
    "duration": 105,
    "start_time": "2023-08-20T11:24:05.345Z"
   },
   {
    "duration": 165,
    "start_time": "2023-08-20T11:24:05.453Z"
   },
   {
    "duration": 31,
    "start_time": "2023-08-20T11:24:05.620Z"
   },
   {
    "duration": 45,
    "start_time": "2023-08-20T11:24:05.653Z"
   },
   {
    "duration": 29,
    "start_time": "2023-08-20T11:24:05.699Z"
   },
   {
    "duration": 13,
    "start_time": "2023-08-20T11:24:05.729Z"
   },
   {
    "duration": 29,
    "start_time": "2023-08-20T11:24:05.744Z"
   },
   {
    "duration": 16,
    "start_time": "2023-08-20T11:24:05.775Z"
   },
   {
    "duration": 46,
    "start_time": "2023-08-20T11:24:05.793Z"
   },
   {
    "duration": 11,
    "start_time": "2023-08-20T11:24:05.841Z"
   },
   {
    "duration": 19,
    "start_time": "2023-08-20T11:24:05.854Z"
   },
   {
    "duration": 35,
    "start_time": "2023-08-20T11:24:05.874Z"
   },
   {
    "duration": 11,
    "start_time": "2023-08-20T11:24:05.910Z"
   },
   {
    "duration": 31,
    "start_time": "2023-08-20T11:24:05.923Z"
   },
   {
    "duration": 24,
    "start_time": "2023-08-20T11:24:05.956Z"
   },
   {
    "duration": 21,
    "start_time": "2023-08-20T11:24:05.982Z"
   },
   {
    "duration": 17,
    "start_time": "2023-08-20T11:24:06.005Z"
   },
   {
    "duration": 24,
    "start_time": "2023-08-20T11:24:06.024Z"
   },
   {
    "duration": 20,
    "start_time": "2023-08-20T11:24:06.050Z"
   },
   {
    "duration": 90,
    "start_time": "2023-08-20T11:24:06.072Z"
   },
   {
    "duration": 24,
    "start_time": "2023-08-20T11:24:06.164Z"
   },
   {
    "duration": 10,
    "start_time": "2023-08-20T11:24:06.190Z"
   },
   {
    "duration": 253,
    "start_time": "2023-08-20T11:24:06.204Z"
   },
   {
    "duration": 12,
    "start_time": "2023-08-20T11:24:06.459Z"
   },
   {
    "duration": 64,
    "start_time": "2023-08-20T11:24:06.473Z"
   },
   {
    "duration": 55,
    "start_time": "2023-08-20T11:24:06.539Z"
   },
   {
    "duration": 22,
    "start_time": "2023-08-20T11:24:06.596Z"
   },
   {
    "duration": 15,
    "start_time": "2023-08-20T11:24:06.620Z"
   },
   {
    "duration": 44,
    "start_time": "2023-08-20T11:24:06.641Z"
   },
   {
    "duration": 7,
    "start_time": "2023-08-20T11:24:06.687Z"
   },
   {
    "duration": 39,
    "start_time": "2023-08-20T11:24:06.696Z"
   },
   {
    "duration": 34,
    "start_time": "2023-08-20T11:24:06.737Z"
   },
   {
    "duration": 14,
    "start_time": "2023-08-20T11:24:06.773Z"
   },
   {
    "duration": 7,
    "start_time": "2023-08-20T11:24:06.789Z"
   },
   {
    "duration": 13,
    "start_time": "2023-08-20T11:24:06.797Z"
   },
   {
    "duration": 13,
    "start_time": "2023-08-20T11:24:06.812Z"
   },
   {
    "duration": 50,
    "start_time": "2023-08-20T11:24:06.827Z"
   },
   {
    "duration": 22,
    "start_time": "2023-08-20T11:24:06.879Z"
   },
   {
    "duration": 33,
    "start_time": "2023-08-20T11:24:06.903Z"
   },
   {
    "duration": 26,
    "start_time": "2023-08-20T11:24:06.938Z"
   },
   {
    "duration": 41,
    "start_time": "2023-08-20T11:24:06.965Z"
   },
   {
    "duration": 7,
    "start_time": "2023-08-20T11:24:07.008Z"
   },
   {
    "duration": 36,
    "start_time": "2023-08-20T11:24:07.016Z"
   },
   {
    "duration": 33,
    "start_time": "2023-08-20T11:24:07.053Z"
   },
   {
    "duration": 18,
    "start_time": "2023-08-20T11:24:22.262Z"
   },
   {
    "duration": 113,
    "start_time": "2023-08-20T11:24:53.258Z"
   },
   {
    "duration": 16,
    "start_time": "2023-08-20T11:25:07.494Z"
   },
   {
    "duration": 12,
    "start_time": "2023-08-20T11:25:10.717Z"
   },
   {
    "duration": 10,
    "start_time": "2023-08-20T11:25:28.033Z"
   },
   {
    "duration": 18,
    "start_time": "2023-08-20T11:25:35.776Z"
   },
   {
    "duration": 17,
    "start_time": "2023-08-20T11:26:03.705Z"
   },
   {
    "duration": 34,
    "start_time": "2023-08-20T11:26:47.839Z"
   },
   {
    "duration": 22,
    "start_time": "2023-08-20T11:27:01.982Z"
   },
   {
    "duration": 5,
    "start_time": "2023-08-20T11:27:10.634Z"
   },
   {
    "duration": 20,
    "start_time": "2023-08-20T11:27:14.322Z"
   },
   {
    "duration": 34,
    "start_time": "2023-08-20T11:27:30.150Z"
   },
   {
    "duration": 7,
    "start_time": "2023-08-20T11:27:32.851Z"
   },
   {
    "duration": 6,
    "start_time": "2023-08-20T11:27:35.882Z"
   },
   {
    "duration": 31,
    "start_time": "2023-08-20T12:29:37.448Z"
   },
   {
    "duration": 31,
    "start_time": "2023-08-20T12:29:46.162Z"
   },
   {
    "duration": 6,
    "start_time": "2023-08-20T12:29:48.807Z"
   },
   {
    "duration": 5,
    "start_time": "2023-08-20T12:30:38.786Z"
   },
   {
    "duration": 6,
    "start_time": "2023-08-20T12:30:48.397Z"
   },
   {
    "duration": 6,
    "start_time": "2023-08-20T12:31:25.874Z"
   },
   {
    "duration": 7,
    "start_time": "2023-08-20T12:31:45.634Z"
   },
   {
    "duration": 872,
    "start_time": "2023-08-20T12:32:38.333Z"
   },
   {
    "duration": 270,
    "start_time": "2023-08-20T12:32:39.208Z"
   },
   {
    "duration": 17,
    "start_time": "2023-08-20T12:32:39.480Z"
   },
   {
    "duration": 8,
    "start_time": "2023-08-20T12:32:39.499Z"
   },
   {
    "duration": 11,
    "start_time": "2023-08-20T12:32:39.509Z"
   },
   {
    "duration": 17,
    "start_time": "2023-08-20T12:32:39.522Z"
   },
   {
    "duration": 28,
    "start_time": "2023-08-20T12:32:39.540Z"
   },
   {
    "duration": 4,
    "start_time": "2023-08-20T12:32:39.570Z"
   },
   {
    "duration": 7,
    "start_time": "2023-08-20T12:32:39.576Z"
   },
   {
    "duration": 4,
    "start_time": "2023-08-20T12:32:39.586Z"
   },
   {
    "duration": 8,
    "start_time": "2023-08-20T12:32:39.591Z"
   },
   {
    "duration": 11,
    "start_time": "2023-08-20T12:32:39.601Z"
   },
   {
    "duration": 10,
    "start_time": "2023-08-20T12:32:39.613Z"
   },
   {
    "duration": 4,
    "start_time": "2023-08-20T12:32:39.625Z"
   },
   {
    "duration": 6,
    "start_time": "2023-08-20T12:32:39.666Z"
   },
   {
    "duration": 26,
    "start_time": "2023-08-20T12:32:39.674Z"
   },
   {
    "duration": 43,
    "start_time": "2023-08-20T12:32:39.701Z"
   },
   {
    "duration": 16,
    "start_time": "2023-08-20T12:32:39.746Z"
   },
   {
    "duration": 10,
    "start_time": "2023-08-20T12:32:39.764Z"
   },
   {
    "duration": 39,
    "start_time": "2023-08-20T12:32:39.775Z"
   },
   {
    "duration": 14,
    "start_time": "2023-08-20T12:32:39.816Z"
   },
   {
    "duration": 396,
    "start_time": "2023-08-20T12:32:39.831Z"
   },
   {
    "duration": 11,
    "start_time": "2023-08-20T12:32:40.229Z"
   },
   {
    "duration": 11,
    "start_time": "2023-08-20T12:32:40.241Z"
   },
   {
    "duration": 17,
    "start_time": "2023-08-20T12:32:40.267Z"
   },
   {
    "duration": 9,
    "start_time": "2023-08-20T12:32:40.286Z"
   },
   {
    "duration": 28,
    "start_time": "2023-08-20T12:32:40.297Z"
   },
   {
    "duration": 8,
    "start_time": "2023-08-20T12:32:40.328Z"
   },
   {
    "duration": 38,
    "start_time": "2023-08-20T12:32:40.338Z"
   },
   {
    "duration": 7,
    "start_time": "2023-08-20T12:32:40.377Z"
   },
   {
    "duration": 27,
    "start_time": "2023-08-20T12:32:40.386Z"
   },
   {
    "duration": 23,
    "start_time": "2023-08-20T12:32:40.415Z"
   },
   {
    "duration": 60,
    "start_time": "2023-08-20T12:32:40.439Z"
   },
   {
    "duration": 22,
    "start_time": "2023-08-20T12:32:40.500Z"
   },
   {
    "duration": 9,
    "start_time": "2023-08-20T12:32:40.523Z"
   },
   {
    "duration": 87,
    "start_time": "2023-08-20T12:32:40.533Z"
   },
   {
    "duration": 9,
    "start_time": "2023-08-20T12:32:40.622Z"
   },
   {
    "duration": 68,
    "start_time": "2023-08-20T12:32:40.632Z"
   },
   {
    "duration": 36,
    "start_time": "2023-08-20T12:32:40.701Z"
   },
   {
    "duration": 32,
    "start_time": "2023-08-20T12:32:40.739Z"
   },
   {
    "duration": 10,
    "start_time": "2023-08-20T12:32:40.773Z"
   },
   {
    "duration": 17,
    "start_time": "2023-08-20T12:32:40.785Z"
   },
   {
    "duration": 2,
    "start_time": "2023-08-20T12:32:40.804Z"
   },
   {
    "duration": 32,
    "start_time": "2023-08-20T12:32:40.808Z"
   },
   {
    "duration": 43,
    "start_time": "2023-08-20T12:32:40.842Z"
   },
   {
    "duration": 12,
    "start_time": "2023-08-20T12:32:40.887Z"
   },
   {
    "duration": 15,
    "start_time": "2023-08-20T12:32:40.901Z"
   },
   {
    "duration": 9,
    "start_time": "2023-08-20T12:32:40.918Z"
   },
   {
    "duration": 6,
    "start_time": "2023-08-20T12:32:40.929Z"
   },
   {
    "duration": 50,
    "start_time": "2023-08-20T12:32:40.937Z"
   },
   {
    "duration": 23,
    "start_time": "2023-08-20T12:32:40.989Z"
   },
   {
    "duration": 7,
    "start_time": "2023-08-20T12:32:41.014Z"
   },
   {
    "duration": 60,
    "start_time": "2023-08-20T12:32:41.023Z"
   },
   {
    "duration": 34,
    "start_time": "2023-08-20T12:32:41.086Z"
   },
   {
    "duration": 6,
    "start_time": "2023-08-20T12:32:41.121Z"
   },
   {
    "duration": 6,
    "start_time": "2023-08-20T12:32:56.301Z"
   },
   {
    "duration": 6,
    "start_time": "2023-08-20T12:33:19.469Z"
   },
   {
    "duration": 7,
    "start_time": "2023-08-20T12:33:24.051Z"
   },
   {
    "duration": 17,
    "start_time": "2023-08-20T12:34:01.726Z"
   },
   {
    "duration": 16,
    "start_time": "2023-08-20T12:34:37.546Z"
   },
   {
    "duration": 17,
    "start_time": "2023-08-20T12:34:47.414Z"
   },
   {
    "duration": 30,
    "start_time": "2023-08-20T12:35:11.477Z"
   },
   {
    "duration": 41,
    "start_time": "2023-08-20T12:35:17.053Z"
   },
   {
    "duration": 36,
    "start_time": "2023-08-20T12:35:24.039Z"
   },
   {
    "duration": 7,
    "start_time": "2023-08-20T12:35:27.089Z"
   },
   {
    "duration": 7,
    "start_time": "2023-08-20T12:35:53.985Z"
   },
   {
    "duration": 6,
    "start_time": "2023-08-20T12:35:58.233Z"
   },
   {
    "duration": 6,
    "start_time": "2023-08-20T12:37:39.319Z"
   },
   {
    "duration": 6,
    "start_time": "2023-08-20T12:37:44.683Z"
   },
   {
    "duration": 3,
    "start_time": "2023-08-20T12:38:09.482Z"
   },
   {
    "duration": 27,
    "start_time": "2023-08-20T12:38:38.765Z"
   },
   {
    "duration": 30,
    "start_time": "2023-08-20T12:38:42.512Z"
   },
   {
    "duration": 6,
    "start_time": "2023-08-20T12:38:44.878Z"
   },
   {
    "duration": 356,
    "start_time": "2023-08-20T12:39:30.165Z"
   },
   {
    "duration": 354,
    "start_time": "2023-08-20T12:39:36.627Z"
   },
   {
    "duration": 36,
    "start_time": "2023-08-20T12:39:43.645Z"
   },
   {
    "duration": 27,
    "start_time": "2023-08-20T12:39:49.600Z"
   },
   {
    "duration": 111,
    "start_time": "2023-08-20T12:40:02.391Z"
   },
   {
    "duration": 8,
    "start_time": "2023-08-20T12:40:04.508Z"
   },
   {
    "duration": 29,
    "start_time": "2023-08-20T12:40:12.335Z"
   },
   {
    "duration": 6,
    "start_time": "2023-08-20T12:40:14.997Z"
   },
   {
    "duration": 6,
    "start_time": "2023-08-20T12:40:17.394Z"
   },
   {
    "duration": 905,
    "start_time": "2023-08-20T12:40:34.381Z"
   },
   {
    "duration": 276,
    "start_time": "2023-08-20T12:40:35.288Z"
   },
   {
    "duration": 21,
    "start_time": "2023-08-20T12:40:35.566Z"
   },
   {
    "duration": 36,
    "start_time": "2023-08-20T12:40:35.590Z"
   },
   {
    "duration": 23,
    "start_time": "2023-08-20T12:40:35.629Z"
   },
   {
    "duration": 51,
    "start_time": "2023-08-20T12:40:35.655Z"
   },
   {
    "duration": 21,
    "start_time": "2023-08-20T12:40:35.708Z"
   },
   {
    "duration": 18,
    "start_time": "2023-08-20T12:40:35.731Z"
   },
   {
    "duration": 27,
    "start_time": "2023-08-20T12:40:35.751Z"
   },
   {
    "duration": 16,
    "start_time": "2023-08-20T12:40:35.781Z"
   },
   {
    "duration": 18,
    "start_time": "2023-08-20T12:40:35.799Z"
   },
   {
    "duration": 34,
    "start_time": "2023-08-20T12:40:35.819Z"
   },
   {
    "duration": 28,
    "start_time": "2023-08-20T12:40:35.856Z"
   },
   {
    "duration": 23,
    "start_time": "2023-08-20T12:40:35.886Z"
   },
   {
    "duration": 23,
    "start_time": "2023-08-20T12:40:35.911Z"
   },
   {
    "duration": 56,
    "start_time": "2023-08-20T12:40:35.936Z"
   },
   {
    "duration": 66,
    "start_time": "2023-08-20T12:40:35.993Z"
   },
   {
    "duration": 12,
    "start_time": "2023-08-20T12:40:36.060Z"
   },
   {
    "duration": 12,
    "start_time": "2023-08-20T12:40:36.074Z"
   },
   {
    "duration": 73,
    "start_time": "2023-08-20T12:40:36.087Z"
   },
   {
    "duration": 19,
    "start_time": "2023-08-20T12:40:36.162Z"
   },
   {
    "duration": 370,
    "start_time": "2023-08-20T12:40:36.183Z"
   },
   {
    "duration": 16,
    "start_time": "2023-08-20T12:40:36.555Z"
   },
   {
    "duration": 11,
    "start_time": "2023-08-20T12:40:36.573Z"
   },
   {
    "duration": 37,
    "start_time": "2023-08-20T12:40:36.585Z"
   },
   {
    "duration": 10,
    "start_time": "2023-08-20T12:40:36.625Z"
   },
   {
    "duration": 34,
    "start_time": "2023-08-20T12:40:36.636Z"
   },
   {
    "duration": 9,
    "start_time": "2023-08-20T12:40:36.674Z"
   },
   {
    "duration": 15,
    "start_time": "2023-08-20T12:40:36.684Z"
   },
   {
    "duration": 8,
    "start_time": "2023-08-20T12:40:36.700Z"
   },
   {
    "duration": 15,
    "start_time": "2023-08-20T12:40:36.710Z"
   },
   {
    "duration": 44,
    "start_time": "2023-08-20T12:40:36.727Z"
   },
   {
    "duration": 54,
    "start_time": "2023-08-20T12:40:36.773Z"
   },
   {
    "duration": 47,
    "start_time": "2023-08-20T12:40:36.829Z"
   },
   {
    "duration": 11,
    "start_time": "2023-08-20T12:40:36.878Z"
   },
   {
    "duration": 95,
    "start_time": "2023-08-20T12:40:36.890Z"
   },
   {
    "duration": 10,
    "start_time": "2023-08-20T12:40:36.987Z"
   },
   {
    "duration": 81,
    "start_time": "2023-08-20T12:40:36.999Z"
   },
   {
    "duration": 45,
    "start_time": "2023-08-20T12:40:37.081Z"
   },
   {
    "duration": 17,
    "start_time": "2023-08-20T12:40:37.128Z"
   },
   {
    "duration": 24,
    "start_time": "2023-08-20T12:40:37.147Z"
   },
   {
    "duration": 23,
    "start_time": "2023-08-20T12:40:37.173Z"
   },
   {
    "duration": 2,
    "start_time": "2023-08-20T12:40:37.197Z"
   },
   {
    "duration": 24,
    "start_time": "2023-08-20T12:40:37.201Z"
   },
   {
    "duration": 47,
    "start_time": "2023-08-20T12:40:37.228Z"
   },
   {
    "duration": 12,
    "start_time": "2023-08-20T12:40:37.277Z"
   },
   {
    "duration": 12,
    "start_time": "2023-08-20T12:40:37.291Z"
   },
   {
    "duration": 9,
    "start_time": "2023-08-20T12:40:37.304Z"
   },
   {
    "duration": 4,
    "start_time": "2023-08-20T12:40:37.315Z"
   },
   {
    "duration": 57,
    "start_time": "2023-08-20T12:40:37.321Z"
   },
   {
    "duration": 22,
    "start_time": "2023-08-20T12:40:37.380Z"
   },
   {
    "duration": 8,
    "start_time": "2023-08-20T12:40:37.404Z"
   },
   {
    "duration": 18,
    "start_time": "2023-08-20T12:40:37.413Z"
   },
   {
    "duration": 34,
    "start_time": "2023-08-20T12:40:37.433Z"
   },
   {
    "duration": 41,
    "start_time": "2023-08-20T12:40:37.469Z"
   },
   {
    "duration": 14,
    "start_time": "2023-08-20T12:40:37.512Z"
   },
   {
    "duration": 56,
    "start_time": "2023-08-20T12:40:37.528Z"
   },
   {
    "duration": 6,
    "start_time": "2023-08-20T12:40:37.586Z"
   },
   {
    "duration": 4,
    "start_time": "2023-08-20T12:40:49.941Z"
   },
   {
    "duration": 301,
    "start_time": "2023-08-20T12:40:49.947Z"
   },
   {
    "duration": 8,
    "start_time": "2023-08-20T12:40:50.250Z"
   },
   {
    "duration": 19,
    "start_time": "2023-08-20T12:40:50.260Z"
   },
   {
    "duration": 24,
    "start_time": "2023-08-20T12:40:50.281Z"
   },
   {
    "duration": 13,
    "start_time": "2023-08-20T12:40:50.308Z"
   },
   {
    "duration": 15,
    "start_time": "2023-08-20T12:40:50.324Z"
   },
   {
    "duration": 9,
    "start_time": "2023-08-20T12:40:50.341Z"
   },
   {
    "duration": 8,
    "start_time": "2023-08-20T12:40:50.352Z"
   },
   {
    "duration": 12,
    "start_time": "2023-08-20T12:40:50.362Z"
   },
   {
    "duration": 10,
    "start_time": "2023-08-20T12:40:50.376Z"
   },
   {
    "duration": 14,
    "start_time": "2023-08-20T12:40:50.388Z"
   },
   {
    "duration": 16,
    "start_time": "2023-08-20T12:40:50.404Z"
   },
   {
    "duration": 6,
    "start_time": "2023-08-20T12:40:50.422Z"
   },
   {
    "duration": 8,
    "start_time": "2023-08-20T12:40:50.430Z"
   },
   {
    "duration": 31,
    "start_time": "2023-08-20T12:40:50.440Z"
   },
   {
    "duration": 41,
    "start_time": "2023-08-20T12:40:50.473Z"
   },
   {
    "duration": 13,
    "start_time": "2023-08-20T12:40:50.516Z"
   },
   {
    "duration": 11,
    "start_time": "2023-08-20T12:40:50.531Z"
   },
   {
    "duration": 51,
    "start_time": "2023-08-20T12:40:50.543Z"
   },
   {
    "duration": 17,
    "start_time": "2023-08-20T12:40:50.596Z"
   },
   {
    "duration": 34,
    "start_time": "2023-08-20T12:40:50.615Z"
   },
   {
    "duration": 22,
    "start_time": "2023-08-20T12:40:50.650Z"
   },
   {
    "duration": 11,
    "start_time": "2023-08-20T12:40:50.673Z"
   },
   {
    "duration": 18,
    "start_time": "2023-08-20T12:40:50.686Z"
   },
   {
    "duration": 9,
    "start_time": "2023-08-20T12:40:50.706Z"
   },
   {
    "duration": 56,
    "start_time": "2023-08-20T12:40:50.717Z"
   },
   {
    "duration": 8,
    "start_time": "2023-08-20T12:40:50.774Z"
   },
   {
    "duration": 16,
    "start_time": "2023-08-20T12:40:50.785Z"
   },
   {
    "duration": 12,
    "start_time": "2023-08-20T12:40:50.802Z"
   },
   {
    "duration": 16,
    "start_time": "2023-08-20T12:40:50.816Z"
   },
   {
    "duration": 50,
    "start_time": "2023-08-20T12:40:50.834Z"
   },
   {
    "duration": 47,
    "start_time": "2023-08-20T12:40:50.886Z"
   },
   {
    "duration": 40,
    "start_time": "2023-08-20T12:40:50.935Z"
   },
   {
    "duration": 9,
    "start_time": "2023-08-20T12:40:50.977Z"
   },
   {
    "duration": 79,
    "start_time": "2023-08-20T12:40:50.988Z"
   },
   {
    "duration": 10,
    "start_time": "2023-08-20T12:40:51.068Z"
   },
   {
    "duration": 62,
    "start_time": "2023-08-20T12:40:51.080Z"
   },
   {
    "duration": 61,
    "start_time": "2023-08-20T12:40:51.144Z"
   },
   {
    "duration": 17,
    "start_time": "2023-08-20T12:40:51.206Z"
   },
   {
    "duration": 13,
    "start_time": "2023-08-20T12:40:51.225Z"
   },
   {
    "duration": 45,
    "start_time": "2023-08-20T12:40:51.239Z"
   },
   {
    "duration": 2,
    "start_time": "2023-08-20T12:40:51.285Z"
   },
   {
    "duration": 35,
    "start_time": "2023-08-20T12:40:51.289Z"
   },
   {
    "duration": 19,
    "start_time": "2023-08-20T12:40:51.326Z"
   },
   {
    "duration": 25,
    "start_time": "2023-08-20T12:40:51.346Z"
   },
   {
    "duration": 7,
    "start_time": "2023-08-20T12:40:51.372Z"
   },
   {
    "duration": 9,
    "start_time": "2023-08-20T12:40:51.382Z"
   },
   {
    "duration": 8,
    "start_time": "2023-08-20T12:40:51.392Z"
   },
   {
    "duration": 25,
    "start_time": "2023-08-20T12:40:51.403Z"
   },
   {
    "duration": 59,
    "start_time": "2023-08-20T12:40:51.430Z"
   },
   {
    "duration": 10,
    "start_time": "2023-08-20T12:40:51.491Z"
   },
   {
    "duration": 18,
    "start_time": "2023-08-20T12:40:51.503Z"
   },
   {
    "duration": 3,
    "start_time": "2023-08-20T12:40:51.523Z"
   },
   {
    "duration": 53,
    "start_time": "2023-08-20T12:40:51.528Z"
   },
   {
    "duration": 7,
    "start_time": "2023-08-20T12:40:51.582Z"
   },
   {
    "duration": 47,
    "start_time": "2023-08-20T12:40:51.590Z"
   },
   {
    "duration": 18,
    "start_time": "2023-08-20T12:40:51.639Z"
   },
   {
    "duration": 6,
    "start_time": "2023-08-20T12:41:37.380Z"
   },
   {
    "duration": 5,
    "start_time": "2023-08-20T12:42:01.282Z"
   },
   {
    "duration": 7,
    "start_time": "2023-08-20T12:42:26.996Z"
   },
   {
    "duration": 13,
    "start_time": "2023-08-20T12:42:59.526Z"
   },
   {
    "duration": 30,
    "start_time": "2023-08-20T12:43:22.153Z"
   },
   {
    "duration": 48,
    "start_time": "2023-08-20T12:43:32.315Z"
   },
   {
    "duration": 32,
    "start_time": "2023-08-20T12:43:49.272Z"
   },
   {
    "duration": 6,
    "start_time": "2023-08-20T12:43:59.143Z"
   },
   {
    "duration": 24,
    "start_time": "2023-08-20T12:44:08.123Z"
   },
   {
    "duration": 28,
    "start_time": "2023-08-20T12:44:22.635Z"
   },
   {
    "duration": 26,
    "start_time": "2023-08-20T12:44:27.361Z"
   },
   {
    "duration": 28,
    "start_time": "2023-08-20T12:44:31.957Z"
   },
   {
    "duration": 7,
    "start_time": "2023-08-20T12:45:33.269Z"
   },
   {
    "duration": 128,
    "start_time": "2023-08-20T12:45:53.871Z"
   },
   {
    "duration": 4,
    "start_time": "2023-08-20T12:46:20.026Z"
   },
   {
    "duration": 7,
    "start_time": "2023-08-20T12:46:30.402Z"
   },
   {
    "duration": 8,
    "start_time": "2023-08-20T12:46:57.977Z"
   },
   {
    "duration": 6,
    "start_time": "2023-08-20T12:47:09.446Z"
   },
   {
    "duration": 6,
    "start_time": "2023-08-20T12:47:23.548Z"
   },
   {
    "duration": 6,
    "start_time": "2023-08-20T12:47:54.241Z"
   },
   {
    "duration": 6,
    "start_time": "2023-08-20T12:48:04.146Z"
   },
   {
    "duration": 6,
    "start_time": "2023-08-20T12:49:19.434Z"
   },
   {
    "duration": 8,
    "start_time": "2023-08-20T12:49:28.797Z"
   },
   {
    "duration": 6,
    "start_time": "2023-08-20T12:49:37.590Z"
   },
   {
    "duration": 6,
    "start_time": "2023-08-20T12:49:49.283Z"
   },
   {
    "duration": 35,
    "start_time": "2023-08-20T12:51:11.804Z"
   },
   {
    "duration": 42,
    "start_time": "2023-08-20T12:51:34.873Z"
   },
   {
    "duration": 28,
    "start_time": "2023-08-20T12:52:00.523Z"
   },
   {
    "duration": 6,
    "start_time": "2023-08-20T12:52:09.253Z"
   },
   {
    "duration": 6,
    "start_time": "2023-08-20T12:52:11.994Z"
   },
   {
    "duration": 24,
    "start_time": "2023-08-20T12:52:31.848Z"
   },
   {
    "duration": 29,
    "start_time": "2023-08-20T12:52:41.338Z"
   },
   {
    "duration": 23,
    "start_time": "2023-08-20T12:52:44.325Z"
   },
   {
    "duration": 6,
    "start_time": "2023-08-20T12:54:19.177Z"
   },
   {
    "duration": 3,
    "start_time": "2023-08-20T12:56:14.198Z"
   },
   {
    "duration": 926,
    "start_time": "2023-08-20T12:56:27.290Z"
   },
   {
    "duration": 290,
    "start_time": "2023-08-20T12:56:28.219Z"
   },
   {
    "duration": 17,
    "start_time": "2023-08-20T12:56:28.511Z"
   },
   {
    "duration": 8,
    "start_time": "2023-08-20T12:56:28.530Z"
   },
   {
    "duration": 9,
    "start_time": "2023-08-20T12:56:28.540Z"
   },
   {
    "duration": 17,
    "start_time": "2023-08-20T12:56:28.551Z"
   },
   {
    "duration": 26,
    "start_time": "2023-08-20T12:56:28.569Z"
   },
   {
    "duration": 30,
    "start_time": "2023-08-20T12:56:28.597Z"
   },
   {
    "duration": 41,
    "start_time": "2023-08-20T12:56:28.629Z"
   },
   {
    "duration": 17,
    "start_time": "2023-08-20T12:56:28.673Z"
   },
   {
    "duration": 12,
    "start_time": "2023-08-20T12:56:28.691Z"
   },
   {
    "duration": 12,
    "start_time": "2023-08-20T12:56:28.704Z"
   },
   {
    "duration": 24,
    "start_time": "2023-08-20T12:56:28.718Z"
   },
   {
    "duration": 6,
    "start_time": "2023-08-20T12:56:28.744Z"
   },
   {
    "duration": 10,
    "start_time": "2023-08-20T12:56:28.752Z"
   },
   {
    "duration": 11,
    "start_time": "2023-08-20T12:56:28.766Z"
   },
   {
    "duration": 4,
    "start_time": "2023-08-20T12:56:28.779Z"
   },
   {
    "duration": 33,
    "start_time": "2023-08-20T12:56:28.785Z"
   },
   {
    "duration": 13,
    "start_time": "2023-08-20T12:56:28.820Z"
   },
   {
    "duration": 33,
    "start_time": "2023-08-20T12:56:28.835Z"
   },
   {
    "duration": 35,
    "start_time": "2023-08-20T12:56:28.869Z"
   },
   {
    "duration": 14,
    "start_time": "2023-08-20T12:56:28.905Z"
   },
   {
    "duration": 368,
    "start_time": "2023-08-20T12:56:28.921Z"
   },
   {
    "duration": 13,
    "start_time": "2023-08-20T12:56:29.292Z"
   },
   {
    "duration": 11,
    "start_time": "2023-08-20T12:56:29.307Z"
   },
   {
    "duration": 21,
    "start_time": "2023-08-20T12:56:29.320Z"
   },
   {
    "duration": 12,
    "start_time": "2023-08-20T12:56:29.366Z"
   },
   {
    "duration": 32,
    "start_time": "2023-08-20T12:56:29.383Z"
   },
   {
    "duration": 13,
    "start_time": "2023-08-20T12:56:29.417Z"
   },
   {
    "duration": 19,
    "start_time": "2023-08-20T12:56:29.432Z"
   },
   {
    "duration": 17,
    "start_time": "2023-08-20T12:56:29.453Z"
   },
   {
    "duration": 15,
    "start_time": "2023-08-20T12:56:29.472Z"
   },
   {
    "duration": 16,
    "start_time": "2023-08-20T12:56:29.489Z"
   },
   {
    "duration": 69,
    "start_time": "2023-08-20T12:56:29.506Z"
   },
   {
    "duration": 21,
    "start_time": "2023-08-20T12:56:29.577Z"
   },
   {
    "duration": 10,
    "start_time": "2023-08-20T12:56:29.601Z"
   },
   {
    "duration": 102,
    "start_time": "2023-08-20T12:56:29.613Z"
   },
   {
    "duration": 9,
    "start_time": "2023-08-20T12:56:29.717Z"
   },
   {
    "duration": 82,
    "start_time": "2023-08-20T12:56:29.728Z"
   },
   {
    "duration": 44,
    "start_time": "2023-08-20T12:56:29.812Z"
   },
   {
    "duration": 18,
    "start_time": "2023-08-20T12:56:29.867Z"
   },
   {
    "duration": 9,
    "start_time": "2023-08-20T12:56:29.887Z"
   },
   {
    "duration": 25,
    "start_time": "2023-08-20T12:56:29.898Z"
   },
   {
    "duration": 3,
    "start_time": "2023-08-20T12:56:29.925Z"
   },
   {
    "duration": 55,
    "start_time": "2023-08-20T12:56:29.929Z"
   },
   {
    "duration": 24,
    "start_time": "2023-08-20T12:56:29.986Z"
   },
   {
    "duration": 65,
    "start_time": "2023-08-20T12:56:30.012Z"
   },
   {
    "duration": 54,
    "start_time": "2023-08-20T12:56:30.079Z"
   },
   {
    "duration": 58,
    "start_time": "2023-08-20T12:56:30.135Z"
   },
   {
    "duration": 45,
    "start_time": "2023-08-20T12:56:30.194Z"
   },
   {
    "duration": 67,
    "start_time": "2023-08-20T12:56:30.241Z"
   },
   {
    "duration": 50,
    "start_time": "2023-08-20T12:56:30.310Z"
   },
   {
    "duration": 61,
    "start_time": "2023-08-20T12:56:30.362Z"
   },
   {
    "duration": 63,
    "start_time": "2023-08-20T12:56:30.425Z"
   },
   {
    "duration": 90,
    "start_time": "2023-08-20T12:56:30.490Z"
   },
   {
    "duration": 73,
    "start_time": "2023-08-20T12:56:30.582Z"
   },
   {
    "duration": 126,
    "start_time": "2023-08-20T12:56:30.657Z"
   },
   {
    "duration": 59,
    "start_time": "2023-08-20T12:56:30.785Z"
   },
   {
    "duration": 47,
    "start_time": "2023-08-20T12:56:30.845Z"
   },
   {
    "duration": 15,
    "start_time": "2023-08-20T12:56:35.994Z"
   },
   {
    "duration": 112,
    "start_time": "2023-08-20T12:57:45.880Z"
   },
   {
    "duration": 50,
    "start_time": "2023-08-20T12:57:51.000Z"
   },
   {
    "duration": 13,
    "start_time": "2023-08-20T12:58:30.529Z"
   },
   {
    "duration": 37,
    "start_time": "2023-08-20T12:59:37.692Z"
   },
   {
    "duration": 4,
    "start_time": "2023-08-20T12:59:53.106Z"
   },
   {
    "duration": 6,
    "start_time": "2023-08-20T13:00:02.376Z"
   },
   {
    "duration": 43,
    "start_time": "2023-08-20T13:00:25.580Z"
   },
   {
    "duration": 29,
    "start_time": "2023-08-20T13:00:28.942Z"
   },
   {
    "duration": 6,
    "start_time": "2023-08-20T13:00:35.536Z"
   },
   {
    "duration": 6,
    "start_time": "2023-08-20T13:01:46.553Z"
   },
   {
    "duration": 7,
    "start_time": "2023-08-20T13:01:48.834Z"
   },
   {
    "duration": 13,
    "start_time": "2023-08-20T13:02:15.786Z"
   },
   {
    "duration": 24,
    "start_time": "2023-08-20T13:02:36.553Z"
   },
   {
    "duration": 24,
    "start_time": "2023-08-20T13:02:42.871Z"
   },
   {
    "duration": 23,
    "start_time": "2023-08-20T13:06:26.049Z"
   },
   {
    "duration": 41,
    "start_time": "2023-08-20T13:06:30.853Z"
   },
   {
    "duration": 6,
    "start_time": "2023-08-20T13:06:33.846Z"
   },
   {
    "duration": 6,
    "start_time": "2023-08-20T13:06:50.985Z"
   },
   {
    "duration": 6,
    "start_time": "2023-08-20T13:06:59.802Z"
   },
   {
    "duration": 6,
    "start_time": "2023-08-20T13:09:29.170Z"
   },
   {
    "duration": 21,
    "start_time": "2023-08-20T13:10:34.446Z"
   },
   {
    "duration": 29,
    "start_time": "2023-08-20T13:10:51.270Z"
   },
   {
    "duration": 6,
    "start_time": "2023-08-20T13:11:28.564Z"
   },
   {
    "duration": 22,
    "start_time": "2023-08-20T13:14:40.764Z"
   },
   {
    "duration": 26,
    "start_time": "2023-08-20T13:14:47.289Z"
   },
   {
    "duration": 31,
    "start_time": "2023-08-20T13:15:42.310Z"
   },
   {
    "duration": 34,
    "start_time": "2023-08-20T13:15:51.768Z"
   },
   {
    "duration": 7,
    "start_time": "2023-08-20T13:15:54.698Z"
   },
   {
    "duration": 27,
    "start_time": "2023-08-20T13:16:57.138Z"
   },
   {
    "duration": 26,
    "start_time": "2023-08-20T13:17:08.858Z"
   },
   {
    "duration": 31,
    "start_time": "2023-08-20T13:17:41.599Z"
   },
   {
    "duration": 32,
    "start_time": "2023-08-20T13:17:54.081Z"
   },
   {
    "duration": 6,
    "start_time": "2023-08-20T13:18:21.791Z"
   },
   {
    "duration": 5,
    "start_time": "2023-08-20T13:18:26.037Z"
   },
   {
    "duration": 25,
    "start_time": "2023-08-20T13:18:48.284Z"
   },
   {
    "duration": 8,
    "start_time": "2023-08-20T13:19:44.339Z"
   },
   {
    "duration": 4,
    "start_time": "2023-08-20T13:19:53.401Z"
   },
   {
    "duration": 3,
    "start_time": "2023-08-20T13:20:09.549Z"
   },
   {
    "duration": 6,
    "start_time": "2023-08-20T13:20:11.853Z"
   },
   {
    "duration": 3,
    "start_time": "2023-08-20T13:20:18.621Z"
   },
   {
    "duration": 4,
    "start_time": "2023-08-20T13:20:28.626Z"
   },
   {
    "duration": 7,
    "start_time": "2023-08-20T13:20:30.816Z"
   },
   {
    "duration": 7,
    "start_time": "2023-08-20T13:21:06.537Z"
   },
   {
    "duration": 35,
    "start_time": "2023-08-20T13:22:12.531Z"
   },
   {
    "duration": 34,
    "start_time": "2023-08-20T13:23:00.020Z"
   },
   {
    "duration": 4,
    "start_time": "2023-08-20T13:23:32.488Z"
   },
   {
    "duration": 5,
    "start_time": "2023-08-20T13:23:48.093Z"
   },
   {
    "duration": 9,
    "start_time": "2023-08-20T13:23:49.864Z"
   },
   {
    "duration": 5,
    "start_time": "2023-08-20T13:23:57.396Z"
   },
   {
    "duration": 17,
    "start_time": "2023-08-20T13:24:02.900Z"
   },
   {
    "duration": 4,
    "start_time": "2023-08-20T13:24:10.093Z"
   },
   {
    "duration": 7,
    "start_time": "2023-08-20T13:24:12.280Z"
   },
   {
    "duration": 5,
    "start_time": "2023-08-20T13:24:22.916Z"
   },
   {
    "duration": 6,
    "start_time": "2023-08-20T13:24:29.485Z"
   },
   {
    "duration": 83,
    "start_time": "2023-08-20T13:24:46.902Z"
   },
   {
    "duration": 81,
    "start_time": "2023-08-20T13:24:50.560Z"
   },
   {
    "duration": 5,
    "start_time": "2023-08-20T13:24:53.772Z"
   },
   {
    "duration": 10,
    "start_time": "2023-08-20T13:26:56.250Z"
   },
   {
    "duration": 7,
    "start_time": "2023-08-20T13:27:19.224Z"
   },
   {
    "duration": 76,
    "start_time": "2023-08-20T13:28:23.952Z"
   },
   {
    "duration": 14,
    "start_time": "2023-08-20T13:28:50.955Z"
   },
   {
    "duration": 8,
    "start_time": "2023-08-20T13:29:13.793Z"
   },
   {
    "duration": 9,
    "start_time": "2023-08-20T13:29:18.696Z"
   },
   {
    "duration": 8,
    "start_time": "2023-08-20T13:29:28.197Z"
   },
   {
    "duration": 3,
    "start_time": "2023-08-20T13:31:40.143Z"
   },
   {
    "duration": 299,
    "start_time": "2023-08-20T13:31:40.149Z"
   },
   {
    "duration": 17,
    "start_time": "2023-08-20T13:31:40.451Z"
   },
   {
    "duration": 15,
    "start_time": "2023-08-20T13:31:40.471Z"
   },
   {
    "duration": 14,
    "start_time": "2023-08-20T13:31:40.489Z"
   },
   {
    "duration": 23,
    "start_time": "2023-08-20T13:31:40.505Z"
   },
   {
    "duration": 35,
    "start_time": "2023-08-20T13:31:40.531Z"
   },
   {
    "duration": 5,
    "start_time": "2023-08-20T13:31:40.569Z"
   },
   {
    "duration": 9,
    "start_time": "2023-08-20T13:31:40.576Z"
   },
   {
    "duration": 20,
    "start_time": "2023-08-20T13:31:40.587Z"
   },
   {
    "duration": 23,
    "start_time": "2023-08-20T13:31:40.610Z"
   },
   {
    "duration": 19,
    "start_time": "2023-08-20T13:31:40.635Z"
   },
   {
    "duration": 22,
    "start_time": "2023-08-20T13:31:40.656Z"
   },
   {
    "duration": 9,
    "start_time": "2023-08-20T13:31:40.681Z"
   },
   {
    "duration": 32,
    "start_time": "2023-08-20T13:31:40.692Z"
   },
   {
    "duration": 11,
    "start_time": "2023-08-20T13:31:40.726Z"
   },
   {
    "duration": 4,
    "start_time": "2023-08-20T13:31:40.739Z"
   },
   {
    "duration": 55,
    "start_time": "2023-08-20T13:31:40.744Z"
   },
   {
    "duration": 11,
    "start_time": "2023-08-20T13:31:40.801Z"
   },
   {
    "duration": 12,
    "start_time": "2023-08-20T13:31:40.814Z"
   },
   {
    "duration": 88,
    "start_time": "2023-08-20T13:31:40.829Z"
   },
   {
    "duration": 26,
    "start_time": "2023-08-20T13:31:40.919Z"
   },
   {
    "duration": 50,
    "start_time": "2023-08-20T13:31:40.948Z"
   },
   {
    "duration": 19,
    "start_time": "2023-08-20T13:31:41.000Z"
   },
   {
    "duration": 38,
    "start_time": "2023-08-20T13:31:41.022Z"
   },
   {
    "duration": 43,
    "start_time": "2023-08-20T13:31:41.063Z"
   },
   {
    "duration": 12,
    "start_time": "2023-08-20T13:31:41.108Z"
   },
   {
    "duration": 62,
    "start_time": "2023-08-20T13:31:41.122Z"
   },
   {
    "duration": 10,
    "start_time": "2023-08-20T13:31:41.189Z"
   },
   {
    "duration": 17,
    "start_time": "2023-08-20T13:31:41.201Z"
   },
   {
    "duration": 13,
    "start_time": "2023-08-20T13:31:41.221Z"
   },
   {
    "duration": 21,
    "start_time": "2023-08-20T13:31:41.266Z"
   },
   {
    "duration": 33,
    "start_time": "2023-08-20T13:31:41.289Z"
   },
   {
    "duration": 73,
    "start_time": "2023-08-20T13:31:41.324Z"
   },
   {
    "duration": 25,
    "start_time": "2023-08-20T13:31:41.399Z"
   },
   {
    "duration": 11,
    "start_time": "2023-08-20T13:31:41.426Z"
   },
   {
    "duration": 98,
    "start_time": "2023-08-20T13:31:41.439Z"
   },
   {
    "duration": 12,
    "start_time": "2023-08-20T13:31:41.538Z"
   },
   {
    "duration": 81,
    "start_time": "2023-08-20T13:31:41.568Z"
   },
   {
    "duration": 44,
    "start_time": "2023-08-20T13:31:41.651Z"
   },
   {
    "duration": 107,
    "start_time": "2023-08-20T13:31:41.697Z"
   },
   {
    "duration": 38,
    "start_time": "2023-08-20T13:31:41.806Z"
   },
   {
    "duration": 39,
    "start_time": "2023-08-20T13:31:41.847Z"
   },
   {
    "duration": 16,
    "start_time": "2023-08-20T13:31:41.889Z"
   },
   {
    "duration": 42,
    "start_time": "2023-08-20T13:31:41.908Z"
   },
   {
    "duration": 39,
    "start_time": "2023-08-20T13:31:41.952Z"
   },
   {
    "duration": 18,
    "start_time": "2023-08-20T13:31:41.993Z"
   },
   {
    "duration": 23,
    "start_time": "2023-08-20T13:31:42.014Z"
   },
   {
    "duration": 13,
    "start_time": "2023-08-20T13:31:42.039Z"
   },
   {
    "duration": 14,
    "start_time": "2023-08-20T13:31:42.054Z"
   },
   {
    "duration": 51,
    "start_time": "2023-08-20T13:31:42.070Z"
   },
   {
    "duration": 25,
    "start_time": "2023-08-20T13:31:42.122Z"
   },
   {
    "duration": 21,
    "start_time": "2023-08-20T13:31:42.149Z"
   },
   {
    "duration": 7,
    "start_time": "2023-08-20T13:31:42.173Z"
   },
   {
    "duration": 5,
    "start_time": "2023-08-20T13:31:42.182Z"
   },
   {
    "duration": 56,
    "start_time": "2023-08-20T13:31:42.188Z"
   },
   {
    "duration": 43,
    "start_time": "2023-08-20T13:31:42.247Z"
   },
   {
    "duration": 6,
    "start_time": "2023-08-20T13:31:42.292Z"
   },
   {
    "duration": 17,
    "start_time": "2023-08-20T13:31:42.300Z"
   },
   {
    "duration": 20,
    "start_time": "2023-08-20T13:31:42.320Z"
   },
   {
    "duration": 27,
    "start_time": "2023-08-20T13:31:42.342Z"
   },
   {
    "duration": 13,
    "start_time": "2023-08-20T13:31:42.371Z"
   },
   {
    "duration": 15,
    "start_time": "2023-08-20T13:32:02.657Z"
   },
   {
    "duration": 9,
    "start_time": "2023-08-20T13:32:18.144Z"
   },
   {
    "duration": 26,
    "start_time": "2023-08-20T13:32:38.754Z"
   },
   {
    "duration": 8,
    "start_time": "2023-08-20T13:33:17.131Z"
   },
   {
    "duration": 17,
    "start_time": "2023-08-20T13:33:21.689Z"
   },
   {
    "duration": 23,
    "start_time": "2023-08-20T13:33:45.760Z"
   },
   {
    "duration": 29,
    "start_time": "2023-08-20T13:34:11.785Z"
   },
   {
    "duration": 22,
    "start_time": "2023-08-20T13:34:33.033Z"
   },
   {
    "duration": 31,
    "start_time": "2023-08-20T13:34:54.582Z"
   },
   {
    "duration": 29,
    "start_time": "2023-08-20T13:37:03.569Z"
   },
   {
    "duration": 6,
    "start_time": "2023-08-20T14:14:40.518Z"
   },
   {
    "duration": 6,
    "start_time": "2023-08-20T14:26:00.836Z"
   },
   {
    "duration": 6,
    "start_time": "2023-08-20T14:26:19.265Z"
   },
   {
    "duration": 5,
    "start_time": "2023-08-20T14:26:38.892Z"
   },
   {
    "duration": 6,
    "start_time": "2023-08-20T14:26:43.018Z"
   },
   {
    "duration": 3,
    "start_time": "2023-08-20T14:29:34.766Z"
   },
   {
    "duration": 305,
    "start_time": "2023-08-20T14:29:34.772Z"
   },
   {
    "duration": 9,
    "start_time": "2023-08-20T14:29:35.079Z"
   },
   {
    "duration": 35,
    "start_time": "2023-08-20T14:29:35.090Z"
   },
   {
    "duration": 31,
    "start_time": "2023-08-20T14:29:35.127Z"
   },
   {
    "duration": 15,
    "start_time": "2023-08-20T14:29:35.160Z"
   },
   {
    "duration": 60,
    "start_time": "2023-08-20T14:29:35.177Z"
   },
   {
    "duration": 10,
    "start_time": "2023-08-20T14:29:35.239Z"
   },
   {
    "duration": 15,
    "start_time": "2023-08-20T14:29:35.251Z"
   },
   {
    "duration": 17,
    "start_time": "2023-08-20T14:29:35.268Z"
   },
   {
    "duration": 15,
    "start_time": "2023-08-20T14:29:35.289Z"
   },
   {
    "duration": 34,
    "start_time": "2023-08-20T14:29:35.306Z"
   },
   {
    "duration": 18,
    "start_time": "2023-08-20T14:29:35.342Z"
   },
   {
    "duration": 26,
    "start_time": "2023-08-20T14:29:35.362Z"
   },
   {
    "duration": 33,
    "start_time": "2023-08-20T14:29:35.390Z"
   },
   {
    "duration": 35,
    "start_time": "2023-08-20T14:29:35.424Z"
   },
   {
    "duration": 31,
    "start_time": "2023-08-20T14:29:35.461Z"
   },
   {
    "duration": 46,
    "start_time": "2023-08-20T14:29:35.494Z"
   },
   {
    "duration": 11,
    "start_time": "2023-08-20T14:29:35.541Z"
   },
   {
    "duration": 13,
    "start_time": "2023-08-20T14:29:35.554Z"
   },
   {
    "duration": 37,
    "start_time": "2023-08-20T14:29:35.568Z"
   },
   {
    "duration": 24,
    "start_time": "2023-08-20T14:29:35.607Z"
   },
   {
    "duration": 46,
    "start_time": "2023-08-20T14:29:35.633Z"
   },
   {
    "duration": 12,
    "start_time": "2023-08-20T14:29:35.681Z"
   },
   {
    "duration": 11,
    "start_time": "2023-08-20T14:29:35.694Z"
   },
   {
    "duration": 24,
    "start_time": "2023-08-20T14:29:35.707Z"
   },
   {
    "duration": 9,
    "start_time": "2023-08-20T14:29:35.733Z"
   },
   {
    "duration": 53,
    "start_time": "2023-08-20T14:29:35.744Z"
   },
   {
    "duration": 9,
    "start_time": "2023-08-20T14:29:35.803Z"
   },
   {
    "duration": 28,
    "start_time": "2023-08-20T14:29:35.813Z"
   },
   {
    "duration": 37,
    "start_time": "2023-08-20T14:29:35.843Z"
   },
   {
    "duration": 23,
    "start_time": "2023-08-20T14:29:35.881Z"
   },
   {
    "duration": 21,
    "start_time": "2023-08-20T14:29:35.906Z"
   },
   {
    "duration": 52,
    "start_time": "2023-08-20T14:29:35.929Z"
   },
   {
    "duration": 23,
    "start_time": "2023-08-20T14:29:35.982Z"
   },
   {
    "duration": 13,
    "start_time": "2023-08-20T14:29:36.007Z"
   },
   {
    "duration": 99,
    "start_time": "2023-08-20T14:29:36.022Z"
   },
   {
    "duration": 10,
    "start_time": "2023-08-20T14:29:36.123Z"
   },
   {
    "duration": 67,
    "start_time": "2023-08-20T14:29:36.135Z"
   },
   {
    "duration": 35,
    "start_time": "2023-08-20T14:29:36.203Z"
   },
   {
    "duration": 33,
    "start_time": "2023-08-20T14:29:36.241Z"
   },
   {
    "duration": 10,
    "start_time": "2023-08-20T14:29:36.276Z"
   },
   {
    "duration": 25,
    "start_time": "2023-08-20T14:29:36.288Z"
   },
   {
    "duration": 3,
    "start_time": "2023-08-20T14:29:36.316Z"
   },
   {
    "duration": 49,
    "start_time": "2023-08-20T14:29:36.320Z"
   },
   {
    "duration": 19,
    "start_time": "2023-08-20T14:29:36.371Z"
   },
   {
    "duration": 63,
    "start_time": "2023-08-20T14:29:36.392Z"
   },
   {
    "duration": 9,
    "start_time": "2023-08-20T14:29:36.457Z"
   },
   {
    "duration": 9,
    "start_time": "2023-08-20T14:29:36.467Z"
   },
   {
    "duration": 6,
    "start_time": "2023-08-20T14:29:36.478Z"
   },
   {
    "duration": 33,
    "start_time": "2023-08-20T14:29:36.485Z"
   },
   {
    "duration": 27,
    "start_time": "2023-08-20T14:29:36.520Z"
   },
   {
    "duration": 21,
    "start_time": "2023-08-20T14:29:36.549Z"
   },
   {
    "duration": 7,
    "start_time": "2023-08-20T14:29:36.572Z"
   },
   {
    "duration": 3,
    "start_time": "2023-08-20T14:29:36.580Z"
   },
   {
    "duration": 42,
    "start_time": "2023-08-20T14:29:36.584Z"
   },
   {
    "duration": 42,
    "start_time": "2023-08-20T14:29:36.628Z"
   },
   {
    "duration": 5,
    "start_time": "2023-08-20T14:29:36.672Z"
   },
   {
    "duration": 8,
    "start_time": "2023-08-20T14:29:36.679Z"
   },
   {
    "duration": 23,
    "start_time": "2023-08-20T14:29:36.689Z"
   },
   {
    "duration": 911,
    "start_time": "2023-08-20T14:29:42.795Z"
   },
   {
    "duration": 294,
    "start_time": "2023-08-20T14:29:43.709Z"
   },
   {
    "duration": 19,
    "start_time": "2023-08-20T14:29:44.006Z"
   },
   {
    "duration": 24,
    "start_time": "2023-08-20T14:29:44.028Z"
   },
   {
    "duration": 20,
    "start_time": "2023-08-20T14:29:44.054Z"
   },
   {
    "duration": 41,
    "start_time": "2023-08-20T14:29:44.076Z"
   },
   {
    "duration": 16,
    "start_time": "2023-08-20T14:29:44.119Z"
   },
   {
    "duration": 8,
    "start_time": "2023-08-20T14:29:44.137Z"
   },
   {
    "duration": 9,
    "start_time": "2023-08-20T14:29:44.146Z"
   },
   {
    "duration": 14,
    "start_time": "2023-08-20T14:29:44.159Z"
   },
   {
    "duration": 10,
    "start_time": "2023-08-20T14:29:44.175Z"
   },
   {
    "duration": 14,
    "start_time": "2023-08-20T14:29:44.187Z"
   },
   {
    "duration": 12,
    "start_time": "2023-08-20T14:29:44.203Z"
   },
   {
    "duration": 8,
    "start_time": "2023-08-20T14:29:44.217Z"
   },
   {
    "duration": 8,
    "start_time": "2023-08-20T14:29:44.227Z"
   },
   {
    "duration": 10,
    "start_time": "2023-08-20T14:29:44.237Z"
   },
   {
    "duration": 22,
    "start_time": "2023-08-20T14:29:44.248Z"
   },
   {
    "duration": 34,
    "start_time": "2023-08-20T14:29:44.272Z"
   },
   {
    "duration": 10,
    "start_time": "2023-08-20T14:29:44.308Z"
   },
   {
    "duration": 11,
    "start_time": "2023-08-20T14:29:44.320Z"
   },
   {
    "duration": 57,
    "start_time": "2023-08-20T14:29:44.333Z"
   },
   {
    "duration": 24,
    "start_time": "2023-08-20T14:29:44.392Z"
   },
   {
    "duration": 351,
    "start_time": "2023-08-20T14:29:44.418Z"
   },
   {
    "duration": 13,
    "start_time": "2023-08-20T14:29:44.771Z"
   },
   {
    "duration": 17,
    "start_time": "2023-08-20T14:29:44.786Z"
   },
   {
    "duration": 26,
    "start_time": "2023-08-20T14:29:44.805Z"
   },
   {
    "duration": 36,
    "start_time": "2023-08-20T14:29:44.833Z"
   },
   {
    "duration": 25,
    "start_time": "2023-08-20T14:29:44.874Z"
   },
   {
    "duration": 8,
    "start_time": "2023-08-20T14:29:44.901Z"
   },
   {
    "duration": 14,
    "start_time": "2023-08-20T14:29:44.911Z"
   },
   {
    "duration": 42,
    "start_time": "2023-08-20T14:29:44.926Z"
   },
   {
    "duration": 16,
    "start_time": "2023-08-20T14:29:44.970Z"
   },
   {
    "duration": 18,
    "start_time": "2023-08-20T14:29:44.987Z"
   },
   {
    "duration": 103,
    "start_time": "2023-08-20T14:29:45.007Z"
   },
   {
    "duration": 25,
    "start_time": "2023-08-20T14:29:45.112Z"
   },
   {
    "duration": 26,
    "start_time": "2023-08-20T14:29:45.139Z"
   },
   {
    "duration": 90,
    "start_time": "2023-08-20T14:29:45.167Z"
   },
   {
    "duration": 17,
    "start_time": "2023-08-20T14:29:45.259Z"
   },
   {
    "duration": 96,
    "start_time": "2023-08-20T14:29:45.279Z"
   },
   {
    "duration": 44,
    "start_time": "2023-08-20T14:29:45.377Z"
   },
   {
    "duration": 18,
    "start_time": "2023-08-20T14:29:45.423Z"
   },
   {
    "duration": 33,
    "start_time": "2023-08-20T14:29:45.443Z"
   },
   {
    "duration": 18,
    "start_time": "2023-08-20T14:29:45.478Z"
   },
   {
    "duration": 2,
    "start_time": "2023-08-20T14:29:45.498Z"
   },
   {
    "duration": 26,
    "start_time": "2023-08-20T14:29:45.501Z"
   },
   {
    "duration": 40,
    "start_time": "2023-08-20T14:29:45.528Z"
   },
   {
    "duration": 13,
    "start_time": "2023-08-20T14:29:45.570Z"
   },
   {
    "duration": 15,
    "start_time": "2023-08-20T14:29:45.585Z"
   },
   {
    "duration": 12,
    "start_time": "2023-08-20T14:29:45.602Z"
   },
   {
    "duration": 7,
    "start_time": "2023-08-20T14:29:45.616Z"
   },
   {
    "duration": 49,
    "start_time": "2023-08-20T14:29:45.625Z"
   },
   {
    "duration": 25,
    "start_time": "2023-08-20T14:29:45.676Z"
   },
   {
    "duration": 6,
    "start_time": "2023-08-20T14:29:45.703Z"
   },
   {
    "duration": 10,
    "start_time": "2023-08-20T14:29:45.710Z"
   },
   {
    "duration": 3,
    "start_time": "2023-08-20T14:29:45.721Z"
   },
   {
    "duration": 60,
    "start_time": "2023-08-20T14:29:45.725Z"
   },
   {
    "duration": 24,
    "start_time": "2023-08-20T14:29:45.786Z"
   },
   {
    "duration": 6,
    "start_time": "2023-08-20T14:29:45.812Z"
   },
   {
    "duration": 8,
    "start_time": "2023-08-20T14:29:45.819Z"
   },
   {
    "duration": 48,
    "start_time": "2023-08-20T14:29:45.829Z"
   },
   {
    "duration": 14,
    "start_time": "2023-08-20T14:29:57.614Z"
   },
   {
    "duration": 7,
    "start_time": "2023-08-20T14:31:13.253Z"
   },
   {
    "duration": 6,
    "start_time": "2023-08-20T14:32:52.249Z"
   },
   {
    "duration": 7,
    "start_time": "2023-08-20T14:33:14.446Z"
   },
   {
    "duration": 6,
    "start_time": "2023-08-20T14:33:32.908Z"
   },
   {
    "duration": 52,
    "start_time": "2023-08-20T14:33:59.147Z"
   },
   {
    "duration": 63,
    "start_time": "2023-08-20T14:34:17.420Z"
   },
   {
    "duration": 47,
    "start_time": "2023-08-20T14:34:46.245Z"
   },
   {
    "duration": 53,
    "start_time": "2023-08-20T14:35:08.995Z"
   },
   {
    "duration": 11,
    "start_time": "2023-08-20T14:37:08.285Z"
   },
   {
    "duration": 7,
    "start_time": "2023-08-20T14:39:06.686Z"
   },
   {
    "duration": 7,
    "start_time": "2023-08-20T14:39:16.906Z"
   },
   {
    "duration": 28,
    "start_time": "2023-08-20T14:39:49.762Z"
   },
   {
    "duration": 39,
    "start_time": "2023-08-20T14:39:53.811Z"
   },
   {
    "duration": 30,
    "start_time": "2023-08-20T14:40:03.126Z"
   },
   {
    "duration": 8,
    "start_time": "2023-08-20T14:40:06.027Z"
   },
   {
    "duration": 6,
    "start_time": "2023-08-20T14:40:07.665Z"
   },
   {
    "duration": 66,
    "start_time": "2023-08-20T14:40:42.170Z"
   },
   {
    "duration": 11,
    "start_time": "2023-08-20T14:40:49.762Z"
   },
   {
    "duration": 7,
    "start_time": "2023-08-20T14:40:57.745Z"
   },
   {
    "duration": 78,
    "start_time": "2023-08-20T14:41:05.369Z"
   },
   {
    "duration": 6,
    "start_time": "2023-08-20T14:41:08.911Z"
   },
   {
    "duration": 6,
    "start_time": "2023-08-20T14:41:13.553Z"
   },
   {
    "duration": 38,
    "start_time": "2023-08-20T14:41:34.872Z"
   },
   {
    "duration": 44,
    "start_time": "2023-08-20T14:41:42.306Z"
   },
   {
    "duration": 35,
    "start_time": "2023-08-20T14:41:44.805Z"
   },
   {
    "duration": 6,
    "start_time": "2023-08-20T14:41:47.111Z"
   },
   {
    "duration": 932,
    "start_time": "2023-08-20T14:41:58.090Z"
   },
   {
    "duration": 292,
    "start_time": "2023-08-20T14:41:59.024Z"
   },
   {
    "duration": 15,
    "start_time": "2023-08-20T14:41:59.318Z"
   },
   {
    "duration": 16,
    "start_time": "2023-08-20T14:41:59.335Z"
   },
   {
    "duration": 9,
    "start_time": "2023-08-20T14:41:59.353Z"
   },
   {
    "duration": 24,
    "start_time": "2023-08-20T14:41:59.366Z"
   },
   {
    "duration": 15,
    "start_time": "2023-08-20T14:41:59.392Z"
   },
   {
    "duration": 7,
    "start_time": "2023-08-20T14:41:59.409Z"
   },
   {
    "duration": 11,
    "start_time": "2023-08-20T14:41:59.418Z"
   },
   {
    "duration": 7,
    "start_time": "2023-08-20T14:41:59.430Z"
   },
   {
    "duration": 9,
    "start_time": "2023-08-20T14:41:59.439Z"
   },
   {
    "duration": 41,
    "start_time": "2023-08-20T14:41:59.449Z"
   },
   {
    "duration": 10,
    "start_time": "2023-08-20T14:41:59.492Z"
   },
   {
    "duration": 5,
    "start_time": "2023-08-20T14:41:59.506Z"
   },
   {
    "duration": 11,
    "start_time": "2023-08-20T14:41:59.513Z"
   },
   {
    "duration": 11,
    "start_time": "2023-08-20T14:41:59.525Z"
   },
   {
    "duration": 19,
    "start_time": "2023-08-20T14:41:59.538Z"
   },
   {
    "duration": 58,
    "start_time": "2023-08-20T14:41:59.568Z"
   },
   {
    "duration": 17,
    "start_time": "2023-08-20T14:41:59.628Z"
   },
   {
    "duration": 15,
    "start_time": "2023-08-20T14:41:59.646Z"
   },
   {
    "duration": 54,
    "start_time": "2023-08-20T14:41:59.662Z"
   },
   {
    "duration": 21,
    "start_time": "2023-08-20T14:41:59.718Z"
   },
   {
    "duration": 394,
    "start_time": "2023-08-20T14:41:59.741Z"
   },
   {
    "duration": 19,
    "start_time": "2023-08-20T14:42:00.137Z"
   },
   {
    "duration": 51,
    "start_time": "2023-08-20T14:42:00.167Z"
   },
   {
    "duration": 70,
    "start_time": "2023-08-20T14:42:00.220Z"
   },
   {
    "duration": 71,
    "start_time": "2023-08-20T14:42:00.292Z"
   },
   {
    "duration": 96,
    "start_time": "2023-08-20T14:42:00.365Z"
   },
   {
    "duration": 14,
    "start_time": "2023-08-20T14:42:00.463Z"
   },
   {
    "duration": 93,
    "start_time": "2023-08-20T14:42:00.479Z"
   },
   {
    "duration": 76,
    "start_time": "2023-08-20T14:42:00.584Z"
   },
   {
    "duration": 98,
    "start_time": "2023-08-20T14:42:00.662Z"
   },
   {
    "duration": 95,
    "start_time": "2023-08-20T14:42:00.762Z"
   },
   {
    "duration": 116,
    "start_time": "2023-08-20T14:42:00.858Z"
   },
   {
    "duration": 44,
    "start_time": "2023-08-20T14:42:00.977Z"
   },
   {
    "duration": 56,
    "start_time": "2023-08-20T14:42:01.023Z"
   },
   {
    "duration": 114,
    "start_time": "2023-08-20T14:42:01.088Z"
   },
   {
    "duration": 12,
    "start_time": "2023-08-20T14:42:01.205Z"
   },
   {
    "duration": 142,
    "start_time": "2023-08-20T14:42:01.219Z"
   },
   {
    "duration": 65,
    "start_time": "2023-08-20T14:42:01.363Z"
   },
   {
    "duration": 28,
    "start_time": "2023-08-20T14:42:01.433Z"
   },
   {
    "duration": 56,
    "start_time": "2023-08-20T14:42:01.463Z"
   },
   {
    "duration": 80,
    "start_time": "2023-08-20T14:42:01.521Z"
   },
   {
    "duration": 18,
    "start_time": "2023-08-20T14:42:01.603Z"
   },
   {
    "duration": 89,
    "start_time": "2023-08-20T14:42:01.623Z"
   },
   {
    "duration": 39,
    "start_time": "2023-08-20T14:42:01.714Z"
   },
   {
    "duration": 57,
    "start_time": "2023-08-20T14:42:01.755Z"
   },
   {
    "duration": 128,
    "start_time": "2023-08-20T14:42:01.814Z"
   },
   {
    "duration": 164,
    "start_time": "2023-08-20T14:42:01.944Z"
   },
   {
    "duration": 37,
    "start_time": "2023-08-20T14:42:02.110Z"
   },
   {
    "duration": 143,
    "start_time": "2023-08-20T14:42:02.148Z"
   },
   {
    "duration": 33,
    "start_time": "2023-08-20T14:42:02.297Z"
   },
   {
    "duration": 24,
    "start_time": "2023-08-20T14:42:02.332Z"
   },
   {
    "duration": 40,
    "start_time": "2023-08-20T14:42:02.358Z"
   },
   {
    "duration": 107,
    "start_time": "2023-08-20T14:42:02.401Z"
   },
   {
    "duration": 42,
    "start_time": "2023-08-20T14:42:02.510Z"
   },
   {
    "duration": 46,
    "start_time": "2023-08-20T14:42:02.554Z"
   },
   {
    "duration": 6,
    "start_time": "2023-08-20T14:42:02.602Z"
   },
   {
    "duration": 42,
    "start_time": "2023-08-20T14:42:02.610Z"
   },
   {
    "duration": 45,
    "start_time": "2023-08-20T14:42:02.653Z"
   },
   {
    "duration": 9,
    "start_time": "2023-08-20T14:42:13.284Z"
   },
   {
    "duration": 16,
    "start_time": "2023-08-20T14:42:42.730Z"
   },
   {
    "duration": 23,
    "start_time": "2023-08-20T14:42:52.026Z"
   },
   {
    "duration": 5,
    "start_time": "2023-08-20T14:42:57.185Z"
   },
   {
    "duration": 7,
    "start_time": "2023-08-20T14:42:59.747Z"
   },
   {
    "duration": 4,
    "start_time": "2023-08-20T14:43:04.302Z"
   },
   {
    "duration": 29,
    "start_time": "2023-08-20T14:43:10.112Z"
   },
   {
    "duration": 7,
    "start_time": "2023-08-20T14:43:12.690Z"
   },
   {
    "duration": 954,
    "start_time": "2023-08-20T14:43:21.776Z"
   },
   {
    "duration": 310,
    "start_time": "2023-08-20T14:43:22.733Z"
   },
   {
    "duration": 16,
    "start_time": "2023-08-20T14:43:23.045Z"
   },
   {
    "duration": 27,
    "start_time": "2023-08-20T14:43:23.063Z"
   },
   {
    "duration": 14,
    "start_time": "2023-08-20T14:43:23.091Z"
   },
   {
    "duration": 16,
    "start_time": "2023-08-20T14:43:23.107Z"
   },
   {
    "duration": 27,
    "start_time": "2023-08-20T14:43:23.125Z"
   },
   {
    "duration": 34,
    "start_time": "2023-08-20T14:43:23.154Z"
   },
   {
    "duration": 7,
    "start_time": "2023-08-20T14:43:23.190Z"
   },
   {
    "duration": 17,
    "start_time": "2023-08-20T14:43:23.200Z"
   },
   {
    "duration": 13,
    "start_time": "2023-08-20T14:43:23.219Z"
   },
   {
    "duration": 26,
    "start_time": "2023-08-20T14:43:23.234Z"
   },
   {
    "duration": 27,
    "start_time": "2023-08-20T14:43:23.262Z"
   },
   {
    "duration": 18,
    "start_time": "2023-08-20T14:43:23.291Z"
   },
   {
    "duration": 8,
    "start_time": "2023-08-20T14:43:23.311Z"
   },
   {
    "duration": 24,
    "start_time": "2023-08-20T14:43:23.321Z"
   },
   {
    "duration": 15,
    "start_time": "2023-08-20T14:43:23.347Z"
   },
   {
    "duration": 56,
    "start_time": "2023-08-20T14:43:23.364Z"
   },
   {
    "duration": 14,
    "start_time": "2023-08-20T14:43:23.422Z"
   },
   {
    "duration": 48,
    "start_time": "2023-08-20T14:43:23.438Z"
   },
   {
    "duration": 67,
    "start_time": "2023-08-20T14:43:23.489Z"
   },
   {
    "duration": 41,
    "start_time": "2023-08-20T14:43:23.557Z"
   },
   {
    "duration": 400,
    "start_time": "2023-08-20T14:43:23.600Z"
   },
   {
    "duration": 17,
    "start_time": "2023-08-20T14:43:24.003Z"
   },
   {
    "duration": 15,
    "start_time": "2023-08-20T14:43:24.022Z"
   },
   {
    "duration": 55,
    "start_time": "2023-08-20T14:43:24.040Z"
   },
   {
    "duration": 19,
    "start_time": "2023-08-20T14:43:24.098Z"
   },
   {
    "duration": 38,
    "start_time": "2023-08-20T14:43:24.122Z"
   },
   {
    "duration": 21,
    "start_time": "2023-08-20T14:43:24.163Z"
   },
   {
    "duration": 33,
    "start_time": "2023-08-20T14:43:24.186Z"
   },
   {
    "duration": 41,
    "start_time": "2023-08-20T14:43:24.221Z"
   },
   {
    "duration": 39,
    "start_time": "2023-08-20T14:43:24.266Z"
   },
   {
    "duration": 24,
    "start_time": "2023-08-20T14:43:24.307Z"
   },
   {
    "duration": 78,
    "start_time": "2023-08-20T14:43:24.333Z"
   },
   {
    "duration": 25,
    "start_time": "2023-08-20T14:43:24.413Z"
   },
   {
    "duration": 40,
    "start_time": "2023-08-20T14:43:24.440Z"
   },
   {
    "duration": 94,
    "start_time": "2023-08-20T14:43:24.481Z"
   },
   {
    "duration": 14,
    "start_time": "2023-08-20T14:43:24.576Z"
   },
   {
    "duration": 94,
    "start_time": "2023-08-20T14:43:24.593Z"
   },
   {
    "duration": 47,
    "start_time": "2023-08-20T14:43:24.690Z"
   },
   {
    "duration": 33,
    "start_time": "2023-08-20T14:43:24.739Z"
   },
   {
    "duration": 20,
    "start_time": "2023-08-20T14:43:24.776Z"
   },
   {
    "duration": 23,
    "start_time": "2023-08-20T14:43:24.798Z"
   },
   {
    "duration": 5,
    "start_time": "2023-08-20T14:43:24.823Z"
   },
   {
    "duration": 53,
    "start_time": "2023-08-20T14:43:24.830Z"
   },
   {
    "duration": 29,
    "start_time": "2023-08-20T14:43:24.887Z"
   },
   {
    "duration": 14,
    "start_time": "2023-08-20T14:43:24.917Z"
   },
   {
    "duration": 17,
    "start_time": "2023-08-20T14:43:24.933Z"
   },
   {
    "duration": 38,
    "start_time": "2023-08-20T14:43:24.952Z"
   },
   {
    "duration": 15,
    "start_time": "2023-08-20T14:43:24.993Z"
   },
   {
    "duration": 56,
    "start_time": "2023-08-20T14:43:25.011Z"
   },
   {
    "duration": 31,
    "start_time": "2023-08-20T14:43:25.070Z"
   },
   {
    "duration": 6,
    "start_time": "2023-08-20T14:43:25.103Z"
   },
   {
    "duration": 16,
    "start_time": "2023-08-20T14:43:25.111Z"
   },
   {
    "duration": 93,
    "start_time": "2023-08-20T14:43:25.129Z"
   },
   {
    "duration": 54,
    "start_time": "2023-08-20T14:43:25.225Z"
   },
   {
    "duration": 26,
    "start_time": "2023-08-20T14:43:25.282Z"
   },
   {
    "duration": 5,
    "start_time": "2023-08-20T14:43:25.310Z"
   },
   {
    "duration": 10,
    "start_time": "2023-08-20T14:43:25.317Z"
   },
   {
    "duration": 45,
    "start_time": "2023-08-20T14:43:25.329Z"
   },
   {
    "duration": 6,
    "start_time": "2023-08-20T14:43:36.530Z"
   },
   {
    "duration": 6,
    "start_time": "2023-08-20T14:43:43.111Z"
   },
   {
    "duration": 22,
    "start_time": "2023-08-20T14:44:00.023Z"
   },
   {
    "duration": 32,
    "start_time": "2023-08-20T14:44:09.306Z"
   },
   {
    "duration": 10,
    "start_time": "2023-08-20T14:44:12.654Z"
   },
   {
    "duration": 991,
    "start_time": "2023-08-20T14:44:22.692Z"
   },
   {
    "duration": 339,
    "start_time": "2023-08-20T14:44:23.686Z"
   },
   {
    "duration": 24,
    "start_time": "2023-08-20T14:44:24.027Z"
   },
   {
    "duration": 26,
    "start_time": "2023-08-20T14:44:24.054Z"
   },
   {
    "duration": 41,
    "start_time": "2023-08-20T14:44:24.083Z"
   },
   {
    "duration": 10,
    "start_time": "2023-08-20T14:44:24.126Z"
   },
   {
    "duration": 22,
    "start_time": "2023-08-20T14:44:24.138Z"
   },
   {
    "duration": 7,
    "start_time": "2023-08-20T14:44:24.162Z"
   },
   {
    "duration": 22,
    "start_time": "2023-08-20T14:44:24.173Z"
   },
   {
    "duration": 17,
    "start_time": "2023-08-20T14:44:24.200Z"
   },
   {
    "duration": 13,
    "start_time": "2023-08-20T14:44:24.219Z"
   },
   {
    "duration": 24,
    "start_time": "2023-08-20T14:44:24.234Z"
   },
   {
    "duration": 22,
    "start_time": "2023-08-20T14:44:24.260Z"
   },
   {
    "duration": 10,
    "start_time": "2023-08-20T14:44:24.283Z"
   },
   {
    "duration": 8,
    "start_time": "2023-08-20T14:44:24.295Z"
   },
   {
    "duration": 12,
    "start_time": "2023-08-20T14:44:24.306Z"
   },
   {
    "duration": 3,
    "start_time": "2023-08-20T14:44:24.321Z"
   },
   {
    "duration": 72,
    "start_time": "2023-08-20T14:44:24.326Z"
   },
   {
    "duration": 16,
    "start_time": "2023-08-20T14:44:24.401Z"
   },
   {
    "duration": 12,
    "start_time": "2023-08-20T14:44:24.419Z"
   },
   {
    "duration": 62,
    "start_time": "2023-08-20T14:44:24.433Z"
   },
   {
    "duration": 14,
    "start_time": "2023-08-20T14:44:24.497Z"
   },
   {
    "duration": 400,
    "start_time": "2023-08-20T14:44:24.514Z"
   },
   {
    "duration": 17,
    "start_time": "2023-08-20T14:44:24.916Z"
   },
   {
    "duration": 13,
    "start_time": "2023-08-20T14:44:24.934Z"
   },
   {
    "duration": 25,
    "start_time": "2023-08-20T14:44:24.967Z"
   },
   {
    "duration": 11,
    "start_time": "2023-08-20T14:44:24.993Z"
   },
   {
    "duration": 25,
    "start_time": "2023-08-20T14:44:25.008Z"
   },
   {
    "duration": 36,
    "start_time": "2023-08-20T14:44:25.035Z"
   },
   {
    "duration": 23,
    "start_time": "2023-08-20T14:44:25.073Z"
   },
   {
    "duration": 16,
    "start_time": "2023-08-20T14:44:25.098Z"
   },
   {
    "duration": 23,
    "start_time": "2023-08-20T14:44:25.115Z"
   },
   {
    "duration": 43,
    "start_time": "2023-08-20T14:44:25.140Z"
   },
   {
    "duration": 67,
    "start_time": "2023-08-20T14:44:25.185Z"
   },
   {
    "duration": 40,
    "start_time": "2023-08-20T14:44:25.254Z"
   },
   {
    "duration": 10,
    "start_time": "2023-08-20T14:44:25.296Z"
   },
   {
    "duration": 107,
    "start_time": "2023-08-20T14:44:25.308Z"
   },
   {
    "duration": 11,
    "start_time": "2023-08-20T14:44:25.417Z"
   },
   {
    "duration": 90,
    "start_time": "2023-08-20T14:44:25.430Z"
   },
   {
    "duration": 63,
    "start_time": "2023-08-20T14:44:25.522Z"
   },
   {
    "duration": 24,
    "start_time": "2023-08-20T14:44:25.586Z"
   },
   {
    "duration": 18,
    "start_time": "2023-08-20T14:44:25.613Z"
   },
   {
    "duration": 26,
    "start_time": "2023-08-20T14:44:25.632Z"
   },
   {
    "duration": 6,
    "start_time": "2023-08-20T14:44:25.671Z"
   },
   {
    "duration": 31,
    "start_time": "2023-08-20T14:44:25.679Z"
   },
   {
    "duration": 24,
    "start_time": "2023-08-20T14:44:25.712Z"
   },
   {
    "duration": 35,
    "start_time": "2023-08-20T14:44:25.738Z"
   },
   {
    "duration": 9,
    "start_time": "2023-08-20T14:44:25.775Z"
   },
   {
    "duration": 13,
    "start_time": "2023-08-20T14:44:25.786Z"
   },
   {
    "duration": 9,
    "start_time": "2023-08-20T14:44:25.801Z"
   },
   {
    "duration": 63,
    "start_time": "2023-08-20T14:44:25.812Z"
   },
   {
    "duration": 28,
    "start_time": "2023-08-20T14:44:25.877Z"
   },
   {
    "duration": 6,
    "start_time": "2023-08-20T14:44:25.907Z"
   },
   {
    "duration": 10,
    "start_time": "2023-08-20T14:44:25.915Z"
   },
   {
    "duration": 75,
    "start_time": "2023-08-20T14:44:25.927Z"
   },
   {
    "duration": 29,
    "start_time": "2023-08-20T14:44:26.004Z"
   },
   {
    "duration": 51,
    "start_time": "2023-08-20T14:44:26.034Z"
   },
   {
    "duration": 7,
    "start_time": "2023-08-20T14:44:26.088Z"
   },
   {
    "duration": 11,
    "start_time": "2023-08-20T14:44:26.097Z"
   },
   {
    "duration": 34,
    "start_time": "2023-08-20T14:44:26.110Z"
   },
   {
    "duration": 29,
    "start_time": "2023-08-20T14:44:51.939Z"
   },
   {
    "duration": 6,
    "start_time": "2023-08-20T14:45:07.138Z"
   },
   {
    "duration": 8,
    "start_time": "2023-08-20T14:45:32.004Z"
   },
   {
    "duration": 6,
    "start_time": "2023-08-20T14:45:35.557Z"
   },
   {
    "duration": 48,
    "start_time": "2023-08-20T14:47:58.268Z"
   },
   {
    "duration": 7,
    "start_time": "2023-08-20T14:48:04.234Z"
   },
   {
    "duration": 917,
    "start_time": "2023-08-20T14:48:19.361Z"
   },
   {
    "duration": 279,
    "start_time": "2023-08-20T14:48:20.280Z"
   },
   {
    "duration": 24,
    "start_time": "2023-08-20T14:48:20.561Z"
   },
   {
    "duration": 30,
    "start_time": "2023-08-20T14:48:20.587Z"
   },
   {
    "duration": 31,
    "start_time": "2023-08-20T14:48:20.618Z"
   },
   {
    "duration": 11,
    "start_time": "2023-08-20T14:48:20.651Z"
   },
   {
    "duration": 24,
    "start_time": "2023-08-20T14:48:20.664Z"
   },
   {
    "duration": 5,
    "start_time": "2023-08-20T14:48:20.690Z"
   },
   {
    "duration": 29,
    "start_time": "2023-08-20T14:48:20.697Z"
   },
   {
    "duration": 16,
    "start_time": "2023-08-20T14:48:20.729Z"
   },
   {
    "duration": 20,
    "start_time": "2023-08-20T14:48:20.747Z"
   },
   {
    "duration": 30,
    "start_time": "2023-08-20T14:48:20.769Z"
   },
   {
    "duration": 51,
    "start_time": "2023-08-20T14:48:20.802Z"
   },
   {
    "duration": 8,
    "start_time": "2023-08-20T14:48:20.856Z"
   },
   {
    "duration": 24,
    "start_time": "2023-08-20T14:48:20.866Z"
   },
   {
    "duration": 43,
    "start_time": "2023-08-20T14:48:20.892Z"
   },
   {
    "duration": 23,
    "start_time": "2023-08-20T14:48:20.937Z"
   },
   {
    "duration": 81,
    "start_time": "2023-08-20T14:48:20.962Z"
   },
   {
    "duration": 27,
    "start_time": "2023-08-20T14:48:21.045Z"
   },
   {
    "duration": 18,
    "start_time": "2023-08-20T14:48:21.078Z"
   },
   {
    "duration": 52,
    "start_time": "2023-08-20T14:48:21.098Z"
   },
   {
    "duration": 50,
    "start_time": "2023-08-20T14:48:21.152Z"
   },
   {
    "duration": 376,
    "start_time": "2023-08-20T14:48:21.205Z"
   },
   {
    "duration": 12,
    "start_time": "2023-08-20T14:48:21.582Z"
   },
   {
    "duration": 17,
    "start_time": "2023-08-20T14:48:21.595Z"
   },
   {
    "duration": 24,
    "start_time": "2023-08-20T14:48:21.614Z"
   },
   {
    "duration": 23,
    "start_time": "2023-08-20T14:48:21.640Z"
   },
   {
    "duration": 32,
    "start_time": "2023-08-20T14:48:21.668Z"
   },
   {
    "duration": 14,
    "start_time": "2023-08-20T14:48:21.701Z"
   },
   {
    "duration": 34,
    "start_time": "2023-08-20T14:48:21.718Z"
   },
   {
    "duration": 35,
    "start_time": "2023-08-20T14:48:21.754Z"
   },
   {
    "duration": 23,
    "start_time": "2023-08-20T14:48:21.791Z"
   },
   {
    "duration": 27,
    "start_time": "2023-08-20T14:48:21.816Z"
   },
   {
    "duration": 68,
    "start_time": "2023-08-20T14:48:21.844Z"
   },
   {
    "duration": 23,
    "start_time": "2023-08-20T14:48:21.913Z"
   },
   {
    "duration": 9,
    "start_time": "2023-08-20T14:48:21.938Z"
   },
   {
    "duration": 84,
    "start_time": "2023-08-20T14:48:21.967Z"
   },
   {
    "duration": 16,
    "start_time": "2023-08-20T14:48:22.053Z"
   },
   {
    "duration": 83,
    "start_time": "2023-08-20T14:48:22.070Z"
   },
   {
    "duration": 48,
    "start_time": "2023-08-20T14:48:22.155Z"
   },
   {
    "duration": 28,
    "start_time": "2023-08-20T14:48:22.205Z"
   },
   {
    "duration": 32,
    "start_time": "2023-08-20T14:48:22.235Z"
   },
   {
    "duration": 26,
    "start_time": "2023-08-20T14:48:22.269Z"
   },
   {
    "duration": 13,
    "start_time": "2023-08-20T14:48:22.297Z"
   },
   {
    "duration": 37,
    "start_time": "2023-08-20T14:48:22.312Z"
   },
   {
    "duration": 28,
    "start_time": "2023-08-20T14:48:22.350Z"
   },
   {
    "duration": 16,
    "start_time": "2023-08-20T14:48:22.380Z"
   },
   {
    "duration": 30,
    "start_time": "2023-08-20T14:48:22.398Z"
   },
   {
    "duration": 14,
    "start_time": "2023-08-20T14:48:22.429Z"
   },
   {
    "duration": 16,
    "start_time": "2023-08-20T14:48:22.445Z"
   },
   {
    "duration": 40,
    "start_time": "2023-08-20T14:48:22.463Z"
   },
   {
    "duration": 23,
    "start_time": "2023-08-20T14:48:22.505Z"
   },
   {
    "duration": 5,
    "start_time": "2023-08-20T14:48:22.530Z"
   },
   {
    "duration": 13,
    "start_time": "2023-08-20T14:48:22.536Z"
   },
   {
    "duration": 57,
    "start_time": "2023-08-20T14:48:22.551Z"
   },
   {
    "duration": 24,
    "start_time": "2023-08-20T14:48:22.610Z"
   },
   {
    "duration": 45,
    "start_time": "2023-08-20T14:48:22.637Z"
   },
   {
    "duration": 7,
    "start_time": "2023-08-20T14:48:22.684Z"
   },
   {
    "duration": 13,
    "start_time": "2023-08-20T14:48:22.693Z"
   },
   {
    "duration": 25,
    "start_time": "2023-08-20T14:48:22.708Z"
   },
   {
    "duration": 121,
    "start_time": "2023-08-20T14:50:51.862Z"
   },
   {
    "duration": 17,
    "start_time": "2023-08-20T14:50:57.895Z"
   },
   {
    "duration": 11,
    "start_time": "2023-08-20T14:51:26.734Z"
   },
   {
    "duration": 12,
    "start_time": "2023-08-20T14:51:41.106Z"
   },
   {
    "duration": 12,
    "start_time": "2023-08-20T14:51:47.294Z"
   },
   {
    "duration": 33,
    "start_time": "2023-08-20T14:52:30.122Z"
   },
   {
    "duration": 39,
    "start_time": "2023-08-20T14:53:18.590Z"
   },
   {
    "duration": 15,
    "start_time": "2023-08-20T14:53:48.244Z"
   },
   {
    "duration": 34,
    "start_time": "2023-08-20T14:54:05.133Z"
   },
   {
    "duration": 7,
    "start_time": "2023-08-20T14:54:09.914Z"
   },
   {
    "duration": 5,
    "start_time": "2023-08-20T14:54:26.377Z"
   },
   {
    "duration": 8,
    "start_time": "2023-08-20T14:54:46.754Z"
   },
   {
    "duration": 7,
    "start_time": "2023-08-20T14:54:58.242Z"
   },
   {
    "duration": 6,
    "start_time": "2023-08-20T14:55:07.175Z"
   },
   {
    "duration": 8,
    "start_time": "2023-08-20T14:55:33.465Z"
   },
   {
    "duration": 6,
    "start_time": "2023-08-20T14:55:38.801Z"
   },
   {
    "duration": 6,
    "start_time": "2023-08-20T14:57:51.877Z"
   },
   {
    "duration": 7,
    "start_time": "2023-08-20T14:57:57.538Z"
   },
   {
    "duration": 68,
    "start_time": "2023-08-20T14:58:16.552Z"
   },
   {
    "duration": 8,
    "start_time": "2023-08-20T14:58:24.033Z"
   },
   {
    "duration": 75,
    "start_time": "2023-08-20T14:59:10.462Z"
   },
   {
    "duration": 81,
    "start_time": "2023-08-20T14:59:46.332Z"
   },
   {
    "duration": 117,
    "start_time": "2023-08-20T14:59:57.387Z"
   },
   {
    "duration": 45,
    "start_time": "2023-08-20T15:01:32.320Z"
   },
   {
    "duration": 117,
    "start_time": "2023-08-20T15:01:44.140Z"
   },
   {
    "duration": 28,
    "start_time": "2023-08-20T15:03:44.882Z"
   },
   {
    "duration": 6,
    "start_time": "2023-08-20T15:04:09.034Z"
   },
   {
    "duration": 27,
    "start_time": "2023-08-20T15:04:18.545Z"
   },
   {
    "duration": 7,
    "start_time": "2023-08-20T15:05:13.989Z"
   },
   {
    "duration": 3,
    "start_time": "2023-08-20T15:06:12.583Z"
   },
   {
    "duration": 3,
    "start_time": "2023-08-20T15:06:16.096Z"
   },
   {
    "duration": 5,
    "start_time": "2023-08-20T15:06:44.251Z"
   },
   {
    "duration": 916,
    "start_time": "2023-08-20T19:05:20.254Z"
   },
   {
    "duration": 1268,
    "start_time": "2023-08-20T19:05:21.173Z"
   },
   {
    "duration": 24,
    "start_time": "2023-08-20T19:05:22.443Z"
   },
   {
    "duration": 13,
    "start_time": "2023-08-20T19:05:22.470Z"
   },
   {
    "duration": 28,
    "start_time": "2023-08-20T19:05:22.486Z"
   },
   {
    "duration": 33,
    "start_time": "2023-08-20T19:05:22.517Z"
   },
   {
    "duration": 30,
    "start_time": "2023-08-20T19:05:22.552Z"
   },
   {
    "duration": 14,
    "start_time": "2023-08-20T19:05:22.584Z"
   },
   {
    "duration": 13,
    "start_time": "2023-08-20T19:05:22.600Z"
   },
   {
    "duration": 13,
    "start_time": "2023-08-20T19:05:22.615Z"
   },
   {
    "duration": 34,
    "start_time": "2023-08-20T19:05:22.629Z"
   },
   {
    "duration": 27,
    "start_time": "2023-08-20T19:05:22.665Z"
   },
   {
    "duration": 17,
    "start_time": "2023-08-20T19:05:22.694Z"
   },
   {
    "duration": 13,
    "start_time": "2023-08-20T19:05:22.714Z"
   },
   {
    "duration": 10,
    "start_time": "2023-08-20T19:05:22.729Z"
   },
   {
    "duration": 19,
    "start_time": "2023-08-20T19:05:22.741Z"
   },
   {
    "duration": 10,
    "start_time": "2023-08-20T19:05:22.762Z"
   },
   {
    "duration": 34,
    "start_time": "2023-08-20T19:05:22.773Z"
   },
   {
    "duration": 16,
    "start_time": "2023-08-20T19:05:22.809Z"
   },
   {
    "duration": 14,
    "start_time": "2023-08-20T19:05:22.828Z"
   },
   {
    "duration": 87,
    "start_time": "2023-08-20T19:05:22.844Z"
   },
   {
    "duration": 15,
    "start_time": "2023-08-20T19:05:22.933Z"
   },
   {
    "duration": 640,
    "start_time": "2023-08-20T19:05:22.951Z"
   },
   {
    "duration": 12,
    "start_time": "2023-08-20T19:05:23.593Z"
   },
   {
    "duration": 30,
    "start_time": "2023-08-20T19:05:23.607Z"
   },
   {
    "duration": 23,
    "start_time": "2023-08-20T19:05:23.639Z"
   },
   {
    "duration": 13,
    "start_time": "2023-08-20T19:05:23.663Z"
   },
   {
    "duration": 44,
    "start_time": "2023-08-20T19:05:23.677Z"
   },
   {
    "duration": 11,
    "start_time": "2023-08-20T19:05:23.724Z"
   },
   {
    "duration": 44,
    "start_time": "2023-08-20T19:05:23.737Z"
   },
   {
    "duration": 57,
    "start_time": "2023-08-20T19:05:23.784Z"
   },
   {
    "duration": 46,
    "start_time": "2023-08-20T19:05:23.843Z"
   },
   {
    "duration": 29,
    "start_time": "2023-08-20T19:05:23.892Z"
   },
   {
    "duration": 108,
    "start_time": "2023-08-20T19:05:23.923Z"
   },
   {
    "duration": 35,
    "start_time": "2023-08-20T19:05:24.036Z"
   },
   {
    "duration": 25,
    "start_time": "2023-08-20T19:05:24.073Z"
   },
   {
    "duration": 107,
    "start_time": "2023-08-20T19:05:24.100Z"
   },
   {
    "duration": 12,
    "start_time": "2023-08-20T19:05:24.209Z"
   },
   {
    "duration": 93,
    "start_time": "2023-08-20T19:05:24.222Z"
   },
   {
    "duration": 51,
    "start_time": "2023-08-20T19:05:24.317Z"
   },
   {
    "duration": 19,
    "start_time": "2023-08-20T19:05:24.373Z"
   },
   {
    "duration": 22,
    "start_time": "2023-08-20T19:05:24.393Z"
   },
   {
    "duration": 41,
    "start_time": "2023-08-20T19:05:24.416Z"
   },
   {
    "duration": 8,
    "start_time": "2023-08-20T19:05:24.459Z"
   },
   {
    "duration": 29,
    "start_time": "2023-08-20T19:05:24.469Z"
   },
   {
    "duration": 20,
    "start_time": "2023-08-20T19:05:24.500Z"
   },
   {
    "duration": 11,
    "start_time": "2023-08-20T19:05:24.522Z"
   },
   {
    "duration": 31,
    "start_time": "2023-08-20T19:05:24.536Z"
   },
   {
    "duration": 9,
    "start_time": "2023-08-20T19:05:24.569Z"
   },
   {
    "duration": 8,
    "start_time": "2023-08-20T19:05:24.580Z"
   },
   {
    "duration": 42,
    "start_time": "2023-08-20T19:05:24.589Z"
   },
   {
    "duration": 53,
    "start_time": "2023-08-20T19:05:24.633Z"
   },
   {
    "duration": 9,
    "start_time": "2023-08-20T19:05:24.688Z"
   },
   {
    "duration": 10,
    "start_time": "2023-08-20T19:05:24.698Z"
   },
   {
    "duration": 8,
    "start_time": "2023-08-20T19:05:24.710Z"
   },
   {
    "duration": 10,
    "start_time": "2023-08-20T19:05:24.719Z"
   },
   {
    "duration": 46,
    "start_time": "2023-08-20T19:05:24.730Z"
   },
   {
    "duration": 24,
    "start_time": "2023-08-20T19:05:24.778Z"
   },
   {
    "duration": 8,
    "start_time": "2023-08-20T19:05:24.805Z"
   },
   {
    "duration": 29,
    "start_time": "2023-08-20T19:05:24.816Z"
   },
   {
    "duration": 39,
    "start_time": "2023-08-20T19:05:24.848Z"
   },
   {
    "duration": 953,
    "start_time": "2023-08-22T10:24:43.660Z"
   },
   {
    "duration": 929,
    "start_time": "2023-08-22T10:24:44.617Z"
   },
   {
    "duration": 15,
    "start_time": "2023-08-22T10:24:45.547Z"
   },
   {
    "duration": 10,
    "start_time": "2023-08-22T10:24:45.564Z"
   },
   {
    "duration": 23,
    "start_time": "2023-08-22T10:24:45.575Z"
   },
   {
    "duration": 33,
    "start_time": "2023-08-22T10:24:45.600Z"
   },
   {
    "duration": 17,
    "start_time": "2023-08-22T10:24:45.635Z"
   },
   {
    "duration": 6,
    "start_time": "2023-08-22T10:24:45.654Z"
   },
   {
    "duration": 13,
    "start_time": "2023-08-22T10:24:45.661Z"
   },
   {
    "duration": 8,
    "start_time": "2023-08-22T10:24:45.676Z"
   },
   {
    "duration": 13,
    "start_time": "2023-08-22T10:24:45.686Z"
   },
   {
    "duration": 27,
    "start_time": "2023-08-22T10:24:45.701Z"
   },
   {
    "duration": 14,
    "start_time": "2023-08-22T10:24:45.730Z"
   },
   {
    "duration": 5,
    "start_time": "2023-08-22T10:24:45.746Z"
   },
   {
    "duration": 9,
    "start_time": "2023-08-22T10:24:45.753Z"
   },
   {
    "duration": 14,
    "start_time": "2023-08-22T10:24:45.764Z"
   },
   {
    "duration": 8,
    "start_time": "2023-08-22T10:24:45.779Z"
   },
   {
    "duration": 66,
    "start_time": "2023-08-22T10:24:45.788Z"
   },
   {
    "duration": 11,
    "start_time": "2023-08-22T10:24:45.856Z"
   },
   {
    "duration": 19,
    "start_time": "2023-08-22T10:24:45.868Z"
   },
   {
    "duration": 68,
    "start_time": "2023-08-22T10:24:45.889Z"
   },
   {
    "duration": 17,
    "start_time": "2023-08-22T10:24:45.959Z"
   },
   {
    "duration": 689,
    "start_time": "2023-08-22T10:24:45.978Z"
   },
   {
    "duration": 12,
    "start_time": "2023-08-22T10:24:46.669Z"
   },
   {
    "duration": 10,
    "start_time": "2023-08-22T10:24:46.683Z"
   },
   {
    "duration": 29,
    "start_time": "2023-08-22T10:24:46.713Z"
   },
   {
    "duration": 11,
    "start_time": "2023-08-22T10:24:46.744Z"
   },
   {
    "duration": 31,
    "start_time": "2023-08-22T10:24:46.758Z"
   },
   {
    "duration": 42,
    "start_time": "2023-08-22T10:24:46.791Z"
   },
   {
    "duration": 17,
    "start_time": "2023-08-22T10:24:46.836Z"
   },
   {
    "duration": 10,
    "start_time": "2023-08-22T10:24:46.855Z"
   },
   {
    "duration": 15,
    "start_time": "2023-08-22T10:24:46.867Z"
   },
   {
    "duration": 50,
    "start_time": "2023-08-22T10:24:46.884Z"
   },
   {
    "duration": 58,
    "start_time": "2023-08-22T10:24:46.936Z"
   },
   {
    "duration": 49,
    "start_time": "2023-08-22T10:24:46.996Z"
   },
   {
    "duration": 18,
    "start_time": "2023-08-22T10:24:47.047Z"
   },
   {
    "duration": 106,
    "start_time": "2023-08-22T10:24:47.067Z"
   },
   {
    "duration": 12,
    "start_time": "2023-08-22T10:24:47.175Z"
   },
   {
    "duration": 97,
    "start_time": "2023-08-22T10:24:47.189Z"
   },
   {
    "duration": 64,
    "start_time": "2023-08-22T10:24:47.288Z"
   },
   {
    "duration": 16,
    "start_time": "2023-08-22T10:24:47.354Z"
   },
   {
    "duration": 10,
    "start_time": "2023-08-22T10:24:47.372Z"
   },
   {
    "duration": 40,
    "start_time": "2023-08-22T10:24:47.383Z"
   },
   {
    "duration": 10,
    "start_time": "2023-08-22T10:24:47.425Z"
   },
   {
    "duration": 38,
    "start_time": "2023-08-22T10:24:47.442Z"
   },
   {
    "duration": 19,
    "start_time": "2023-08-22T10:24:47.481Z"
   },
   {
    "duration": 33,
    "start_time": "2023-08-22T10:24:47.503Z"
   },
   {
    "duration": 15,
    "start_time": "2023-08-22T10:24:47.537Z"
   },
   {
    "duration": 9,
    "start_time": "2023-08-22T10:24:47.554Z"
   },
   {
    "duration": 4,
    "start_time": "2023-08-22T10:24:47.564Z"
   },
   {
    "duration": 27,
    "start_time": "2023-08-22T10:24:47.570Z"
   },
   {
    "duration": 46,
    "start_time": "2023-08-22T10:24:47.598Z"
   },
   {
    "duration": 6,
    "start_time": "2023-08-22T10:24:47.646Z"
   },
   {
    "duration": 5,
    "start_time": "2023-08-22T10:24:47.655Z"
   },
   {
    "duration": 3,
    "start_time": "2023-08-22T10:24:47.662Z"
   },
   {
    "duration": 8,
    "start_time": "2023-08-22T10:24:47.667Z"
   },
   {
    "duration": 62,
    "start_time": "2023-08-22T10:24:47.676Z"
   },
   {
    "duration": 23,
    "start_time": "2023-08-22T10:24:47.741Z"
   },
   {
    "duration": 5,
    "start_time": "2023-08-22T10:24:47.766Z"
   },
   {
    "duration": 7,
    "start_time": "2023-08-22T10:24:47.773Z"
   },
   {
    "duration": 61,
    "start_time": "2023-08-22T10:24:47.782Z"
   },
   {
    "duration": 6,
    "start_time": "2023-08-22T10:50:46.243Z"
   },
   {
    "duration": 6,
    "start_time": "2023-08-22T10:51:03.576Z"
   },
   {
    "duration": 5,
    "start_time": "2023-08-22T10:51:07.958Z"
   },
   {
    "duration": 60,
    "start_time": "2023-08-22T10:53:18.764Z"
   },
   {
    "duration": 6,
    "start_time": "2023-08-22T10:53:28.344Z"
   },
   {
    "duration": 6,
    "start_time": "2023-08-22T10:53:32.933Z"
   },
   {
    "duration": 28,
    "start_time": "2023-08-22T10:56:30.455Z"
   },
   {
    "duration": 39,
    "start_time": "2023-08-22T10:56:36.989Z"
   },
   {
    "duration": 15,
    "start_time": "2023-08-22T10:57:02.174Z"
   },
   {
    "duration": 25,
    "start_time": "2023-08-22T10:58:00.332Z"
   },
   {
    "duration": 24,
    "start_time": "2023-08-22T10:58:11.782Z"
   },
   {
    "duration": 22,
    "start_time": "2023-08-22T10:59:12.857Z"
   },
   {
    "duration": 13,
    "start_time": "2023-08-22T11:00:13.488Z"
   },
   {
    "duration": 122,
    "start_time": "2023-08-22T11:01:47.848Z"
   },
   {
    "duration": 8,
    "start_time": "2023-08-22T11:02:16.669Z"
   },
   {
    "duration": 14,
    "start_time": "2023-08-22T11:02:20.966Z"
   },
   {
    "duration": 17,
    "start_time": "2023-08-22T11:02:31.853Z"
   },
   {
    "duration": 43,
    "start_time": "2023-08-22T11:03:20.712Z"
   },
   {
    "duration": 32,
    "start_time": "2023-08-22T11:03:24.989Z"
   },
   {
    "duration": 29,
    "start_time": "2023-08-22T11:03:44.238Z"
   },
   {
    "duration": 35,
    "start_time": "2023-08-22T11:04:17.137Z"
   },
   {
    "duration": 3,
    "start_time": "2023-08-22T11:04:25.102Z"
   },
   {
    "duration": 500,
    "start_time": "2023-08-22T11:04:25.107Z"
   },
   {
    "duration": 25,
    "start_time": "2023-08-22T11:04:25.612Z"
   },
   {
    "duration": 22,
    "start_time": "2023-08-22T11:04:25.640Z"
   },
   {
    "duration": 8,
    "start_time": "2023-08-22T11:04:25.671Z"
   },
   {
    "duration": 23,
    "start_time": "2023-08-22T11:04:25.683Z"
   },
   {
    "duration": 22,
    "start_time": "2023-08-22T11:04:25.708Z"
   },
   {
    "duration": 9,
    "start_time": "2023-08-22T11:04:25.731Z"
   },
   {
    "duration": 8,
    "start_time": "2023-08-22T11:04:25.743Z"
   },
   {
    "duration": 7,
    "start_time": "2023-08-22T11:04:25.753Z"
   },
   {
    "duration": 16,
    "start_time": "2023-08-22T11:04:25.762Z"
   },
   {
    "duration": 12,
    "start_time": "2023-08-22T11:04:25.780Z"
   },
   {
    "duration": 15,
    "start_time": "2023-08-22T11:04:25.810Z"
   },
   {
    "duration": 9,
    "start_time": "2023-08-22T11:04:25.827Z"
   },
   {
    "duration": 11,
    "start_time": "2023-08-22T11:04:25.838Z"
   },
   {
    "duration": 10,
    "start_time": "2023-08-22T11:04:25.851Z"
   },
   {
    "duration": 7,
    "start_time": "2023-08-22T11:04:25.863Z"
   },
   {
    "duration": 89,
    "start_time": "2023-08-22T11:04:25.871Z"
   },
   {
    "duration": 11,
    "start_time": "2023-08-22T11:04:25.962Z"
   },
   {
    "duration": 12,
    "start_time": "2023-08-22T11:04:25.975Z"
   },
   {
    "duration": 69,
    "start_time": "2023-08-22T11:04:25.989Z"
   },
   {
    "duration": 37,
    "start_time": "2023-08-22T11:04:26.061Z"
   },
   {
    "duration": 74,
    "start_time": "2023-08-22T11:04:26.100Z"
   },
   {
    "duration": 13,
    "start_time": "2023-08-22T11:04:26.178Z"
   },
   {
    "duration": 12,
    "start_time": "2023-08-22T11:04:26.192Z"
   },
   {
    "duration": 39,
    "start_time": "2023-08-22T11:04:26.206Z"
   },
   {
    "duration": 12,
    "start_time": "2023-08-22T11:04:26.246Z"
   },
   {
    "duration": 34,
    "start_time": "2023-08-22T11:04:26.260Z"
   },
   {
    "duration": 25,
    "start_time": "2023-08-22T11:04:26.296Z"
   },
   {
    "duration": 21,
    "start_time": "2023-08-22T11:04:26.324Z"
   },
   {
    "duration": 11,
    "start_time": "2023-08-22T11:04:26.347Z"
   },
   {
    "duration": 29,
    "start_time": "2023-08-22T11:04:26.359Z"
   },
   {
    "duration": 18,
    "start_time": "2023-08-22T11:04:26.390Z"
   },
   {
    "duration": 58,
    "start_time": "2023-08-22T11:04:26.412Z"
   },
   {
    "duration": 41,
    "start_time": "2023-08-22T11:04:26.472Z"
   },
   {
    "duration": 21,
    "start_time": "2023-08-22T11:04:26.521Z"
   },
   {
    "duration": 100,
    "start_time": "2023-08-22T11:04:26.546Z"
   },
   {
    "duration": 16,
    "start_time": "2023-08-22T11:04:26.648Z"
   },
   {
    "duration": 78,
    "start_time": "2023-08-22T11:04:26.667Z"
   },
   {
    "duration": 52,
    "start_time": "2023-08-22T11:04:26.746Z"
   },
   {
    "duration": 0,
    "start_time": "2023-08-22T11:04:26.810Z"
   },
   {
    "duration": 0,
    "start_time": "2023-08-22T11:04:26.811Z"
   },
   {
    "duration": 0,
    "start_time": "2023-08-22T11:04:26.813Z"
   },
   {
    "duration": 0,
    "start_time": "2023-08-22T11:04:26.815Z"
   },
   {
    "duration": 0,
    "start_time": "2023-08-22T11:04:26.816Z"
   },
   {
    "duration": 0,
    "start_time": "2023-08-22T11:04:26.819Z"
   },
   {
    "duration": 0,
    "start_time": "2023-08-22T11:04:26.820Z"
   },
   {
    "duration": 0,
    "start_time": "2023-08-22T11:04:26.822Z"
   },
   {
    "duration": 0,
    "start_time": "2023-08-22T11:04:26.823Z"
   },
   {
    "duration": 0,
    "start_time": "2023-08-22T11:04:26.825Z"
   },
   {
    "duration": 0,
    "start_time": "2023-08-22T11:04:26.826Z"
   },
   {
    "duration": 0,
    "start_time": "2023-08-22T11:04:26.834Z"
   },
   {
    "duration": 0,
    "start_time": "2023-08-22T11:04:26.835Z"
   },
   {
    "duration": 0,
    "start_time": "2023-08-22T11:04:26.836Z"
   },
   {
    "duration": 0,
    "start_time": "2023-08-22T11:04:26.840Z"
   },
   {
    "duration": 0,
    "start_time": "2023-08-22T11:04:26.841Z"
   },
   {
    "duration": 0,
    "start_time": "2023-08-22T11:04:26.842Z"
   },
   {
    "duration": 0,
    "start_time": "2023-08-22T11:04:26.844Z"
   },
   {
    "duration": 0,
    "start_time": "2023-08-22T11:04:26.845Z"
   },
   {
    "duration": 0,
    "start_time": "2023-08-22T11:04:26.846Z"
   },
   {
    "duration": 0,
    "start_time": "2023-08-22T11:04:26.847Z"
   },
   {
    "duration": 0,
    "start_time": "2023-08-22T11:04:26.848Z"
   },
   {
    "duration": 50,
    "start_time": "2023-08-22T11:04:38.996Z"
   },
   {
    "duration": 31,
    "start_time": "2023-08-22T11:04:59.059Z"
   },
   {
    "duration": 28,
    "start_time": "2023-08-22T11:05:03.269Z"
   },
   {
    "duration": 30,
    "start_time": "2023-08-22T11:05:18.135Z"
   },
   {
    "duration": 30,
    "start_time": "2023-08-22T11:05:24.849Z"
   },
   {
    "duration": 31,
    "start_time": "2023-08-22T11:05:48.189Z"
   },
   {
    "duration": 52,
    "start_time": "2023-08-22T11:05:52.493Z"
   },
   {
    "duration": 38,
    "start_time": "2023-08-22T11:06:12.908Z"
   },
   {
    "duration": 922,
    "start_time": "2023-08-22T11:10:13.385Z"
   },
   {
    "duration": 335,
    "start_time": "2023-08-22T11:10:14.313Z"
   },
   {
    "duration": 16,
    "start_time": "2023-08-22T11:10:14.649Z"
   },
   {
    "duration": 17,
    "start_time": "2023-08-22T11:10:14.667Z"
   },
   {
    "duration": 16,
    "start_time": "2023-08-22T11:10:14.686Z"
   },
   {
    "duration": 21,
    "start_time": "2023-08-22T11:10:14.704Z"
   },
   {
    "duration": 26,
    "start_time": "2023-08-22T11:10:14.727Z"
   },
   {
    "duration": 7,
    "start_time": "2023-08-22T11:10:14.755Z"
   },
   {
    "duration": 22,
    "start_time": "2023-08-22T11:10:14.764Z"
   },
   {
    "duration": 10,
    "start_time": "2023-08-22T11:10:14.789Z"
   },
   {
    "duration": 11,
    "start_time": "2023-08-22T11:10:14.801Z"
   },
   {
    "duration": 19,
    "start_time": "2023-08-22T11:10:14.814Z"
   },
   {
    "duration": 20,
    "start_time": "2023-08-22T11:10:14.836Z"
   },
   {
    "duration": 13,
    "start_time": "2023-08-22T11:10:14.858Z"
   },
   {
    "duration": 23,
    "start_time": "2023-08-22T11:10:14.874Z"
   },
   {
    "duration": 20,
    "start_time": "2023-08-22T11:10:14.899Z"
   },
   {
    "duration": 13,
    "start_time": "2023-08-22T11:10:14.921Z"
   },
   {
    "duration": 43,
    "start_time": "2023-08-22T11:10:14.936Z"
   },
   {
    "duration": 28,
    "start_time": "2023-08-22T11:10:14.980Z"
   },
   {
    "duration": 23,
    "start_time": "2023-08-22T11:10:15.009Z"
   },
   {
    "duration": 75,
    "start_time": "2023-08-22T11:10:15.033Z"
   },
   {
    "duration": 56,
    "start_time": "2023-08-22T11:10:15.110Z"
   },
   {
    "duration": 400,
    "start_time": "2023-08-22T11:10:15.168Z"
   },
   {
    "duration": 14,
    "start_time": "2023-08-22T11:10:15.570Z"
   },
   {
    "duration": 55,
    "start_time": "2023-08-22T11:10:15.585Z"
   },
   {
    "duration": 31,
    "start_time": "2023-08-22T11:10:15.642Z"
   },
   {
    "duration": 76,
    "start_time": "2023-08-22T11:10:15.675Z"
   },
   {
    "duration": 94,
    "start_time": "2023-08-22T11:10:15.755Z"
   },
   {
    "duration": 44,
    "start_time": "2023-08-22T11:10:15.851Z"
   },
   {
    "duration": 22,
    "start_time": "2023-08-22T11:10:15.896Z"
   },
   {
    "duration": 10,
    "start_time": "2023-08-22T11:10:15.919Z"
   },
   {
    "duration": 23,
    "start_time": "2023-08-22T11:10:15.931Z"
   },
   {
    "duration": 19,
    "start_time": "2023-08-22T11:10:15.956Z"
   },
   {
    "duration": 66,
    "start_time": "2023-08-22T11:10:15.976Z"
   },
   {
    "duration": 23,
    "start_time": "2023-08-22T11:10:16.044Z"
   },
   {
    "duration": 10,
    "start_time": "2023-08-22T11:10:16.069Z"
   },
   {
    "duration": 114,
    "start_time": "2023-08-22T11:10:16.080Z"
   },
   {
    "duration": 27,
    "start_time": "2023-08-22T11:10:16.196Z"
   },
   {
    "duration": 72,
    "start_time": "2023-08-22T11:10:16.225Z"
   },
   {
    "duration": 56,
    "start_time": "2023-08-22T11:10:16.299Z"
   },
   {
    "duration": 20,
    "start_time": "2023-08-22T11:10:16.357Z"
   },
   {
    "duration": 35,
    "start_time": "2023-08-22T11:10:16.379Z"
   },
   {
    "duration": 23,
    "start_time": "2023-08-22T11:10:16.417Z"
   },
   {
    "duration": 8,
    "start_time": "2023-08-22T11:10:16.442Z"
   },
   {
    "duration": 28,
    "start_time": "2023-08-22T11:10:16.452Z"
   },
   {
    "duration": 45,
    "start_time": "2023-08-22T11:10:16.482Z"
   },
   {
    "duration": 13,
    "start_time": "2023-08-22T11:10:16.529Z"
   },
   {
    "duration": 7,
    "start_time": "2023-08-22T11:10:16.544Z"
   },
   {
    "duration": 9,
    "start_time": "2023-08-22T11:10:16.553Z"
   },
   {
    "duration": 4,
    "start_time": "2023-08-22T11:10:16.564Z"
   },
   {
    "duration": 63,
    "start_time": "2023-08-22T11:10:16.570Z"
   },
   {
    "duration": 25,
    "start_time": "2023-08-22T11:10:16.635Z"
   },
   {
    "duration": 6,
    "start_time": "2023-08-22T11:10:16.662Z"
   },
   {
    "duration": 6,
    "start_time": "2023-08-22T11:10:16.669Z"
   },
   {
    "duration": 3,
    "start_time": "2023-08-22T11:10:16.676Z"
   },
   {
    "duration": 51,
    "start_time": "2023-08-22T11:10:16.710Z"
   },
   {
    "duration": 27,
    "start_time": "2023-08-22T11:10:16.763Z"
   },
   {
    "duration": 26,
    "start_time": "2023-08-22T11:10:16.811Z"
   },
   {
    "duration": 5,
    "start_time": "2023-08-22T11:10:16.839Z"
   },
   {
    "duration": 6,
    "start_time": "2023-08-22T11:10:16.845Z"
   },
   {
    "duration": 55,
    "start_time": "2023-08-22T11:10:16.852Z"
   },
   {
    "duration": 24,
    "start_time": "2023-08-22T11:13:58.026Z"
   },
   {
    "duration": 57,
    "start_time": "2023-08-22T11:30:20.267Z"
   },
   {
    "duration": 5,
    "start_time": "2023-08-22T11:30:26.303Z"
   },
   {
    "duration": 14,
    "start_time": "2023-08-22T11:32:24.344Z"
   },
   {
    "duration": 12,
    "start_time": "2023-08-22T11:32:34.387Z"
   },
   {
    "duration": 14,
    "start_time": "2023-08-22T11:32:53.881Z"
   },
   {
    "duration": 14,
    "start_time": "2023-08-22T11:33:07.038Z"
   },
   {
    "duration": 91,
    "start_time": "2023-08-22T11:34:43.972Z"
   },
   {
    "duration": 7,
    "start_time": "2023-08-22T11:34:50.335Z"
   },
   {
    "duration": 4,
    "start_time": "2023-08-22T11:42:27.337Z"
   },
   {
    "duration": 3,
    "start_time": "2023-08-22T11:43:25.427Z"
   },
   {
    "duration": 6161,
    "start_time": "2023-08-22T11:45:00.195Z"
   },
   {
    "duration": 6285,
    "start_time": "2023-08-22T11:45:24.879Z"
   },
   {
    "duration": 6374,
    "start_time": "2023-08-22T11:45:57.258Z"
   },
   {
    "duration": 6254,
    "start_time": "2023-08-22T11:46:09.534Z"
   },
   {
    "duration": 6935,
    "start_time": "2023-08-22T11:48:01.597Z"
   },
   {
    "duration": 6888,
    "start_time": "2023-08-22T11:48:28.875Z"
   },
   {
    "duration": 6784,
    "start_time": "2023-08-22T11:48:37.789Z"
   },
   {
    "duration": 3,
    "start_time": "2023-08-22T11:52:20.945Z"
   },
   {
    "duration": 6323,
    "start_time": "2023-08-22T11:52:25.689Z"
   },
   {
    "duration": 19,
    "start_time": "2023-08-22T11:52:35.798Z"
   },
   {
    "duration": 63,
    "start_time": "2023-08-22T11:54:42.293Z"
   },
   {
    "duration": 29,
    "start_time": "2023-08-22T11:55:37.838Z"
   },
   {
    "duration": 7,
    "start_time": "2023-08-22T11:56:18.180Z"
   },
   {
    "duration": 83,
    "start_time": "2023-08-22T11:56:35.752Z"
   },
   {
    "duration": 6,
    "start_time": "2023-08-22T11:56:39.379Z"
   },
   {
    "duration": 13,
    "start_time": "2023-08-22T11:56:48.507Z"
   },
   {
    "duration": 28,
    "start_time": "2023-08-22T11:57:44.778Z"
   },
   {
    "duration": 14,
    "start_time": "2023-08-22T11:58:03.340Z"
   },
   {
    "duration": 6,
    "start_time": "2023-08-22T11:58:07.343Z"
   },
   {
    "duration": 6773,
    "start_time": "2023-08-22T11:59:52.675Z"
   },
   {
    "duration": 6787,
    "start_time": "2023-08-22T12:00:02.758Z"
   },
   {
    "duration": 103,
    "start_time": "2023-08-22T12:00:22.371Z"
   },
   {
    "duration": 58,
    "start_time": "2023-08-22T12:00:27.450Z"
   },
   {
    "duration": 3,
    "start_time": "2023-08-22T12:00:37.459Z"
   },
   {
    "duration": 18718,
    "start_time": "2023-08-22T12:00:40.286Z"
   },
   {
    "duration": 3,
    "start_time": "2023-08-22T12:01:23.668Z"
   },
   {
    "duration": 20386,
    "start_time": "2023-08-22T12:01:26.683Z"
   },
   {
    "duration": 20,
    "start_time": "2023-08-22T12:02:01.908Z"
   },
   {
    "duration": 15330,
    "start_time": "2023-08-22T12:02:05.178Z"
   },
   {
    "duration": 12,
    "start_time": "2023-08-22T12:02:39.835Z"
   },
   {
    "duration": 15,
    "start_time": "2023-08-22T12:02:45.426Z"
   },
   {
    "duration": 4,
    "start_time": "2023-08-22T12:02:47.759Z"
   },
   {
    "duration": 18801,
    "start_time": "2023-08-22T12:03:45.947Z"
   },
   {
    "duration": 16,
    "start_time": "2023-08-22T12:04:04.752Z"
   },
   {
    "duration": 20268,
    "start_time": "2023-08-22T12:05:35.653Z"
   },
   {
    "duration": 27,
    "start_time": "2023-08-22T12:05:55.933Z"
   },
   {
    "duration": 4,
    "start_time": "2023-08-22T12:07:01.100Z"
   },
   {
    "duration": 14,
    "start_time": "2023-08-22T12:07:07.008Z"
   },
   {
    "duration": 10,
    "start_time": "2023-08-22T12:07:19.547Z"
   },
   {
    "duration": 8,
    "start_time": "2023-08-22T12:07:23.841Z"
   },
   {
    "duration": 9,
    "start_time": "2023-08-22T12:07:41.555Z"
   },
   {
    "duration": 5,
    "start_time": "2023-08-22T12:07:45.429Z"
   },
   {
    "duration": 14353,
    "start_time": "2023-08-22T12:08:12.800Z"
   },
   {
    "duration": 7,
    "start_time": "2023-08-22T12:08:27.155Z"
   },
   {
    "duration": 13,
    "start_time": "2023-08-22T12:10:44.153Z"
   },
   {
    "duration": 13,
    "start_time": "2023-08-22T12:11:05.665Z"
   },
   {
    "duration": 2,
    "start_time": "2023-08-22T12:12:52.575Z"
   },
   {
    "duration": 2,
    "start_time": "2023-08-22T12:13:06.548Z"
   },
   {
    "duration": 25,
    "start_time": "2023-08-22T12:14:35.481Z"
   },
   {
    "duration": 23,
    "start_time": "2023-08-22T12:14:57.478Z"
   },
   {
    "duration": 41,
    "start_time": "2023-08-22T12:15:27.392Z"
   },
   {
    "duration": 41,
    "start_time": "2023-08-22T12:15:37.201Z"
   },
   {
    "duration": 33,
    "start_time": "2023-08-22T12:16:31.635Z"
   },
   {
    "duration": 43,
    "start_time": "2023-08-22T12:16:50.397Z"
   },
   {
    "duration": 33,
    "start_time": "2023-08-22T12:17:20.534Z"
   },
   {
    "duration": 23,
    "start_time": "2023-08-22T12:18:20.267Z"
   },
   {
    "duration": 19,
    "start_time": "2023-08-22T12:18:22.731Z"
   },
   {
    "duration": 26,
    "start_time": "2023-08-22T12:18:45.374Z"
   },
   {
    "duration": 27,
    "start_time": "2023-08-22T12:19:27.340Z"
   },
   {
    "duration": 28,
    "start_time": "2023-08-22T12:19:30.429Z"
   },
   {
    "duration": 8,
    "start_time": "2023-08-22T12:19:41.938Z"
   },
   {
    "duration": 5,
    "start_time": "2023-08-22T12:19:58.491Z"
   },
   {
    "duration": 16,
    "start_time": "2023-08-22T12:20:05.315Z"
   },
   {
    "duration": 42,
    "start_time": "2023-08-22T12:21:26.585Z"
   },
   {
    "duration": 33,
    "start_time": "2023-08-22T12:21:29.039Z"
   },
   {
    "duration": 6,
    "start_time": "2023-08-22T12:21:38.778Z"
   },
   {
    "duration": 26,
    "start_time": "2023-08-22T12:22:09.082Z"
   },
   {
    "duration": 40,
    "start_time": "2023-08-22T12:22:47.331Z"
   },
   {
    "duration": 27,
    "start_time": "2023-08-22T12:23:14.543Z"
   },
   {
    "duration": 26,
    "start_time": "2023-08-22T12:23:48.342Z"
   },
   {
    "duration": 5,
    "start_time": "2023-08-22T12:24:27.067Z"
   },
   {
    "duration": 37,
    "start_time": "2023-08-22T12:24:39.994Z"
   },
   {
    "duration": 25,
    "start_time": "2023-08-22T12:24:43.878Z"
   },
   {
    "duration": 6,
    "start_time": "2023-08-22T12:24:49.783Z"
   },
   {
    "duration": 25,
    "start_time": "2023-08-22T12:25:06.974Z"
   },
   {
    "duration": 11,
    "start_time": "2023-08-22T12:25:10.335Z"
   },
   {
    "duration": 10,
    "start_time": "2023-08-22T12:25:16.272Z"
   },
   {
    "duration": 21,
    "start_time": "2023-08-22T12:25:31.584Z"
   },
   {
    "duration": 5,
    "start_time": "2023-08-22T12:25:34.164Z"
   },
   {
    "duration": 23,
    "start_time": "2023-08-22T12:26:10.643Z"
   },
   {
    "duration": 19,
    "start_time": "2023-08-22T12:26:29.334Z"
   },
   {
    "duration": 70,
    "start_time": "2023-08-22T12:27:12.131Z"
   },
   {
    "duration": 7,
    "start_time": "2023-08-22T12:27:25.078Z"
   },
   {
    "duration": 5,
    "start_time": "2023-08-22T12:27:49.496Z"
   },
   {
    "duration": 10,
    "start_time": "2023-08-22T12:28:20.357Z"
   },
   {
    "duration": 24,
    "start_time": "2023-08-22T12:28:43.377Z"
   },
   {
    "duration": 21,
    "start_time": "2023-08-22T12:29:06.346Z"
   },
   {
    "duration": 15,
    "start_time": "2023-08-22T12:29:28.044Z"
   },
   {
    "duration": 10,
    "start_time": "2023-08-22T12:29:52.190Z"
   },
   {
    "duration": 30,
    "start_time": "2023-08-22T12:30:04.837Z"
   },
   {
    "duration": 952,
    "start_time": "2023-08-22T12:30:21.446Z"
   },
   {
    "duration": 430,
    "start_time": "2023-08-22T12:30:22.401Z"
   },
   {
    "duration": 25,
    "start_time": "2023-08-22T12:30:22.833Z"
   },
   {
    "duration": 10,
    "start_time": "2023-08-22T12:30:22.860Z"
   },
   {
    "duration": 12,
    "start_time": "2023-08-22T12:30:22.873Z"
   },
   {
    "duration": 11,
    "start_time": "2023-08-22T12:30:22.886Z"
   },
   {
    "duration": 24,
    "start_time": "2023-08-22T12:30:22.898Z"
   },
   {
    "duration": 8,
    "start_time": "2023-08-22T12:30:22.925Z"
   },
   {
    "duration": 19,
    "start_time": "2023-08-22T12:30:22.935Z"
   },
   {
    "duration": 5,
    "start_time": "2023-08-22T12:30:22.956Z"
   },
   {
    "duration": 15,
    "start_time": "2023-08-22T12:30:22.963Z"
   },
   {
    "duration": 13,
    "start_time": "2023-08-22T12:30:22.979Z"
   },
   {
    "duration": 43,
    "start_time": "2023-08-22T12:30:22.993Z"
   },
   {
    "duration": 10,
    "start_time": "2023-08-22T12:30:23.039Z"
   },
   {
    "duration": 8,
    "start_time": "2023-08-22T12:30:23.051Z"
   },
   {
    "duration": 15,
    "start_time": "2023-08-22T12:30:23.061Z"
   },
   {
    "duration": 4,
    "start_time": "2023-08-22T12:30:23.078Z"
   },
   {
    "duration": 61,
    "start_time": "2023-08-22T12:30:23.084Z"
   },
   {
    "duration": 15,
    "start_time": "2023-08-22T12:30:23.147Z"
   },
   {
    "duration": 17,
    "start_time": "2023-08-22T12:30:23.164Z"
   },
   {
    "duration": 62,
    "start_time": "2023-08-22T12:30:23.182Z"
   },
   {
    "duration": 16,
    "start_time": "2023-08-22T12:30:23.251Z"
   },
   {
    "duration": 387,
    "start_time": "2023-08-22T12:30:23.268Z"
   },
   {
    "duration": 12,
    "start_time": "2023-08-22T12:30:23.657Z"
   },
   {
    "duration": 12,
    "start_time": "2023-08-22T12:30:23.671Z"
   },
   {
    "duration": 61,
    "start_time": "2023-08-22T12:30:23.684Z"
   },
   {
    "duration": 11,
    "start_time": "2023-08-22T12:30:23.748Z"
   },
   {
    "duration": 94,
    "start_time": "2023-08-22T12:30:23.761Z"
   },
   {
    "duration": 9,
    "start_time": "2023-08-22T12:30:23.857Z"
   },
   {
    "duration": 19,
    "start_time": "2023-08-22T12:30:23.868Z"
   },
   {
    "duration": 20,
    "start_time": "2023-08-22T12:30:23.889Z"
   },
   {
    "duration": 24,
    "start_time": "2023-08-22T12:30:23.916Z"
   },
   {
    "duration": 25,
    "start_time": "2023-08-22T12:30:23.942Z"
   },
   {
    "duration": 57,
    "start_time": "2023-08-22T12:30:23.968Z"
   },
   {
    "duration": 35,
    "start_time": "2023-08-22T12:30:24.027Z"
   },
   {
    "duration": 9,
    "start_time": "2023-08-22T12:30:24.064Z"
   },
   {
    "duration": 103,
    "start_time": "2023-08-22T12:30:24.075Z"
   },
   {
    "duration": 10,
    "start_time": "2023-08-22T12:30:24.179Z"
   },
   {
    "duration": 108,
    "start_time": "2023-08-22T12:30:24.191Z"
   },
   {
    "duration": 73,
    "start_time": "2023-08-22T12:30:24.301Z"
   },
   {
    "duration": 33,
    "start_time": "2023-08-22T12:30:24.413Z"
   },
   {
    "duration": 18,
    "start_time": "2023-08-22T12:30:24.448Z"
   },
   {
    "duration": 83,
    "start_time": "2023-08-22T12:30:24.468Z"
   },
   {
    "duration": 7,
    "start_time": "2023-08-22T12:30:24.553Z"
   },
   {
    "duration": 33,
    "start_time": "2023-08-22T12:30:24.562Z"
   },
   {
    "duration": 42,
    "start_time": "2023-08-22T12:30:24.597Z"
   },
   {
    "duration": 8,
    "start_time": "2023-08-22T12:30:24.645Z"
   },
   {
    "duration": 98,
    "start_time": "2023-08-22T12:30:24.655Z"
   },
   {
    "duration": 8,
    "start_time": "2023-08-22T12:30:24.757Z"
   },
   {
    "duration": 46,
    "start_time": "2023-08-22T12:30:24.767Z"
   },
   {
    "duration": 20,
    "start_time": "2023-08-22T12:30:24.815Z"
   },
   {
    "duration": 36,
    "start_time": "2023-08-22T12:30:24.837Z"
   },
   {
    "duration": 48,
    "start_time": "2023-08-22T12:30:24.875Z"
   },
   {
    "duration": 119,
    "start_time": "2023-08-22T12:30:24.925Z"
   },
   {
    "duration": 1959,
    "start_time": "2023-08-22T12:30:25.046Z"
   },
   {
    "duration": 0,
    "start_time": "2023-08-22T12:30:27.007Z"
   },
   {
    "duration": 0,
    "start_time": "2023-08-22T12:30:27.009Z"
   },
   {
    "duration": 0,
    "start_time": "2023-08-22T12:30:27.012Z"
   },
   {
    "duration": 0,
    "start_time": "2023-08-22T12:30:27.013Z"
   },
   {
    "duration": 0,
    "start_time": "2023-08-22T12:30:27.014Z"
   },
   {
    "duration": 8,
    "start_time": "2023-08-22T12:30:57.838Z"
   },
   {
    "duration": 49,
    "start_time": "2023-08-22T12:31:04.005Z"
   },
   {
    "duration": 23,
    "start_time": "2023-08-22T12:31:06.740Z"
   },
   {
    "duration": 10,
    "start_time": "2023-08-22T12:31:11.056Z"
   },
   {
    "duration": 33,
    "start_time": "2023-08-22T12:31:38.502Z"
   },
   {
    "duration": 10,
    "start_time": "2023-08-22T12:31:42.980Z"
   },
   {
    "duration": 9,
    "start_time": "2023-08-22T12:32:08.756Z"
   },
   {
    "duration": 37,
    "start_time": "2023-08-22T12:32:23.196Z"
   },
   {
    "duration": 19,
    "start_time": "2023-08-22T12:32:33.609Z"
   },
   {
    "duration": 12,
    "start_time": "2023-08-22T12:32:46.739Z"
   },
   {
    "duration": 10,
    "start_time": "2023-08-22T12:32:50.751Z"
   },
   {
    "duration": 235,
    "start_time": "2023-08-22T12:33:07.762Z"
   },
   {
    "duration": 10,
    "start_time": "2023-08-22T12:33:14.164Z"
   },
   {
    "duration": 11,
    "start_time": "2023-08-22T12:33:28.860Z"
   },
   {
    "duration": 3,
    "start_time": "2023-08-22T12:33:36.005Z"
   },
   {
    "duration": 402,
    "start_time": "2023-08-22T12:33:36.017Z"
   },
   {
    "duration": 13,
    "start_time": "2023-08-22T12:33:36.420Z"
   },
   {
    "duration": 16,
    "start_time": "2023-08-22T12:33:36.437Z"
   },
   {
    "duration": 28,
    "start_time": "2023-08-22T12:33:36.454Z"
   },
   {
    "duration": 15,
    "start_time": "2023-08-22T12:33:36.484Z"
   },
   {
    "duration": 37,
    "start_time": "2023-08-22T12:33:36.501Z"
   },
   {
    "duration": 36,
    "start_time": "2023-08-22T12:33:36.542Z"
   },
   {
    "duration": 23,
    "start_time": "2023-08-22T12:33:36.580Z"
   },
   {
    "duration": 10,
    "start_time": "2023-08-22T12:33:36.607Z"
   },
   {
    "duration": 18,
    "start_time": "2023-08-22T12:33:36.620Z"
   },
   {
    "duration": 20,
    "start_time": "2023-08-22T12:33:36.640Z"
   },
   {
    "duration": 11,
    "start_time": "2023-08-22T12:33:36.662Z"
   },
   {
    "duration": 6,
    "start_time": "2023-08-22T12:33:36.675Z"
   },
   {
    "duration": 24,
    "start_time": "2023-08-22T12:33:36.683Z"
   },
   {
    "duration": 26,
    "start_time": "2023-08-22T12:33:36.716Z"
   },
   {
    "duration": 4,
    "start_time": "2023-08-22T12:33:36.748Z"
   },
   {
    "duration": 49,
    "start_time": "2023-08-22T12:33:36.754Z"
   },
   {
    "duration": 40,
    "start_time": "2023-08-22T12:33:36.805Z"
   },
   {
    "duration": 11,
    "start_time": "2023-08-22T12:33:36.849Z"
   },
   {
    "duration": 40,
    "start_time": "2023-08-22T12:33:36.862Z"
   },
   {
    "duration": 39,
    "start_time": "2023-08-22T12:33:36.904Z"
   },
   {
    "duration": 38,
    "start_time": "2023-08-22T12:33:36.948Z"
   },
   {
    "duration": 14,
    "start_time": "2023-08-22T12:33:36.989Z"
   },
   {
    "duration": 39,
    "start_time": "2023-08-22T12:33:37.004Z"
   },
   {
    "duration": 25,
    "start_time": "2023-08-22T12:33:37.044Z"
   },
   {
    "duration": 14,
    "start_time": "2023-08-22T12:33:37.071Z"
   },
   {
    "duration": 49,
    "start_time": "2023-08-22T12:33:37.090Z"
   },
   {
    "duration": 16,
    "start_time": "2023-08-22T12:33:37.141Z"
   },
   {
    "duration": 15,
    "start_time": "2023-08-22T12:33:37.159Z"
   },
   {
    "duration": 9,
    "start_time": "2023-08-22T12:33:37.176Z"
   },
   {
    "duration": 57,
    "start_time": "2023-08-22T12:33:37.187Z"
   },
   {
    "duration": 21,
    "start_time": "2023-08-22T12:33:37.246Z"
   },
   {
    "duration": 52,
    "start_time": "2023-08-22T12:33:37.269Z"
   },
   {
    "duration": 32,
    "start_time": "2023-08-22T12:33:37.325Z"
   },
   {
    "duration": 11,
    "start_time": "2023-08-22T12:33:37.359Z"
   },
   {
    "duration": 104,
    "start_time": "2023-08-22T12:33:37.371Z"
   },
   {
    "duration": 10,
    "start_time": "2023-08-22T12:33:37.476Z"
   },
   {
    "duration": 92,
    "start_time": "2023-08-22T12:33:37.488Z"
   },
   {
    "duration": 57,
    "start_time": "2023-08-22T12:33:37.581Z"
   },
   {
    "duration": 20,
    "start_time": "2023-08-22T12:33:37.645Z"
   },
   {
    "duration": 16,
    "start_time": "2023-08-22T12:33:37.667Z"
   },
   {
    "duration": 43,
    "start_time": "2023-08-22T12:33:37.685Z"
   },
   {
    "duration": 2,
    "start_time": "2023-08-22T12:33:37.738Z"
   },
   {
    "duration": 33,
    "start_time": "2023-08-22T12:33:37.742Z"
   },
   {
    "duration": 21,
    "start_time": "2023-08-22T12:33:37.777Z"
   },
   {
    "duration": 2,
    "start_time": "2023-08-22T12:33:37.800Z"
   },
   {
    "duration": 28,
    "start_time": "2023-08-22T12:33:37.804Z"
   },
   {
    "duration": 17,
    "start_time": "2023-08-22T12:33:37.833Z"
   },
   {
    "duration": 9,
    "start_time": "2023-08-22T12:33:37.853Z"
   },
   {
    "duration": 19,
    "start_time": "2023-08-22T12:33:37.864Z"
   },
   {
    "duration": 59,
    "start_time": "2023-08-22T12:33:37.885Z"
   },
   {
    "duration": 25,
    "start_time": "2023-08-22T12:33:37.954Z"
   },
   {
    "duration": 5,
    "start_time": "2023-08-22T12:33:37.981Z"
   },
   {
    "duration": 9,
    "start_time": "2023-08-22T12:33:37.987Z"
   },
   {
    "duration": 53,
    "start_time": "2023-08-22T12:33:37.997Z"
   },
   {
    "duration": 23,
    "start_time": "2023-08-22T12:33:38.052Z"
   },
   {
    "duration": 11,
    "start_time": "2023-08-22T12:33:41.139Z"
   },
   {
    "duration": 11,
    "start_time": "2023-08-22T12:34:06.964Z"
   },
   {
    "duration": 5,
    "start_time": "2023-08-22T12:34:20.668Z"
   },
   {
    "duration": 5,
    "start_time": "2023-08-22T12:34:41.947Z"
   },
   {
    "duration": 3,
    "start_time": "2023-08-22T12:35:01.637Z"
   },
   {
    "duration": 10,
    "start_time": "2023-08-22T12:35:09.006Z"
   },
   {
    "duration": 890,
    "start_time": "2023-08-22T12:35:14.645Z"
   },
   {
    "duration": 373,
    "start_time": "2023-08-22T12:35:15.543Z"
   },
   {
    "duration": 19,
    "start_time": "2023-08-22T12:35:15.918Z"
   },
   {
    "duration": 43,
    "start_time": "2023-08-22T12:35:15.939Z"
   },
   {
    "duration": 9,
    "start_time": "2023-08-22T12:35:15.984Z"
   },
   {
    "duration": 10,
    "start_time": "2023-08-22T12:35:15.995Z"
   },
   {
    "duration": 30,
    "start_time": "2023-08-22T12:35:16.007Z"
   },
   {
    "duration": 5,
    "start_time": "2023-08-22T12:35:16.047Z"
   },
   {
    "duration": 9,
    "start_time": "2023-08-22T12:35:16.054Z"
   },
   {
    "duration": 6,
    "start_time": "2023-08-22T12:35:16.065Z"
   },
   {
    "duration": 8,
    "start_time": "2023-08-22T12:35:16.073Z"
   },
   {
    "duration": 22,
    "start_time": "2023-08-22T12:35:16.083Z"
   },
   {
    "duration": 35,
    "start_time": "2023-08-22T12:35:16.107Z"
   },
   {
    "duration": 7,
    "start_time": "2023-08-22T12:35:16.146Z"
   },
   {
    "duration": 8,
    "start_time": "2023-08-22T12:35:16.155Z"
   },
   {
    "duration": 9,
    "start_time": "2023-08-22T12:35:16.165Z"
   },
   {
    "duration": 5,
    "start_time": "2023-08-22T12:35:16.176Z"
   },
   {
    "duration": 65,
    "start_time": "2023-08-22T12:35:16.183Z"
   },
   {
    "duration": 11,
    "start_time": "2023-08-22T12:35:16.251Z"
   },
   {
    "duration": 14,
    "start_time": "2023-08-22T12:35:16.264Z"
   },
   {
    "duration": 49,
    "start_time": "2023-08-22T12:35:16.280Z"
   },
   {
    "duration": 24,
    "start_time": "2023-08-22T12:35:16.335Z"
   },
   {
    "duration": 380,
    "start_time": "2023-08-22T12:35:16.361Z"
   },
   {
    "duration": 16,
    "start_time": "2023-08-22T12:35:16.746Z"
   },
   {
    "duration": 12,
    "start_time": "2023-08-22T12:35:16.763Z"
   },
   {
    "duration": 22,
    "start_time": "2023-08-22T12:35:16.777Z"
   },
   {
    "duration": 37,
    "start_time": "2023-08-22T12:35:16.801Z"
   },
   {
    "duration": 29,
    "start_time": "2023-08-22T12:35:16.843Z"
   },
   {
    "duration": 9,
    "start_time": "2023-08-22T12:35:16.874Z"
   },
   {
    "duration": 21,
    "start_time": "2023-08-22T12:35:16.886Z"
   },
   {
    "duration": 25,
    "start_time": "2023-08-22T12:35:16.909Z"
   },
   {
    "duration": 20,
    "start_time": "2023-08-22T12:35:16.936Z"
   },
   {
    "duration": 26,
    "start_time": "2023-08-22T12:35:16.958Z"
   },
   {
    "duration": 72,
    "start_time": "2023-08-22T12:35:16.986Z"
   },
   {
    "duration": 23,
    "start_time": "2023-08-22T12:35:17.060Z"
   },
   {
    "duration": 10,
    "start_time": "2023-08-22T12:35:17.084Z"
   },
   {
    "duration": 103,
    "start_time": "2023-08-22T12:35:17.095Z"
   },
   {
    "duration": 45,
    "start_time": "2023-08-22T12:35:17.200Z"
   },
   {
    "duration": 77,
    "start_time": "2023-08-22T12:35:17.250Z"
   },
   {
    "duration": 54,
    "start_time": "2023-08-22T12:35:17.329Z"
   },
   {
    "duration": 41,
    "start_time": "2023-08-22T12:35:17.388Z"
   },
   {
    "duration": 16,
    "start_time": "2023-08-22T12:35:17.435Z"
   },
   {
    "duration": 27,
    "start_time": "2023-08-22T12:35:17.452Z"
   },
   {
    "duration": 2,
    "start_time": "2023-08-22T12:35:17.481Z"
   },
   {
    "duration": 38,
    "start_time": "2023-08-22T12:35:17.486Z"
   },
   {
    "duration": 33,
    "start_time": "2023-08-22T12:35:17.530Z"
   },
   {
    "duration": 3,
    "start_time": "2023-08-22T12:35:17.565Z"
   },
   {
    "duration": 18,
    "start_time": "2023-08-22T12:35:17.570Z"
   },
   {
    "duration": 13,
    "start_time": "2023-08-22T12:35:17.590Z"
   },
   {
    "duration": 28,
    "start_time": "2023-08-22T12:35:17.605Z"
   },
   {
    "duration": 27,
    "start_time": "2023-08-22T12:35:17.637Z"
   },
   {
    "duration": 30,
    "start_time": "2023-08-22T12:35:17.666Z"
   },
   {
    "duration": 52,
    "start_time": "2023-08-22T12:35:17.698Z"
   },
   {
    "duration": 6,
    "start_time": "2023-08-22T12:35:17.754Z"
   },
   {
    "duration": 8,
    "start_time": "2023-08-22T12:35:17.762Z"
   },
   {
    "duration": 12,
    "start_time": "2023-08-22T12:35:17.772Z"
   },
   {
    "duration": 46,
    "start_time": "2023-08-22T12:35:17.786Z"
   },
   {
    "duration": 29,
    "start_time": "2023-08-22T12:35:17.842Z"
   },
   {
    "duration": 5,
    "start_time": "2023-08-22T12:35:17.872Z"
   },
   {
    "duration": 119,
    "start_time": "2023-08-22T12:35:17.879Z"
   },
   {
    "duration": 0,
    "start_time": "2023-08-22T12:35:17.999Z"
   },
   {
    "duration": 3,
    "start_time": "2023-08-22T12:37:39.306Z"
   },
   {
    "duration": 357,
    "start_time": "2023-08-22T12:37:39.312Z"
   },
   {
    "duration": 8,
    "start_time": "2023-08-22T12:37:39.671Z"
   },
   {
    "duration": 12,
    "start_time": "2023-08-22T12:37:39.681Z"
   },
   {
    "duration": 7,
    "start_time": "2023-08-22T12:37:39.695Z"
   },
   {
    "duration": 43,
    "start_time": "2023-08-22T12:37:39.703Z"
   },
   {
    "duration": 11,
    "start_time": "2023-08-22T12:37:39.747Z"
   },
   {
    "duration": 22,
    "start_time": "2023-08-22T12:37:39.760Z"
   },
   {
    "duration": 10,
    "start_time": "2023-08-22T12:37:39.784Z"
   },
   {
    "duration": 8,
    "start_time": "2023-08-22T12:37:39.796Z"
   },
   {
    "duration": 26,
    "start_time": "2023-08-22T12:37:39.807Z"
   },
   {
    "duration": 25,
    "start_time": "2023-08-22T12:37:39.835Z"
   },
   {
    "duration": 13,
    "start_time": "2023-08-22T12:37:39.862Z"
   },
   {
    "duration": 6,
    "start_time": "2023-08-22T12:37:39.877Z"
   },
   {
    "duration": 21,
    "start_time": "2023-08-22T12:37:39.885Z"
   },
   {
    "duration": 10,
    "start_time": "2023-08-22T12:37:39.908Z"
   },
   {
    "duration": 5,
    "start_time": "2023-08-22T12:37:39.921Z"
   },
   {
    "duration": 48,
    "start_time": "2023-08-22T12:37:39.928Z"
   },
   {
    "duration": 11,
    "start_time": "2023-08-22T12:37:39.978Z"
   },
   {
    "duration": 40,
    "start_time": "2023-08-22T12:37:39.990Z"
   },
   {
    "duration": 29,
    "start_time": "2023-08-22T12:37:40.039Z"
   },
   {
    "duration": 20,
    "start_time": "2023-08-22T12:37:40.070Z"
   },
   {
    "duration": 57,
    "start_time": "2023-08-22T12:37:40.091Z"
   },
   {
    "duration": 12,
    "start_time": "2023-08-22T12:37:40.150Z"
   },
   {
    "duration": 16,
    "start_time": "2023-08-22T12:37:40.163Z"
   },
   {
    "duration": 43,
    "start_time": "2023-08-22T12:37:40.181Z"
   },
   {
    "duration": 18,
    "start_time": "2023-08-22T12:37:40.226Z"
   },
   {
    "duration": 26,
    "start_time": "2023-08-22T12:37:40.245Z"
   },
   {
    "duration": 9,
    "start_time": "2023-08-22T12:37:40.276Z"
   },
   {
    "duration": 34,
    "start_time": "2023-08-22T12:37:40.287Z"
   },
   {
    "duration": 16,
    "start_time": "2023-08-22T12:37:40.323Z"
   },
   {
    "duration": 17,
    "start_time": "2023-08-22T12:37:40.342Z"
   },
   {
    "duration": 19,
    "start_time": "2023-08-22T12:37:40.361Z"
   },
   {
    "duration": 83,
    "start_time": "2023-08-22T12:37:40.382Z"
   },
   {
    "duration": 22,
    "start_time": "2023-08-22T12:37:40.467Z"
   },
   {
    "duration": 16,
    "start_time": "2023-08-22T12:37:40.490Z"
   },
   {
    "duration": 96,
    "start_time": "2023-08-22T12:37:40.510Z"
   },
   {
    "duration": 32,
    "start_time": "2023-08-22T12:37:40.608Z"
   },
   {
    "duration": 62,
    "start_time": "2023-08-22T12:37:40.642Z"
   },
   {
    "duration": 57,
    "start_time": "2023-08-22T12:37:40.706Z"
   },
   {
    "duration": 22,
    "start_time": "2023-08-22T12:37:40.765Z"
   },
   {
    "duration": 26,
    "start_time": "2023-08-22T12:37:40.789Z"
   },
   {
    "duration": 41,
    "start_time": "2023-08-22T12:37:40.818Z"
   },
   {
    "duration": 6,
    "start_time": "2023-08-22T12:37:40.861Z"
   },
   {
    "duration": 53,
    "start_time": "2023-08-22T12:37:40.869Z"
   },
   {
    "duration": 21,
    "start_time": "2023-08-22T12:37:40.924Z"
   },
   {
    "duration": 8,
    "start_time": "2023-08-22T12:37:40.947Z"
   },
   {
    "duration": 35,
    "start_time": "2023-08-22T12:37:40.956Z"
   },
   {
    "duration": 14,
    "start_time": "2023-08-22T12:37:40.993Z"
   },
   {
    "duration": 30,
    "start_time": "2023-08-22T12:37:41.012Z"
   },
   {
    "duration": 35,
    "start_time": "2023-08-22T12:37:41.043Z"
   },
   {
    "duration": 50,
    "start_time": "2023-08-22T12:37:41.079Z"
   },
   {
    "duration": 29,
    "start_time": "2023-08-22T12:37:41.134Z"
   },
   {
    "duration": 3,
    "start_time": "2023-08-22T12:37:41.165Z"
   },
   {
    "duration": 20,
    "start_time": "2023-08-22T12:37:41.169Z"
   },
   {
    "duration": 24,
    "start_time": "2023-08-22T12:37:41.191Z"
   },
   {
    "duration": 52,
    "start_time": "2023-08-22T12:37:41.223Z"
   },
   {
    "duration": 19,
    "start_time": "2023-08-22T12:37:41.277Z"
   },
   {
    "duration": 8,
    "start_time": "2023-08-22T12:37:41.298Z"
   },
   {
    "duration": 50,
    "start_time": "2023-08-22T12:37:41.311Z"
   },
   {
    "duration": 109,
    "start_time": "2023-08-22T17:39:01.395Z"
   },
   {
    "duration": 72,
    "start_time": "2023-08-22T17:52:55.021Z"
   },
   {
    "duration": 952,
    "start_time": "2023-08-22T17:53:05.715Z"
   },
   {
    "duration": 1045,
    "start_time": "2023-08-22T17:53:06.671Z"
   },
   {
    "duration": 25,
    "start_time": "2023-08-22T17:53:07.718Z"
   },
   {
    "duration": 19,
    "start_time": "2023-08-22T17:53:07.747Z"
   },
   {
    "duration": 14,
    "start_time": "2023-08-22T17:53:07.775Z"
   },
   {
    "duration": 7,
    "start_time": "2023-08-22T17:53:07.791Z"
   },
   {
    "duration": 12,
    "start_time": "2023-08-22T17:53:07.800Z"
   },
   {
    "duration": 6,
    "start_time": "2023-08-22T17:53:07.814Z"
   },
   {
    "duration": 11,
    "start_time": "2023-08-22T17:53:07.822Z"
   },
   {
    "duration": 9,
    "start_time": "2023-08-22T17:53:07.853Z"
   },
   {
    "duration": 23,
    "start_time": "2023-08-22T17:53:07.864Z"
   },
   {
    "duration": 13,
    "start_time": "2023-08-22T17:53:07.892Z"
   },
   {
    "duration": 14,
    "start_time": "2023-08-22T17:53:07.908Z"
   },
   {
    "duration": 8,
    "start_time": "2023-08-22T17:53:07.925Z"
   },
   {
    "duration": 16,
    "start_time": "2023-08-22T17:53:07.957Z"
   },
   {
    "duration": 9,
    "start_time": "2023-08-22T17:53:07.975Z"
   },
   {
    "duration": 5,
    "start_time": "2023-08-22T17:53:07.986Z"
   },
   {
    "duration": 45,
    "start_time": "2023-08-22T17:53:07.992Z"
   },
   {
    "duration": 37,
    "start_time": "2023-08-22T17:53:08.038Z"
   },
   {
    "duration": 11,
    "start_time": "2023-08-22T17:53:08.077Z"
   },
   {
    "duration": 34,
    "start_time": "2023-08-22T17:53:08.090Z"
   },
   {
    "duration": 34,
    "start_time": "2023-08-22T17:53:08.125Z"
   },
   {
    "duration": 705,
    "start_time": "2023-08-22T17:53:08.160Z"
   },
   {
    "duration": 20,
    "start_time": "2023-08-22T17:53:08.870Z"
   },
   {
    "duration": 38,
    "start_time": "2023-08-22T17:53:08.891Z"
   },
   {
    "duration": 24,
    "start_time": "2023-08-22T17:53:08.931Z"
   },
   {
    "duration": 18,
    "start_time": "2023-08-22T17:53:08.957Z"
   },
   {
    "duration": 35,
    "start_time": "2023-08-22T17:53:08.983Z"
   },
   {
    "duration": 9,
    "start_time": "2023-08-22T17:53:09.020Z"
   },
   {
    "duration": 28,
    "start_time": "2023-08-22T17:53:09.056Z"
   },
   {
    "duration": 125,
    "start_time": "2023-08-22T17:53:09.086Z"
   },
   {
    "duration": 9,
    "start_time": "2023-08-22T17:53:09.213Z"
   },
   {
    "duration": 34,
    "start_time": "2023-08-22T17:53:09.224Z"
   },
   {
    "duration": 30,
    "start_time": "2023-08-22T17:53:09.265Z"
   },
   {
    "duration": 79,
    "start_time": "2023-08-22T17:53:09.298Z"
   },
   {
    "duration": 27,
    "start_time": "2023-08-22T17:53:09.379Z"
   },
   {
    "duration": 10,
    "start_time": "2023-08-22T17:53:09.408Z"
   },
   {
    "duration": 119,
    "start_time": "2023-08-22T17:53:09.419Z"
   },
   {
    "duration": 33,
    "start_time": "2023-08-22T17:53:09.540Z"
   },
   {
    "duration": 66,
    "start_time": "2023-08-22T17:53:09.577Z"
   },
   {
    "duration": 52,
    "start_time": "2023-08-22T17:53:09.645Z"
   },
   {
    "duration": 20,
    "start_time": "2023-08-22T17:53:09.699Z"
   },
   {
    "duration": 46,
    "start_time": "2023-08-22T17:53:09.721Z"
   },
   {
    "duration": 26,
    "start_time": "2023-08-22T17:53:09.769Z"
   },
   {
    "duration": 4,
    "start_time": "2023-08-22T17:53:09.796Z"
   },
   {
    "duration": 31,
    "start_time": "2023-08-22T17:53:09.803Z"
   },
   {
    "duration": 42,
    "start_time": "2023-08-22T17:53:09.836Z"
   },
   {
    "duration": 3,
    "start_time": "2023-08-22T17:53:09.879Z"
   },
   {
    "duration": 17,
    "start_time": "2023-08-22T17:53:09.884Z"
   },
   {
    "duration": 9,
    "start_time": "2023-08-22T17:53:09.904Z"
   },
   {
    "duration": 44,
    "start_time": "2023-08-22T17:53:09.915Z"
   },
   {
    "duration": 20,
    "start_time": "2023-08-22T17:53:09.961Z"
   },
   {
    "duration": 31,
    "start_time": "2023-08-22T17:53:09.983Z"
   },
   {
    "duration": 62,
    "start_time": "2023-08-22T17:53:10.016Z"
   },
   {
    "duration": 8,
    "start_time": "2023-08-22T17:53:10.080Z"
   },
   {
    "duration": 9,
    "start_time": "2023-08-22T17:53:10.090Z"
   },
   {
    "duration": 62,
    "start_time": "2023-08-22T17:53:10.101Z"
   },
   {
    "duration": 23,
    "start_time": "2023-08-22T17:53:10.165Z"
   },
   {
    "duration": 7,
    "start_time": "2023-08-22T17:53:10.191Z"
   },
   {
    "duration": 32,
    "start_time": "2023-08-22T17:53:10.199Z"
   },
   {
    "duration": 183,
    "start_time": "2023-08-22T17:53:38.569Z"
   },
   {
    "duration": 182,
    "start_time": "2023-08-22T17:53:51.306Z"
   },
   {
    "duration": 117,
    "start_time": "2023-08-22T17:53:58.780Z"
   },
   {
    "duration": 161,
    "start_time": "2023-08-22T17:55:08.846Z"
   },
   {
    "duration": 163,
    "start_time": "2023-08-22T17:57:12.120Z"
   },
   {
    "duration": 132,
    "start_time": "2023-08-22T17:57:37.554Z"
   },
   {
    "duration": 12,
    "start_time": "2023-08-22T18:01:17.795Z"
   },
   {
    "duration": 9,
    "start_time": "2023-08-22T18:01:41.926Z"
   },
   {
    "duration": 10,
    "start_time": "2023-08-22T18:01:53.118Z"
   },
   {
    "duration": 75,
    "start_time": "2023-08-22T18:05:06.433Z"
   },
   {
    "duration": 57,
    "start_time": "2023-08-22T18:05:09.383Z"
   },
   {
    "duration": 2091,
    "start_time": "2023-08-22T18:05:15.736Z"
   },
   {
    "duration": 2001,
    "start_time": "2023-08-22T18:05:20.869Z"
   },
   {
    "duration": 220,
    "start_time": "2023-08-22T18:06:10.926Z"
   },
   {
    "duration": 165,
    "start_time": "2023-08-22T18:06:27.251Z"
   },
   {
    "duration": 155,
    "start_time": "2023-08-22T18:06:36.252Z"
   },
   {
    "duration": 128,
    "start_time": "2023-08-22T18:08:16.105Z"
   },
   {
    "duration": 83,
    "start_time": "2023-08-22T18:08:20.486Z"
   },
   {
    "duration": 156,
    "start_time": "2023-08-22T18:09:11.016Z"
   },
   {
    "duration": 129,
    "start_time": "2023-08-22T18:09:22.177Z"
   },
   {
    "duration": 126,
    "start_time": "2023-08-22T18:18:18.644Z"
   },
   {
    "duration": 104,
    "start_time": "2023-08-22T18:18:59.453Z"
   },
   {
    "duration": 165,
    "start_time": "2023-08-22T18:19:55.074Z"
   },
   {
    "duration": 147,
    "start_time": "2023-08-22T18:20:15.011Z"
   },
   {
    "duration": 155,
    "start_time": "2023-08-22T18:20:23.902Z"
   },
   {
    "duration": 5,
    "start_time": "2023-08-22T18:21:51.905Z"
   },
   {
    "duration": 206,
    "start_time": "2023-08-22T18:24:53.724Z"
   },
   {
    "duration": 334,
    "start_time": "2023-08-22T18:28:05.054Z"
   },
   {
    "duration": 250,
    "start_time": "2023-08-22T18:28:26.824Z"
   },
   {
    "duration": 267,
    "start_time": "2023-08-22T18:28:42.327Z"
   },
   {
    "duration": 258,
    "start_time": "2023-08-22T18:29:13.156Z"
   },
   {
    "duration": 234,
    "start_time": "2023-08-22T18:29:20.726Z"
   },
   {
    "duration": 212,
    "start_time": "2023-08-22T18:29:36.554Z"
   },
   {
    "duration": 14,
    "start_time": "2023-08-22T18:34:03.710Z"
   },
   {
    "duration": 14,
    "start_time": "2023-08-22T18:34:33.523Z"
   },
   {
    "duration": 12,
    "start_time": "2023-08-22T18:35:54.576Z"
   },
   {
    "duration": 51,
    "start_time": "2023-08-22T20:43:59.814Z"
   },
   {
    "duration": 976,
    "start_time": "2023-08-22T20:44:06.478Z"
   },
   {
    "duration": 1081,
    "start_time": "2023-08-22T20:44:07.456Z"
   },
   {
    "duration": 16,
    "start_time": "2023-08-22T20:44:08.539Z"
   },
   {
    "duration": 10,
    "start_time": "2023-08-22T20:44:08.557Z"
   },
   {
    "duration": 9,
    "start_time": "2023-08-22T20:44:08.569Z"
   },
   {
    "duration": 8,
    "start_time": "2023-08-22T20:44:08.580Z"
   },
   {
    "duration": 12,
    "start_time": "2023-08-22T20:44:08.589Z"
   },
   {
    "duration": 5,
    "start_time": "2023-08-22T20:44:08.604Z"
   },
   {
    "duration": 6,
    "start_time": "2023-08-22T20:44:08.612Z"
   },
   {
    "duration": 41,
    "start_time": "2023-08-22T20:44:08.620Z"
   },
   {
    "duration": 12,
    "start_time": "2023-08-22T20:44:08.663Z"
   },
   {
    "duration": 19,
    "start_time": "2023-08-22T20:44:08.677Z"
   },
   {
    "duration": 34,
    "start_time": "2023-08-22T20:44:08.699Z"
   },
   {
    "duration": 29,
    "start_time": "2023-08-22T20:44:08.738Z"
   },
   {
    "duration": 12,
    "start_time": "2023-08-22T20:44:08.769Z"
   },
   {
    "duration": 50,
    "start_time": "2023-08-22T20:44:08.783Z"
   },
   {
    "duration": 5,
    "start_time": "2023-08-22T20:44:08.834Z"
   },
   {
    "duration": 6,
    "start_time": "2023-08-22T20:44:08.855Z"
   },
   {
    "duration": 11,
    "start_time": "2023-08-22T20:44:08.864Z"
   },
   {
    "duration": 38,
    "start_time": "2023-08-22T20:44:08.878Z"
   },
   {
    "duration": 13,
    "start_time": "2023-08-22T20:44:08.918Z"
   },
   {
    "duration": 42,
    "start_time": "2023-08-22T20:44:08.933Z"
   },
   {
    "duration": 55,
    "start_time": "2023-08-22T20:44:08.978Z"
   },
   {
    "duration": 42,
    "start_time": "2023-08-22T20:44:09.037Z"
   },
   {
    "duration": 614,
    "start_time": "2023-08-22T20:44:09.082Z"
   },
   {
    "duration": 13,
    "start_time": "2023-08-22T20:44:09.698Z"
   },
   {
    "duration": 11,
    "start_time": "2023-08-22T20:44:09.713Z"
   },
   {
    "duration": 50,
    "start_time": "2023-08-22T20:44:09.726Z"
   },
   {
    "duration": 14,
    "start_time": "2023-08-22T20:44:09.778Z"
   },
   {
    "duration": 26,
    "start_time": "2023-08-22T20:44:09.793Z"
   },
   {
    "duration": 10,
    "start_time": "2023-08-22T20:44:09.820Z"
   },
   {
    "duration": 39,
    "start_time": "2023-08-22T20:44:09.832Z"
   },
   {
    "duration": 146,
    "start_time": "2023-08-22T20:44:09.873Z"
   },
   {
    "duration": 13,
    "start_time": "2023-08-22T20:44:10.022Z"
   },
   {
    "duration": 43,
    "start_time": "2023-08-22T20:44:10.037Z"
   },
   {
    "duration": 28,
    "start_time": "2023-08-22T20:44:10.082Z"
   },
   {
    "duration": 16,
    "start_time": "2023-08-22T20:44:10.113Z"
   },
   {
    "duration": 87,
    "start_time": "2023-08-22T20:44:10.131Z"
   },
   {
    "duration": 23,
    "start_time": "2023-08-22T20:44:10.220Z"
   },
   {
    "duration": 25,
    "start_time": "2023-08-22T20:44:10.245Z"
   },
   {
    "duration": 99,
    "start_time": "2023-08-22T20:44:10.275Z"
   },
   {
    "duration": 12,
    "start_time": "2023-08-22T20:44:10.375Z"
   },
   {
    "duration": 95,
    "start_time": "2023-08-22T20:44:10.389Z"
   },
   {
    "duration": 58,
    "start_time": "2023-08-22T20:44:10.486Z"
   },
   {
    "duration": 28,
    "start_time": "2023-08-22T20:44:10.560Z"
   },
   {
    "duration": 20,
    "start_time": "2023-08-22T20:44:10.590Z"
   },
   {
    "duration": 49,
    "start_time": "2023-08-22T20:44:10.613Z"
   },
   {
    "duration": 3,
    "start_time": "2023-08-22T20:44:10.664Z"
   },
   {
    "duration": 30,
    "start_time": "2023-08-22T20:44:10.668Z"
   },
   {
    "duration": 22,
    "start_time": "2023-08-22T20:44:10.700Z"
   },
   {
    "duration": 3,
    "start_time": "2023-08-22T20:44:10.725Z"
   },
   {
    "duration": 21,
    "start_time": "2023-08-22T20:44:10.758Z"
   },
   {
    "duration": 17,
    "start_time": "2023-08-22T20:44:10.782Z"
   },
   {
    "duration": 12,
    "start_time": "2023-08-22T20:44:10.802Z"
   },
   {
    "duration": 14,
    "start_time": "2023-08-22T20:44:10.817Z"
   },
   {
    "duration": 48,
    "start_time": "2023-08-22T20:44:10.863Z"
   },
   {
    "duration": 28,
    "start_time": "2023-08-22T20:44:10.914Z"
   },
   {
    "duration": 7,
    "start_time": "2023-08-22T20:44:10.958Z"
   },
   {
    "duration": 7,
    "start_time": "2023-08-22T20:44:10.968Z"
   },
   {
    "duration": 26,
    "start_time": "2023-08-22T20:44:10.976Z"
   },
   {
    "duration": 23,
    "start_time": "2023-08-22T20:44:11.005Z"
   },
   {
    "duration": 7,
    "start_time": "2023-08-22T20:44:11.060Z"
   },
   {
    "duration": 32,
    "start_time": "2023-08-22T20:44:11.069Z"
   },
   {
    "duration": 71,
    "start_time": "2023-08-22T20:45:39.932Z"
   },
   {
    "duration": 77,
    "start_time": "2023-08-22T20:45:48.738Z"
   },
   {
    "duration": 101,
    "start_time": "2023-08-22T20:46:28.333Z"
   }
  ],
  "kernelspec": {
   "display_name": "Python 3 (ipykernel)",
   "language": "python",
   "name": "python3"
  },
  "language_info": {
   "codemirror_mode": {
    "name": "ipython",
    "version": 3
   },
   "file_extension": ".py",
   "mimetype": "text/x-python",
   "name": "python",
   "nbconvert_exporter": "python",
   "pygments_lexer": "ipython3",
   "version": "3.9.13"
  },
  "toc": {
   "base_numbering": 1,
   "nav_menu": {},
   "number_sections": true,
   "sideBar": true,
   "skip_h1_title": true,
   "title_cell": "Table of Contents",
   "title_sidebar": "Contents",
   "toc_cell": false,
   "toc_position": {
    "height": "calc(100% - 180px)",
    "left": "10px",
    "top": "150px",
    "width": "371px"
   },
   "toc_section_display": true,
   "toc_window_display": true
  }
 },
 "nbformat": 4,
 "nbformat_minor": 2
}
